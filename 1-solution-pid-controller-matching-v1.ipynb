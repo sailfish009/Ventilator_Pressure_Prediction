{
 "cells": [
  {
   "cell_type": "markdown",
   "id": "8366cc7c",
   "metadata": {
    "papermill": {
     "duration": 0.038898,
     "end_time": "2021-11-11T09:45:29.059431",
     "exception": false,
     "start_time": "2021-11-11T09:45:29.020533",
     "status": "completed"
    },
    "tags": []
   },
   "source": [
    "# PID Controller Matching\n",
    "\n",
    "In this notebook we will demonstrate how we went about matching 66% of the test data by inverting PID controllers. Most of the `u_in` trajectories in the data were sampled according to a PID controller and the pressure is quite deterministic as the lung used for testing was mechanical. Therefore, if we can find pressure values that, when plugged into the PID formulas, perfectly calculate to our provided `u_in`, we have a perfect match.\n",
    "\n",
    "A PID controller is used in physical system to manipulate a controllable variable in order to keep another measureable variable around a certain target value. In our case, `u_in` is the controllable variable and `pressure` is the measureable variable. The \"vanilla\" formula of a PID (Proportional - Integral - Derivative) controller can be found in [the paper of the organizers](https://arxiv.org/pdf/2102.06779.pdf) in section 2:\n",
    "\n",
    "$u_t = \\alpha \\epsilon_t + \\beta \\sum^k_{i=0}\\epsilon_{t-i} + \\gamma(\\epsilon_t - \\epsilon_{t-1})$\n",
    "\n",
    "Here, $u_t$ is the controllable variable and corresponds to the `u_in` value at time $t$. $\\epsilon_t$ corresponds to the **Proportional** term and is equal to $target - p_t$ with $p_t$ the `pressure` at time $t$. $\\sum^k_{i=0}\\epsilon_{t-i}$ corresponds to the **Integral** term and $\\epsilon_t - \\epsilon_{t-1}$ the **Derivative** term. $target, \\alpha, \\beta, \\gamma$ are tuneable parameters."
   ]
  },
  {
   "cell_type": "code",
   "execution_count": 1,
   "id": "edfdbd86",
   "metadata": {
    "execution": {
     "iopub.execute_input": "2021-11-11T09:45:29.141298Z",
     "iopub.status.busy": "2021-11-11T09:45:29.140210Z",
     "iopub.status.idle": "2021-11-11T09:45:30.062812Z",
     "shell.execute_reply": "2021-11-11T09:45:30.062174Z",
     "shell.execute_reply.started": "2021-11-08T16:12:02.203144Z"
    },
    "papermill": {
     "duration": 0.964734,
     "end_time": "2021-11-11T09:45:30.062979",
     "exception": false,
     "start_time": "2021-11-11T09:45:29.098245",
     "status": "completed"
    },
    "tags": []
   },
   "outputs": [],
   "source": [
    "import pandas as pd\n",
    "import numpy as np\n",
    "import matplotlib.pyplot as plt\n",
    "import pickle\n",
    "from scipy.stats import mode\n",
    "from collections import defaultdict\n",
    "import itertools\n",
    "from tqdm.notebook import tqdm\n",
    "from sklearn.linear_model import LinearRegression\n",
    "from sklearn.metrics import mean_absolute_error\n",
    "import warnings; warnings.filterwarnings('ignore')"
   ]
  },
  {
   "cell_type": "code",
   "execution_count": 2,
   "id": "0790ee55",
   "metadata": {
    "execution": {
     "iopub.execute_input": "2021-11-11T09:45:30.142812Z",
     "iopub.status.busy": "2021-11-11T09:45:30.142168Z",
     "iopub.status.idle": "2021-11-11T09:45:42.576325Z",
     "shell.execute_reply": "2021-11-11T09:45:42.575431Z",
     "shell.execute_reply.started": "2021-11-08T16:12:03.324095Z"
    },
    "papermill": {
     "duration": 12.475373,
     "end_time": "2021-11-11T09:45:42.576465",
     "exception": false,
     "start_time": "2021-11-11T09:45:30.101092",
     "status": "completed"
    },
    "tags": []
   },
   "outputs": [],
   "source": [
    "train = pd.read_csv('../input/ventilator-pressure-prediction/train.csv', index_col=['id'])\n",
    "test = pd.read_csv('../input/ventilator-pressure-prediction/test.csv', index_col=['id'])"
   ]
  },
  {
   "cell_type": "code",
   "execution_count": 3,
   "id": "a38b2050",
   "metadata": {
    "execution": {
     "iopub.execute_input": "2021-11-11T09:45:42.656480Z",
     "iopub.status.busy": "2021-11-11T09:45:42.655892Z",
     "iopub.status.idle": "2021-11-11T09:45:42.658861Z",
     "shell.execute_reply": "2021-11-11T09:45:42.658373Z",
     "shell.execute_reply.started": "2021-11-08T16:12:17.181743Z"
    },
    "papermill": {
     "duration": 0.044242,
     "end_time": "2021-11-11T09:45:42.658992",
     "exception": false,
     "start_time": "2021-11-11T09:45:42.614750",
     "status": "completed"
    },
    "tags": []
   },
   "outputs": [],
   "source": [
    "MAX_PRESSURE  = PRESSURE_MAX  = 64.82099173863328\n",
    "MIN_PRESSURE  = PRESSURE_MIN  = -1.895744294564641\n",
    "DIFF_PRESSURE = PRESSURE_STEP = 0.0703021454512\n",
    "MIN_PRESSURE2 = PRESSURE_MIN2 = MIN_PRESSURE + DIFF_PRESSURE"
   ]
  },
  {
   "cell_type": "code",
   "execution_count": 4,
   "id": "97418950",
   "metadata": {
    "execution": {
     "iopub.execute_input": "2021-11-11T09:45:42.738584Z",
     "iopub.status.busy": "2021-11-11T09:45:42.737991Z",
     "iopub.status.idle": "2021-11-11T09:45:49.192345Z",
     "shell.execute_reply": "2021-11-11T09:45:49.191706Z",
     "shell.execute_reply.started": "2021-11-08T16:12:17.187191Z"
    },
    "papermill": {
     "duration": 6.496302,
     "end_time": "2021-11-11T09:45:49.192481",
     "exception": false,
     "start_time": "2021-11-11T09:45:42.696179",
     "status": "completed"
    },
    "tags": []
   },
   "outputs": [],
   "source": [
    "# We will be filling our matches in a submission that scores CV=0.1406 (single LSTM model)\n",
    "# You can plug in your own submission here as well.\n",
    "train_preds = pd.read_csv('../input/ventilator-foggy/oofs_foggy_0.1406.csv', index_col=['id'])\n",
    "test_preds = pd.read_csv('../input/ventilator-foggy/pred_foggy_0.1406.csv', index_col=['id'])"
   ]
  },
  {
   "cell_type": "code",
   "execution_count": 5,
   "id": "27b413f4",
   "metadata": {
    "execution": {
     "iopub.execute_input": "2021-11-11T09:45:49.326768Z",
     "iopub.status.busy": "2021-11-11T09:45:49.326197Z",
     "iopub.status.idle": "2021-11-11T09:45:49.537986Z",
     "shell.execute_reply": "2021-11-11T09:45:49.537383Z",
     "shell.execute_reply.started": "2021-11-08T16:12:22.663352Z"
    },
    "papermill": {
     "duration": 0.308337,
     "end_time": "2021-11-11T09:45:49.538179",
     "exception": false,
     "start_time": "2021-11-11T09:45:49.229842",
     "status": "completed"
    },
    "tags": []
   },
   "outputs": [
    {
     "name": "stdout",
     "output_type": "stream",
     "text": [
      "MAE = 0.14066919317901422\n"
     ]
    }
   ],
   "source": [
    "print(f'MAE = {mean_absolute_error(train[train[\"u_out\"] == 0][\"pressure\"], train_preds[train[\"u_out\"] == 0][\"pressure\"])}')"
   ]
  },
  {
   "cell_type": "markdown",
   "id": "47889825",
   "metadata": {
    "papermill": {
     "duration": 0.036788,
     "end_time": "2021-11-11T09:45:49.612735",
     "exception": false,
     "start_time": "2021-11-11T09:45:49.575947",
     "status": "completed"
    },
    "tags": []
   },
   "source": [
    "# 1. P-Controllers\n",
    "\n",
    "Let us first take a look at the easiest case: PID Controllers with `I = 0` and `D = 0`. The formula from above simplifies to:\n",
    "\n",
    "$u_t = \\alpha \\epsilon_t$\n",
    "\n",
    "This is just a 1-dimensional Linear Regression model with $u_t$ the dependent variable, $\\epsilon_t = target - p_t$ the dependent variable and $alpha$ the only weight of our 1D model. However, we are interested in predicting $p_t$ and not $u_t$, so let's rewrite this equation:\n",
    "\n",
    "$u_t = \\alpha (target - p_t) \\iff \\frac{u_t}{\\alpha} = target - p_t \\iff p_t = target - \\frac{u_t}{\\alpha}$.\n",
    "\n",
    "$\\alpha$ and $target$ are tunable parameters. **In this competition, there are only a discrete number of possibilities for these parameters.** There are two ways to find these: \n",
    "* yeet them from the appendix of the paper \n",
    "* Run the commented code below, which fits linear regression models using training pressure & u_in. It takes roughly 10 minutes.\n",
    "\n",
    "**Important note:** both the first value and all values of the expiratory phase of every breath are noisy. Discard these!"
   ]
  },
  {
   "cell_type": "code",
   "execution_count": 6,
   "id": "e3478acb",
   "metadata": {
    "execution": {
     "iopub.execute_input": "2021-11-11T09:45:49.691386Z",
     "iopub.status.busy": "2021-11-11T09:45:49.690786Z",
     "iopub.status.idle": "2021-11-11T09:45:49.694212Z",
     "shell.execute_reply": "2021-11-11T09:45:49.694600Z",
     "shell.execute_reply.started": "2021-11-08T16:12:22.947397Z"
    },
    "papermill": {
     "duration": 0.04466,
     "end_time": "2021-11-11T09:45:49.694775",
     "exception": false,
     "start_time": "2021-11-11T09:45:49.650115",
     "status": "completed"
    },
    "tags": []
   },
   "outputs": [],
   "source": [
    "# kts, kps = set(), set()\n",
    "# for breath in tqdm(train['breath_id'].unique()):\n",
    "#     breath_df = train[train['breath_id'] == breath]\n",
    "#     in_len = np.sum(1 - breath_df['u_out'].values)\n",
    "#     X = breath_df['u_in'].values[1:in_len].reshape((-1, 1))\n",
    "#     y = breath_df['pressure'].values[1:in_len]\n",
    "\n",
    "#     lr = LinearRegression()\n",
    "#     lr.fit(X, y)\n",
    "#     if lr.score(X, y) > 0.9999:\n",
    "#         print(lr.intercept_, lr.coef_[0])\n",
    "#         kts.add(lr.intercept_)\n",
    "#         kps.add(lr.coef_[0])"
   ]
  },
  {
   "cell_type": "markdown",
   "id": "cf24609b",
   "metadata": {
    "papermill": {
     "duration": 0.038197,
     "end_time": "2021-11-11T09:45:49.770418",
     "exception": false,
     "start_time": "2021-11-11T09:45:49.732221",
     "status": "completed"
    },
    "tags": []
   },
   "source": [
    "## Parameters\n",
    "\n",
    "The parameters are the following:\n",
    "\n",
    "* $\\alpha$, or referred to as $k_p$ in the code: $[0.0, 0.1, 0.2, 0.3, 0.4, 0.5, 0.6, 0.7, 0.8, 0.9, 1.0, 2.0, 3.0, 4.0, 5.0, 6.0, 7.0, 8.0, 9.0, 10.0]$\n",
    "* $target$, or referred to as $k_t$ in the code: $[10, 15, 20, 25, 30, 35]$\n",
    "\n",
    "PS: $\\beta$ will have the same possible parameter values later on.\n",
    "\n",
    "Let's show the matching on one breath."
   ]
  },
  {
   "cell_type": "code",
   "execution_count": 7,
   "id": "6c9024df",
   "metadata": {
    "execution": {
     "iopub.execute_input": "2021-11-11T09:45:49.848650Z",
     "iopub.status.busy": "2021-11-11T09:45:49.848025Z",
     "iopub.status.idle": "2021-11-11T09:45:50.306696Z",
     "shell.execute_reply": "2021-11-11T09:45:50.307136Z",
     "shell.execute_reply.started": "2021-11-08T16:12:22.954026Z"
    },
    "papermill": {
     "duration": 0.499308,
     "end_time": "2021-11-11T09:45:50.307305",
     "exception": false,
     "start_time": "2021-11-11T09:45:49.807997",
     "status": "completed"
    },
    "tags": []
   },
   "outputs": [
    {
     "name": "stdout",
     "output_type": "stream",
     "text": [
      "Found match! 25 0.8\n"
     ]
    },
    {
     "data": {
      "image/png": "[encoded data removed]",
      "text/plain": [
       "<Figure size 1296x288 with 2 Axes>"
      ]
     },
     "metadata": {
      "needs_background": "light"
     },
     "output_type": "display_data"
    }
   ],
   "source": [
    "breath = train[train['breath_id'] == 2]\n",
    "in_len = np.sum(1 - breath['u_out'])\n",
    "pressure = breath['pressure'].values[1:in_len]\n",
    "u_in = breath['u_in'].values[1:in_len]\n",
    "\n",
    "found_kt, found_kp = None, None\n",
    "for kt in [10, 15, 20, 25, 30, 35]:\n",
    "    for kp in [0.1, 0.2, 0.3, 0.4, 0.5, 0.6, 0.7, 0.8, 0.9, 1.0, 2.0, 3.0, 4.0, 5.0, 6.0, 7.0, 8.0, 9.0, 10.0]:\n",
    "        u_in_pred = kp * (kt - pressure)\n",
    "        if np.sum(np.abs(u_in - u_in_pred)) < 1e-10:\n",
    "            print('Found match!', kt, kp)\n",
    "            found_kt = kt\n",
    "            found_kp = kp\n",
    "            \n",
    "f, ax = plt.subplots(1, 2, figsize=(18, 4))\n",
    "ax[0].plot(u_in, c='b', alpha=0.5, label='u_in')\n",
    "ax[0].plot(found_kp * (found_kt - pressure), c='r', alpha=0.5, label='u_in_hat')\n",
    "ax[0].legend()\n",
    "ax[0].set_title('pressure -> u_in')\n",
    "\n",
    "ax[1].plot(pressure, c='b', alpha=0.5, label='pressure')\n",
    "ax[1].plot(found_kt - (u_in / found_kp), c='r', alpha=0.5, label='pressure_hat')\n",
    "ax[1].legend()\n",
    "ax[1].set_title('u_in -> pressure')\n",
    "\n",
    "plt.show()"
   ]
  },
  {
   "cell_type": "markdown",
   "id": "5b5eee51",
   "metadata": {
    "papermill": {
     "duration": 0.03869,
     "end_time": "2021-11-11T09:45:50.384964",
     "exception": false,
     "start_time": "2021-11-11T09:45:50.346274",
     "status": "completed"
    },
    "tags": []
   },
   "source": [
    "## Matching algorithm\n",
    "\n",
    "However, we used pressure for this code. Of course, we do not have pressures for our test data. We are still able to do our matching by exploiting the discrete nature of the pressure values. If we are able to find a $k_t$ and $k_p$ parameter such that our formula calculates to values that perfectly align with the discrete pressure values, we have a match. The alignment with the discrete pressure values can be calculated as follows:\n",
    "\n",
    "$p_{ROUND} = \\frac{\\hat{p} - p_{MIN}}{p_{STEP}}$\n",
    "\n",
    "$error = \\sum | \\lfloor p_{ROUND} + 0.5 \\rfloor - p_{ROUND} |$\n",
    "\n",
    "With $\\lfloor p_{ROUND} + 0.5 \\rfloor$ a rounding operator (`np.round(.)`)"
   ]
  },
  {
   "cell_type": "code",
   "execution_count": 8,
   "id": "1db792fa",
   "metadata": {
    "execution": {
     "iopub.execute_input": "2021-11-11T09:45:50.473856Z",
     "iopub.status.busy": "2021-11-11T09:45:50.472869Z",
     "iopub.status.idle": "2021-11-11T09:45:50.673366Z",
     "shell.execute_reply": "2021-11-11T09:45:50.673818Z",
     "shell.execute_reply.started": "2021-11-08T16:12:23.506483Z"
    },
    "papermill": {
     "duration": 0.250276,
     "end_time": "2021-11-11T09:45:50.673992",
     "exception": false,
     "start_time": "2021-11-11T09:45:50.423716",
     "status": "completed"
    },
    "tags": []
   },
   "outputs": [
    {
     "data": {
      "image/png": "[encoded data removed]",
      "text/plain": [
       "<Figure size 432x288 with 1 Axes>"
      ]
     },
     "metadata": {
      "needs_background": "light"
     },
     "output_type": "display_data"
    }
   ],
   "source": [
    "def match_breath(breath):\n",
    "    u_in = breath['u_in'].values\n",
    "    inspiratory_len = np.sum(1 - breath['u_out'])\n",
    "    \n",
    "    u_in = u_in[1:inspiratory_len]\n",
    "    breath_mask = (u_in > 0) & (u_in < 100)\n",
    "    \n",
    "    if np.sum(breath_mask) < 2:\n",
    "        return None, None, None, None\n",
    "        \n",
    "    for kt in [10, 15, 20, 25, 30, 35]:\n",
    "        for kp in [0.1, 0.2, 0.3, 0.4, 0.5, 0.6, 0.7, 0.8, 0.9, 1.0, 2.0, 3.0, 4.0, 5.0, 6.0, 7.0, 8.0, 9.0, 10.0]:\n",
    "            preds = (kt - u_in / kp)\n",
    "            preds_round = (preds-MIN_PRESSURE)/DIFF_PRESSURE\n",
    "            tune_error = np.sum(np.abs(np.round(preds_round[breath_mask]) - \n",
    "                                       preds_round[breath_mask]))\n",
    "            if tune_error < 1e-6:\n",
    "                return preds, kt, kp, breath_mask\n",
    "            \n",
    "    return None, None, None, None\n",
    "\n",
    "breath = train[train['breath_id'] == 2]\n",
    "preds, kt, kp, mask = match_breath(breath)\n",
    "pressure = breath['pressure'].values[1:in_len]\n",
    "\n",
    "plt.figure()\n",
    "plt.plot(pressure[mask], c='b', alpha=0.5, label='pressure')\n",
    "plt.plot(preds[mask], c='r', alpha=0.5, label='pressure_hat')\n",
    "plt.title(f'MAE = {np.mean(np.abs(preds - pressure))}')\n",
    "plt.legend()\n",
    "plt.show()"
   ]
  },
  {
   "cell_type": "markdown",
   "id": "9f65894b",
   "metadata": {
    "papermill": {
     "duration": 0.04154,
     "end_time": "2021-11-11T09:45:50.755122",
     "exception": false,
     "start_time": "2021-11-11T09:45:50.713582",
     "status": "completed"
    },
    "tags": []
   },
   "source": [
    "Let's run this on all our training data to see what the impact is. **I pre-calculated a list of matches to make the notebook run quicker. Of course you can just remove this and let it run over the entire data.**"
   ]
  },
  {
   "cell_type": "code",
   "execution_count": 9,
   "id": "02f575f6",
   "metadata": {
    "execution": {
     "iopub.execute_input": "2021-11-11T09:45:50.841374Z",
     "iopub.status.busy": "2021-11-11T09:45:50.840790Z",
     "iopub.status.idle": "2021-11-11T09:45:50.848483Z",
     "shell.execute_reply": "2021-11-11T09:45:50.848965Z",
     "shell.execute_reply.started": "2021-11-08T16:12:23.734123Z"
    },
    "papermill": {
     "duration": 0.052601,
     "end_time": "2021-11-11T09:45:50.849140",
     "exception": false,
     "start_time": "2021-11-11T09:45:50.796539",
     "status": "completed"
    },
    "tags": []
   },
   "outputs": [],
   "source": [
    "matches = pickle.load(open('../input/ventilator-foggy/p_controller_train_matches.p', 'rb'))"
   ]
  },
  {
   "cell_type": "code",
   "execution_count": 10,
   "id": "1d932728",
   "metadata": {
    "execution": {
     "iopub.execute_input": "2021-11-11T09:45:50.934808Z",
     "iopub.status.busy": "2021-11-11T09:45:50.934173Z",
     "iopub.status.idle": "2021-11-11T09:47:40.646834Z",
     "shell.execute_reply": "2021-11-11T09:47:40.647525Z",
     "shell.execute_reply.started": "2021-11-08T16:12:23.752357Z"
    },
    "papermill": {
     "duration": 109.758583,
     "end_time": "2021-11-11T09:47:40.647802",
     "exception": false,
     "start_time": "2021-11-11T09:45:50.889219",
     "status": "completed"
    },
    "tags": []
   },
   "outputs": [
    {
     "data": {
      "application/vnd.jupyter.widget-view+json": {
       "model_id": "29659e6c59f54169b30613b98df0c1db",
       "version_major": 2,
       "version_minor": 0
      },
      "text/plain": [
       "  0%|          | 0/75450 [00:00<?, ?it/s]"
      ]
     },
     "metadata": {},
     "output_type": "display_data"
    }
   ],
   "source": [
    "train_preds_2 = train_preds.copy()\n",
    "\n",
    "for breath_id in tqdm(train['breath_id'].unique()):\n",
    "    if breath_id not in matches:\n",
    "        continue\n",
    "        \n",
    "    breath = train[train['breath_id'] == breath_id]\n",
    "    preds, kt, kp, mask = match_breath(breath)\n",
    "    ids = breath.index.values[1:1+len(preds)]\n",
    "          \n",
    "    if preds is not None:\n",
    "        train_preds_2.loc[ids[mask], 'pressure'] = preds[mask]"
   ]
  },
  {
   "cell_type": "code",
   "execution_count": 11,
   "id": "64d32dad",
   "metadata": {
    "execution": {
     "iopub.execute_input": "2021-11-11T09:47:40.749730Z",
     "iopub.status.busy": "2021-11-11T09:47:40.748823Z",
     "iopub.status.idle": "2021-11-11T09:47:40.953485Z",
     "shell.execute_reply": "2021-11-11T09:47:40.954121Z",
     "shell.execute_reply.started": "2021-11-08T16:14:45.815825Z"
    },
    "papermill": {
     "duration": 0.2607,
     "end_time": "2021-11-11T09:47:40.954354",
     "exception": false,
     "start_time": "2021-11-11T09:47:40.693654",
     "status": "completed"
    },
    "tags": []
   },
   "outputs": [
    {
     "name": "stdout",
     "output_type": "stream",
     "text": [
      "MAE = 0.13594633279955307\n"
     ]
    }
   ],
   "source": [
    "print(f'MAE = {mean_absolute_error(train[train[\"u_out\"] == 0][\"pressure\"], train_preds_2[train[\"u_out\"] == 0][\"pressure\"])}')"
   ]
  },
  {
   "cell_type": "markdown",
   "id": "2594f253",
   "metadata": {
    "papermill": {
     "duration": 0.039842,
     "end_time": "2021-11-11T09:47:41.038908",
     "exception": false,
     "start_time": "2021-11-11T09:47:40.999066",
     "status": "completed"
    },
    "tags": []
   },
   "source": [
    "**Here's a nice little trick. If we make a cocky assumption that all of our matches are perfect and correct, you can estimate your MAE locally by calculating the difference between the old submission and the new submission.**"
   ]
  },
  {
   "cell_type": "code",
   "execution_count": 12,
   "id": "71b36fce",
   "metadata": {
    "execution": {
     "iopub.execute_input": "2021-11-11T09:47:41.128859Z",
     "iopub.status.busy": "2021-11-11T09:47:41.128232Z",
     "iopub.status.idle": "2021-11-11T09:47:41.657826Z",
     "shell.execute_reply": "2021-11-11T09:47:41.658639Z",
     "shell.execute_reply.started": "2021-11-08T16:14:46.069973Z"
    },
    "papermill": {
     "duration": 0.57995,
     "end_time": "2021-11-11T09:47:41.658907",
     "exception": false,
     "start_time": "2021-11-11T09:47:41.078957",
     "status": "completed"
    },
    "tags": []
   },
   "outputs": [
    {
     "name": "stdout",
     "output_type": "stream",
     "text": [
      "MAE diff = 0.004722860379461152\n",
      "MAE = 0.004722860379461166\n"
     ]
    }
   ],
   "source": [
    "mae1 = mean_absolute_error(train[train[\"u_out\"] == 0][\"pressure\"], train_preds[train[\"u_out\"] == 0][\"pressure\"])\n",
    "mae2 = mean_absolute_error(train[train[\"u_out\"] == 0][\"pressure\"], train_preds_2[train[\"u_out\"] == 0][\"pressure\"])\n",
    "print(f'MAE diff = {mae1 - mae2}')\n",
    "print(f'MAE = {mean_absolute_error(train_preds[train[\"u_out\"] == 0][\"pressure\"], train_preds_2[train[\"u_out\"] == 0][\"pressure\"])}')"
   ]
  },
  {
   "cell_type": "markdown",
   "id": "5ec6cf68",
   "metadata": {
    "papermill": {
     "duration": 0.040184,
     "end_time": "2021-11-11T09:47:41.741295",
     "exception": false,
     "start_time": "2021-11-11T09:47:41.701111",
     "status": "completed"
    },
    "tags": []
   },
   "source": [
    "# 2. PI-Controllers\n",
    "\n",
    "The integral is calculated by a moving average with decay. This is not the usual implementation of a PID controller, and is the reason why it took us that long to get it working.\n",
    "\n",
    "The formula can be found [in this presentation](https://robotics.sjtu.edu.cn/upload/course/1/files/Lecture%2010%20PID-2(1).pdf) on slide 26, or in the [source code of the lung they used](https://github.com/CohenLabPrinceton/pvp/blob/master/pvp/controller/control_module.py).\n",
    "\n",
    "We will rewrite $\\sum^k_{i=0}\\epsilon_{t-i}$ as $I_t$:\n",
    "\n",
    "$I_t = I_{t - 1} + (\\epsilon_t - I_{t - 1}) \\frac{\\Delta_t}{\\tau + \\Delta_t}$\n",
    "\n",
    "with $\\Delta_t = time_{t} - time_{t - 1}$ and $\\tau$ a constant equal to $0.5$. Since we now have an integral term, we also have to tune $\\beta$, or referred to as $k_i$ in the code, which can take the same values as $\\alpha$.\n",
    "\n",
    "Let's take a look at a training breath again and how we are able to model `pressure -> u_in` perfectly using this formula on some breaths."
   ]
  },
  {
   "cell_type": "code",
   "execution_count": 13,
   "id": "6a9dae50",
   "metadata": {
    "execution": {
     "iopub.execute_input": "2021-11-11T09:47:41.832773Z",
     "iopub.status.busy": "2021-11-11T09:47:41.824242Z",
     "iopub.status.idle": "2021-11-11T09:47:42.041394Z",
     "shell.execute_reply": "2021-11-11T09:47:42.040736Z",
     "shell.execute_reply.started": "2021-11-08T16:14:46.73865Z"
    },
    "papermill": {
     "duration": 0.259709,
     "end_time": "2021-11-11T09:47:42.041530",
     "exception": false,
     "start_time": "2021-11-11T09:47:41.781821",
     "status": "completed"
    },
    "tags": []
   },
   "outputs": [
    {
     "data": {
      "image/png": "[encoded data removed]",
      "text/plain": [
       "<Figure size 432x288 with 1 Axes>"
      ]
     },
     "metadata": {
      "needs_background": "light"
     },
     "output_type": "display_data"
    }
   ],
   "source": [
    "def generate_u_in(pressure, time_step, kp, ki, kt, integral=0):\n",
    "    dt = np.diff(time_step, prepend=[0])\n",
    "    preds = []\n",
    "    for j in range(32):\n",
    "        error = kt - pressure[j]\n",
    "        integral += (error - integral) * (dt[j] / (dt[j] + 0.5))\n",
    "        preds.append(kp * error + ki * integral)\n",
    "    return preds\n",
    "\n",
    "pressure = train[train['breath_id'] == 1]['pressure'].values \n",
    "timestep = train[train['breath_id'] == 1]['time_step'].values\n",
    "# The parameters below (0.8, 8.0 and 20) can be found by doing a grid search\n",
    "# over all 2400 possible values and finding the parameters with minimal error.\n",
    "u_in = generate_u_in(pressure, timestep, 0.8, 8.0, 20)\n",
    "noise = train[train['breath_id'] == 1]['u_in'].values[:32] - u_in\n",
    "\n",
    "plt.figure()\n",
    "plt.plot(timestep[:32], train[train['breath_id'] == 1]['u_in'].values[:32], label='u_in')\n",
    "plt.plot(timestep[:32], u_in, label='u_in_hat')\n",
    "plt.legend()\n",
    "plt.show()"
   ]
  },
  {
   "cell_type": "markdown",
   "id": "acf5fa61",
   "metadata": {
    "papermill": {
     "duration": 0.04112,
     "end_time": "2021-11-11T09:47:42.124227",
     "exception": false,
     "start_time": "2021-11-11T09:47:42.083107",
     "status": "completed"
    },
    "tags": []
   },
   "source": [
    "## Matching algorithm\n",
    "\n",
    "Now unfortunately, this does not work on all breaths. We hypothesize that this is because integral is not always initialized to $0$. \n",
    "\n",
    "Luckily, we can rework our equations a bit to isolate the integral at any point in time. This avoids us having to propagate from the beginning of the signal to the timestep we want to predict. Instead, we can just calculate the integral of the previous timestep using our `u_in` and predicted `pressure` and propagate from there.\n",
    "\n",
    "$u_t = \\alpha \\epsilon_t + \\beta I_t \\iff I_t = \\frac{u_t - \\alpha \\epsilon_t}{\\beta}$\n",
    "\n",
    "Now our matching algorithm goes as follows:\n",
    "\n",
    "1. Assume we want to fill in the pressure for timestep `t`\n",
    "2. Take two random pressure values (from the 950 possible options). Let's call them `P0` and `P1`\n",
    "3. Also take a possible parameter combination (20 options for kp, 20 options for ki and 6 options for kt --> 2400 combinations)\n",
    "4. Calculate `dt = time_step[t] - time_step[t - 1]`\n",
    "4. Calculate `I0 = (u_in[t - 1] - kp * (kt - P0))/ki`\n",
    "5. Calculate `I1 = I0 + (kt - P1 - I0) * (dt / (dt + 0.5))`\n",
    "7. Calculate `u_in_hat[t] = kp * (kt - P1) + ki * I1`\n",
    "8. If `u_in_hat[t] == u_in[t]` we can fill in P1 for `pressure[t]`"
   ]
  },
  {
   "cell_type": "code",
   "execution_count": 14,
   "id": "681f32ba",
   "metadata": {
    "execution": {
     "iopub.execute_input": "2021-11-11T09:47:42.212796Z",
     "iopub.status.busy": "2021-11-11T09:47:42.212126Z",
     "iopub.status.idle": "2021-11-11T09:47:42.231276Z",
     "shell.execute_reply": "2021-11-11T09:47:42.230661Z",
     "shell.execute_reply.started": "2021-11-08T16:30:33.017761Z"
    },
    "papermill": {
     "duration": 0.065986,
     "end_time": "2021-11-11T09:47:42.231421",
     "exception": false,
     "start_time": "2021-11-11T09:47:42.165435",
     "status": "completed"
    },
    "tags": []
   },
   "outputs": [],
   "source": [
    "#Let's try this for 1 specific breath & timestep.\n",
    "# Notice how we are only using pressure to check our results! So this works on test breaths too.\n",
    "pressure   = train[train['breath_id'] == 1]['pressure'].values \n",
    "timestep   = train[train['breath_id'] == 1]['time_step'].values\n",
    "u_in       = train[train['breath_id'] == 1]['u_in'].values\n",
    "kp, ki, kt = 0.8, 8.0, 20\n",
    "t = 5\n",
    "dt = timestep[t] - timestep[t - 1]"
   ]
  },
  {
   "cell_type": "code",
   "execution_count": 15,
   "id": "c54f8bac",
   "metadata": {
    "execution": {
     "iopub.execute_input": "2021-11-11T09:47:42.319763Z",
     "iopub.status.busy": "2021-11-11T09:47:42.316744Z",
     "iopub.status.idle": "2021-11-11T09:47:45.273898Z",
     "shell.execute_reply": "2021-11-11T09:47:45.274334Z",
     "shell.execute_reply.started": "2021-11-08T16:30:33.255401Z"
    },
    "papermill": {
     "duration": 3.001729,
     "end_time": "2021-11-11T09:47:45.274506",
     "exception": false,
     "start_time": "2021-11-11T09:47:42.272777",
     "status": "completed"
    },
    "tags": []
   },
   "outputs": [
    {
     "name": "stdout",
     "output_type": "stream",
     "text": [
      "12.23498694112657 12.867706250187371 [12.23498694 12.86770625]\n",
      "CPU times: user 2.95 s, sys: 5.91 ms, total: 2.96 s\n",
      "Wall time: 2.95 s\n"
     ]
    }
   ],
   "source": [
    "%%time\n",
    "\n",
    "for P0 in np.arange(MIN_PRESSURE, MAX_PRESSURE + DIFF_PRESSURE, DIFF_PRESSURE):\n",
    "    for P1 in np.arange(MIN_PRESSURE, MAX_PRESSURE + DIFF_PRESSURE, DIFF_PRESSURE):\n",
    "        I0 = (u_in[t - 1] - kp * (kt - P0))/ki\n",
    "        I1 = I0 + (kt - P1 - I0) * (dt / (dt + 0.5))\n",
    "        u_in_hat = kp * (kt - P1) + ki * I1\n",
    "        if abs(u_in_hat - u_in[t]) < 1e-8:\n",
    "            print(P0, P1, pressure[t-1:t+1])"
   ]
  },
  {
   "cell_type": "markdown",
   "id": "4ae2a7da",
   "metadata": {
    "papermill": {
     "duration": 0.041926,
     "end_time": "2021-11-11T09:47:45.360680",
     "exception": false,
     "start_time": "2021-11-11T09:47:45.318754",
     "status": "completed"
    },
    "tags": []
   },
   "source": [
    "## 1000x speedup\n",
    "\n",
    "That looks like a good match! Now unfortunately, this algorithm is really slow. If we take into account the grid search, we have `20*20*6*950*950` possible combinations to try out... If we fix our parameters, we have `950*950` combinations and we see that this already takes 6 seconds... However, we can speed this up by a factor of 950! Moreover, once we found a pressure for timestep `t` we can re-use this to calculate timestep `t + 1`, so that's another 950 speedup for the timesteps after that."
   ]
  },
  {
   "cell_type": "code",
   "execution_count": 16,
   "id": "7b6227b3",
   "metadata": {
    "execution": {
     "iopub.execute_input": "2021-11-11T09:47:45.473985Z",
     "iopub.status.busy": "2021-11-11T09:47:45.471194Z",
     "iopub.status.idle": "2021-11-11T09:47:45.738484Z",
     "shell.execute_reply": "2021-11-11T09:47:45.739047Z",
     "shell.execute_reply.started": "2021-11-08T16:30:36.145903Z"
    },
    "papermill": {
     "duration": 0.336735,
     "end_time": "2021-11-11T09:47:45.739228",
     "exception": false,
     "start_time": "2021-11-11T09:47:45.402493",
     "status": "completed"
    },
    "tags": []
   },
   "outputs": [
    {
     "data": {
      "image/png": "[encoded data removed]",
      "text/plain": [
       "<Figure size 1152x288 with 2 Axes>"
      ]
     },
     "metadata": {
      "needs_background": "light"
     },
     "output_type": "display_data"
    }
   ],
   "source": [
    "# Let's fix our P0 and let's take a look at how our u_in predictions evolve across every iteration.\n",
    "# We will compare this to when P0 is wrong.\n",
    "P0 = pressure[t - 1]\n",
    "\n",
    "u_in_preds1 = []\n",
    "for P1 in np.arange(MIN_PRESSURE, MAX_PRESSURE + DIFF_PRESSURE, DIFF_PRESSURE):\n",
    "    I0 = (u_in[t - 1] - kp * (kt - P0))/ki\n",
    "    I1 = I0 + (kt - P1 - I0) * (dt / (dt + 0.5))\n",
    "    u_in_hat = kp * (kt - P1) + ki * I1\n",
    "    u_in_preds1.append(u_in_hat)\n",
    "    \n",
    "P0 = pressure[t - 1] + DIFF_PRESSURE\n",
    "\n",
    "u_in_preds2 = []\n",
    "for P1 in np.arange(MIN_PRESSURE, MAX_PRESSURE + DIFF_PRESSURE, DIFF_PRESSURE):\n",
    "    I0 = (u_in[t - 1] - kp * (kt - P0))/ki\n",
    "    I1 = I0 + (kt - P1 - I0) * (dt / (dt + 0.5))\n",
    "    u_in_hat = kp * (kt - P1) + ki * I1\n",
    "    u_in_preds2.append(u_in_hat)\n",
    "    \n",
    "f, ax = plt.subplots(1, 2, figsize=(16, 4))\n",
    "slope1 = u_in_preds1[1] - u_in_preds1[0]\n",
    "x_intersection1 = (u_in[t] - u_in_preds1[0])/slope1\n",
    "ax[0].plot(u_in_preds1)\n",
    "ax[0].axhline(u_in[t], c='k', linestyle='--', alpha=0.25)\n",
    "ax[0].axvline(x_intersection1, c='k', linestyle='--', alpha=0.25)\n",
    "ax[0].set_title(f'Correct P0: intersection at x={x_intersection1}')\n",
    "\n",
    "slope2 = u_in_preds2[1] - u_in_preds2[0]\n",
    "x_intersection2 = (u_in[t] - u_in_preds2[0])/slope2\n",
    "ax[1].plot(u_in_preds2)\n",
    "ax[1].axhline(u_in[t], c='k', linestyle='--', alpha=0.25)\n",
    "ax[1].axvline(x_intersection2, c='k', linestyle='--', alpha=0.25)\n",
    "ax[1].set_title(f'Wrong P0: intersection at x={x_intersection2}')\n",
    "plt.show()"
   ]
  },
  {
   "cell_type": "markdown",
   "id": "517c2015",
   "metadata": {
    "papermill": {
     "duration": 0.042978,
     "end_time": "2021-11-11T09:47:45.826351",
     "exception": false,
     "start_time": "2021-11-11T09:47:45.783373",
     "status": "completed"
    },
    "tags": []
   },
   "source": [
    "**Notice how the x-value where our line intersects is almost perfectly integer. This means we would have bumped into this value during our for-loop (in the 210th iteration)! If it is a floating point, the value is achieved in between iterations and is thus not aligned with discrete pressure values**"
   ]
  },
  {
   "cell_type": "code",
   "execution_count": 17,
   "id": "bcd1634e",
   "metadata": {
    "execution": {
     "iopub.execute_input": "2021-11-11T09:47:45.932603Z",
     "iopub.status.busy": "2021-11-11T09:47:45.931550Z",
     "iopub.status.idle": "2021-11-11T09:47:45.935169Z",
     "shell.execute_reply": "2021-11-11T09:47:45.935854Z",
     "shell.execute_reply.started": "2021-11-08T16:30:36.404046Z"
    },
    "papermill": {
     "duration": 0.064828,
     "end_time": "2021-11-11T09:47:45.936070",
     "exception": false,
     "start_time": "2021-11-11T09:47:45.871242",
     "status": "completed"
    },
    "tags": []
   },
   "outputs": [
    {
     "name": "stdout",
     "output_type": "stream",
     "text": [
      "12.23498694112657 12.86770625018869 [12.23498694 12.86770625]\n",
      "CPU times: user 10.5 ms, sys: 157 µs, total: 10.6 ms\n",
      "Wall time: 10.3 ms\n"
     ]
    }
   ],
   "source": [
    "%%time\n",
    "for P0 in np.arange(MIN_PRESSURE, MAX_PRESSURE + DIFF_PRESSURE, DIFF_PRESSURE):\n",
    "    I0 = (u_in[t - 1] - kp * (kt - P0))/ki\n",
    "    \n",
    "    # Calculate 2 points for P1 so we can get the slope\n",
    "    I11 = I0 + (kt - MIN_PRESSURE - I0) * (dt / (dt + 0.5))\n",
    "    u_in_hat1 = kp * (kt - MIN_PRESSURE) + ki * I11\n",
    "    \n",
    "    I12 = I0 + (kt - MIN_PRESSURE2 - I0) * (dt / (dt + 0.5))\n",
    "    u_in_hat2 = kp * (kt - MIN_PRESSURE2) + ki * I12\n",
    "    \n",
    "    slope = u_in_hat2 - u_in_hat1\n",
    "    x_intersect = (u_in[t] - u_in_hat2) / slope\n",
    "    if abs(np.round(x_intersect) - x_intersect) < 1e-8:\n",
    "        print(P0, MIN_PRESSURE + (x_intersect + 1) * DIFF_PRESSURE, pressure[t-1:t+1])"
   ]
  },
  {
   "cell_type": "markdown",
   "id": "bf79842c",
   "metadata": {
    "papermill": {
     "duration": 0.043434,
     "end_time": "2021-11-11T09:47:46.024840",
     "exception": false,
     "start_time": "2021-11-11T09:47:45.981406",
     "status": "completed"
    },
    "tags": []
   },
   "source": [
    "**From 6 seconds to 16 ms, I'll take it!**"
   ]
  },
  {
   "cell_type": "code",
   "execution_count": 18,
   "id": "932ddbff",
   "metadata": {
    "execution": {
     "iopub.execute_input": "2021-11-11T09:47:46.118970Z",
     "iopub.status.busy": "2021-11-11T09:47:46.116445Z",
     "iopub.status.idle": "2021-11-11T09:47:46.143509Z",
     "shell.execute_reply": "2021-11-11T09:47:46.144033Z",
     "shell.execute_reply.started": "2021-11-08T16:14:50.219565Z"
    },
    "papermill": {
     "duration": 0.075674,
     "end_time": "2021-11-11T09:47:46.144217",
     "exception": false,
     "start_time": "2021-11-11T09:47:46.068543",
     "status": "completed"
    },
    "tags": []
   },
   "outputs": [],
   "source": [
    "ID = 1\n",
    "pressure   = train[train['breath_id'] == ID]['pressure'].values \n",
    "timestep   = train[train['breath_id'] == ID]['time_step'].values\n",
    "u_in       = train[train['breath_id'] == ID]['u_in'].values\n",
    "u_out      = train[train['breath_id'] == ID]['u_out'].values"
   ]
  },
  {
   "cell_type": "code",
   "execution_count": 19,
   "id": "b3e2048c",
   "metadata": {
    "execution": {
     "iopub.execute_input": "2021-11-11T09:47:46.234443Z",
     "iopub.status.busy": "2021-11-11T09:47:46.233875Z",
     "iopub.status.idle": "2021-11-11T09:47:46.242118Z",
     "shell.execute_reply": "2021-11-11T09:47:46.242577Z",
     "shell.execute_reply.started": "2021-11-08T16:14:50.26184Z"
    },
    "papermill": {
     "duration": 0.055025,
     "end_time": "2021-11-11T09:47:46.242774",
     "exception": false,
     "start_time": "2021-11-11T09:47:46.187749",
     "status": "completed"
    },
    "tags": []
   },
   "outputs": [],
   "source": [
    "def match_breath(u_in, u_out, timestep, kp, ki, kt):\n",
    "    dt = np.diff(timestep)\n",
    "    dt2 = dt / (dt + 0.5)\n",
    "    in_len = np.sum(1 - u_out)\n",
    "    preds = np.zeros(len(u_in)) - 999\n",
    "    \n",
    "    for t in range(1, in_len):\n",
    "        # If we had a match in previous timestep, we can re-use that match\n",
    "        if preds[t - 1] != -999:\n",
    "            P0 = preds[t - 1]\n",
    "        else:\n",
    "            P0 = np.arange(MIN_PRESSURE, MAX_PRESSURE + DIFF_PRESSURE, DIFF_PRESSURE)\n",
    "            \n",
    "        I0 = (u_in[t - 1] - kp * (kt - P0))/ki\n",
    "\n",
    "        # Calculate 2 points for our P1\n",
    "        I11 = I0 + (kt - MIN_PRESSURE - I0) * dt2[t-1]\n",
    "        u_in_hat1 = kp * (kt - MIN_PRESSURE) + ki * I11\n",
    "\n",
    "        I12 = I0 + (kt - MIN_PRESSURE2 - I0) * dt2[t-1]\n",
    "        u_in_hat2 = kp * (kt - MIN_PRESSURE2) + ki * I12\n",
    "\n",
    "        # Get slope and intersection point\n",
    "        slope = u_in_hat2 - u_in_hat1\n",
    "        x_intersect = (u_in[t] - u_in_hat2) / slope\n",
    "        \n",
    "        # We want the intersection to be an integer\n",
    "        diff = np.abs(np.round(x_intersect) - x_intersect)\n",
    "        \n",
    "        if diff.min() < 1e-10:\n",
    "            pos = np.argmin(diff)\n",
    "            \n",
    "            if preds[t - 1] == -999:\n",
    "                preds[t - 1] = P0[np.argmin(diff)]\n",
    "                preds[t] = MIN_PRESSURE + int(x_intersect[pos] + 1) * DIFF_PRESSURE\n",
    "            else:\n",
    "                preds[t] = MIN_PRESSURE + (np.round(x_intersect) + 1) * DIFF_PRESSURE\n",
    "            \n",
    "    return preds"
   ]
  },
  {
   "cell_type": "code",
   "execution_count": 20,
   "id": "a7081873",
   "metadata": {
    "execution": {
     "iopub.execute_input": "2021-11-11T09:47:46.333739Z",
     "iopub.status.busy": "2021-11-11T09:47:46.333077Z",
     "iopub.status.idle": "2021-11-11T09:47:46.338192Z",
     "shell.execute_reply": "2021-11-11T09:47:46.338766Z",
     "shell.execute_reply.started": "2021-11-08T16:14:50.275326Z"
    },
    "papermill": {
     "duration": 0.052982,
     "end_time": "2021-11-11T09:47:46.338937",
     "exception": false,
     "start_time": "2021-11-11T09:47:46.285955",
     "status": "completed"
    },
    "tags": []
   },
   "outputs": [
    {
     "name": "stdout",
     "output_type": "stream",
     "text": [
      "CPU times: user 915 µs, sys: 0 ns, total: 915 µs\n",
      "Wall time: 922 µs\n"
     ]
    }
   ],
   "source": [
    "%%time\n",
    "preds = match_breath(u_in, u_out, timestep, 0.8, 8.0, 20)"
   ]
  },
  {
   "cell_type": "code",
   "execution_count": 21,
   "id": "f78bc7ed",
   "metadata": {
    "execution": {
     "iopub.execute_input": "2021-11-11T09:47:46.428812Z",
     "iopub.status.busy": "2021-11-11T09:47:46.428141Z",
     "iopub.status.idle": "2021-11-11T09:47:46.630690Z",
     "shell.execute_reply": "2021-11-11T09:47:46.631108Z",
     "shell.execute_reply.started": "2021-11-08T16:14:50.297143Z"
    },
    "papermill": {
     "duration": 0.248882,
     "end_time": "2021-11-11T09:47:46.631273",
     "exception": false,
     "start_time": "2021-11-11T09:47:46.382391",
     "status": "completed"
    },
    "tags": []
   },
   "outputs": [
    {
     "data": {
      "image/png": "[encoded data removed]",
      "text/plain": [
       "<Figure size 864x288 with 1 Axes>"
      ]
     },
     "metadata": {
      "needs_background": "light"
     },
     "output_type": "display_data"
    }
   ],
   "source": [
    "plt.figure(figsize=(12, 4))\n",
    "plt.plot(pressure, '-o', label='pressure')\n",
    "plt.plot(np.maximum(-2, preds), '-o', label='matches')\n",
    "plt.legend()\n",
    "plt.show()"
   ]
  },
  {
   "cell_type": "code",
   "execution_count": 22,
   "id": "efaf3eab",
   "metadata": {
    "execution": {
     "iopub.execute_input": "2021-11-11T09:47:46.724205Z",
     "iopub.status.busy": "2021-11-11T09:47:46.723194Z",
     "iopub.status.idle": "2021-11-11T09:47:46.730469Z",
     "shell.execute_reply": "2021-11-11T09:47:46.731083Z",
     "shell.execute_reply.started": "2021-11-08T16:14:50.516918Z"
    },
    "papermill": {
     "duration": 0.055436,
     "end_time": "2021-11-11T09:47:46.731256",
     "exception": false,
     "start_time": "2021-11-11T09:47:46.675820",
     "status": "completed"
    },
    "tags": []
   },
   "outputs": [
    {
     "name": "stdout",
     "output_type": "stream",
     "text": [
      "MATCHED MAE = 4.231373871977573e-12\n",
      "MATCHES: 29\n"
     ]
    }
   ],
   "source": [
    "mask = preds != -999\n",
    "print('MATCHED MAE =', mean_absolute_error(pressure[:len(preds)][mask], preds[mask]))\n",
    "print(f'MATCHES: {np.sum(mask)}')"
   ]
  },
  {
   "cell_type": "markdown",
   "id": "0ef62d47",
   "metadata": {
    "papermill": {
     "duration": 0.047187,
     "end_time": "2021-11-11T09:47:46.825130",
     "exception": false,
     "start_time": "2021-11-11T09:47:46.777943",
     "status": "completed"
    },
    "tags": []
   },
   "source": [
    "# 3. I-Controllers\n",
    "\n",
    "When the optimal `kp` parameter is $0$, a few issues arise. If we look at our brute-force matching code with `kp=0`:\n",
    "```python\n",
    "I0 = (u_in[t - 1] - 0 * (kt - P0))/ki\n",
    "I1 = I0 + (kt - P1 - I0) * (dt / (dt + 0.5))\n",
    "u_in_hat = 0 * (kt - P1) + ki * I1\n",
    "```\n",
    "\n",
    "Which basically becomes:\n",
    "```python\n",
    "I0 = u_in[t - 1] / ki\n",
    "I1 = I0 + (kt - P1 - I0) * (dt / (dt + 0.5))\n",
    "u_in_hat = ki * I1\n",
    "```\n",
    "\n",
    "Which no longer depends on `P0`. Our code will thus find a match for any `P0`. We have not been able to fix this entirely and we decided to sacrifice some matches here as a quick solution."
   ]
  },
  {
   "cell_type": "code",
   "execution_count": 23,
   "id": "2732f597",
   "metadata": {
    "execution": {
     "iopub.execute_input": "2021-11-11T09:47:46.925267Z",
     "iopub.status.busy": "2021-11-11T09:47:46.924304Z",
     "iopub.status.idle": "2021-11-11T09:47:46.945395Z",
     "shell.execute_reply": "2021-11-11T09:47:46.945930Z",
     "shell.execute_reply.started": "2021-11-08T16:14:50.525884Z"
    },
    "papermill": {
     "duration": 0.074908,
     "end_time": "2021-11-11T09:47:46.946109",
     "exception": false,
     "start_time": "2021-11-11T09:47:46.871201",
     "status": "completed"
    },
    "tags": []
   },
   "outputs": [],
   "source": [
    "# Let's demonstrate the issue on a breath with optimal kp = 0\n",
    "ID = 4\n",
    "pressure   = train[train['breath_id'] == ID]['pressure'].values \n",
    "timestep   = train[train['breath_id'] == ID]['time_step'].values\n",
    "u_in       = train[train['breath_id'] == ID]['u_in'].values\n",
    "u_out      = train[train['breath_id'] == ID]['u_out'].values"
   ]
  },
  {
   "cell_type": "code",
   "execution_count": 24,
   "id": "d0ba0203",
   "metadata": {
    "execution": {
     "iopub.execute_input": "2021-11-11T09:47:47.041761Z",
     "iopub.status.busy": "2021-11-11T09:47:47.040853Z",
     "iopub.status.idle": "2021-11-11T09:47:47.046141Z",
     "shell.execute_reply": "2021-11-11T09:47:47.046612Z",
     "shell.execute_reply.started": "2021-11-08T16:14:50.566335Z"
    },
    "papermill": {
     "duration": 0.055049,
     "end_time": "2021-11-11T09:47:47.046802",
     "exception": false,
     "start_time": "2021-11-11T09:47:46.991753",
     "status": "completed"
    },
    "tags": []
   },
   "outputs": [],
   "source": [
    "preds = match_breath(u_in, u_out, timestep, 0., 2., 30)"
   ]
  },
  {
   "cell_type": "code",
   "execution_count": 25,
   "id": "b2fe0e50",
   "metadata": {
    "execution": {
     "iopub.execute_input": "2021-11-11T09:47:47.142536Z",
     "iopub.status.busy": "2021-11-11T09:47:47.141608Z",
     "iopub.status.idle": "2021-11-11T09:47:47.348051Z",
     "shell.execute_reply": "2021-11-11T09:47:47.347506Z",
     "shell.execute_reply.started": "2021-11-08T16:14:50.575576Z"
    },
    "papermill": {
     "duration": 0.254773,
     "end_time": "2021-11-11T09:47:47.348189",
     "exception": false,
     "start_time": "2021-11-11T09:47:47.093416",
     "status": "completed"
    },
    "tags": []
   },
   "outputs": [
    {
     "data": {
      "image/png": "[encoded data removed]",
      "text/plain": [
       "<Figure size 864x288 with 1 Axes>"
      ]
     },
     "metadata": {
      "needs_background": "light"
     },
     "output_type": "display_data"
    }
   ],
   "source": [
    "plt.figure(figsize=(12, 4))\n",
    "plt.plot(pressure, '-o', label='pressure')\n",
    "plt.plot(np.maximum(-2, preds), '-o', label='matches')\n",
    "plt.legend()\n",
    "plt.show()"
   ]
  },
  {
   "cell_type": "code",
   "execution_count": 26,
   "id": "967bce45",
   "metadata": {
    "execution": {
     "iopub.execute_input": "2021-11-11T09:47:47.445406Z",
     "iopub.status.busy": "2021-11-11T09:47:47.444816Z",
     "iopub.status.idle": "2021-11-11T09:47:47.447526Z",
     "shell.execute_reply": "2021-11-11T09:47:47.448201Z",
     "shell.execute_reply.started": "2021-11-08T16:14:50.794996Z"
    },
    "papermill": {
     "duration": 0.054517,
     "end_time": "2021-11-11T09:47:47.448413",
     "exception": false,
     "start_time": "2021-11-11T09:47:47.393896",
     "status": "completed"
    },
    "tags": []
   },
   "outputs": [
    {
     "name": "stdout",
     "output_type": "stream",
     "text": [
      "MATCHED MAE = 5.258600479754309\n"
     ]
    }
   ],
   "source": [
    "mask = preds != -999\n",
    "print('MATCHED MAE =', mean_absolute_error(pressure[:len(preds)][mask], preds[mask]))"
   ]
  },
  {
   "cell_type": "markdown",
   "id": "1b875de8",
   "metadata": {
    "papermill": {
     "duration": 0.047387,
     "end_time": "2021-11-11T09:47:47.543550",
     "exception": false,
     "start_time": "2021-11-11T09:47:47.496163",
     "status": "completed"
    },
    "tags": []
   },
   "source": [
    "## Quick and dirty solution\n",
    "\n",
    "So we notice a MAE of $5.25$ now, as there are 4 matches where `PRESSURE_MIN` has been filled in incorrectly. A simple post-processing trick is to remove the matches at the beginning of a sequence of matches when `kp = 0`."
   ]
  },
  {
   "cell_type": "code",
   "execution_count": 27,
   "id": "2f574f4b",
   "metadata": {
    "execution": {
     "iopub.execute_input": "2021-11-11T09:47:47.638061Z",
     "iopub.status.busy": "2021-11-11T09:47:47.637425Z",
     "iopub.status.idle": "2021-11-11T09:47:47.645573Z",
     "shell.execute_reply": "2021-11-11T09:47:47.646035Z",
     "shell.execute_reply.started": "2021-11-08T16:31:59.170864Z"
    },
    "papermill": {
     "duration": 0.056943,
     "end_time": "2021-11-11T09:47:47.646197",
     "exception": false,
     "start_time": "2021-11-11T09:47:47.589254",
     "status": "completed"
    },
    "tags": []
   },
   "outputs": [],
   "source": [
    "def match_breath(u_in, u_out, timestep, kp, ki, kt):\n",
    "    dt = np.diff(timestep)\n",
    "    dt2 = dt / (dt + 0.5)\n",
    "    in_len = np.sum(1 - u_out)\n",
    "    preds = np.zeros(len(u_in)) - 999\n",
    "    \n",
    "    for t in range(1, in_len):\n",
    "        # If we had a match in previous timestep, we can re-use that match\n",
    "#         if preds[t - 1] != -999 and kp > 0:\n",
    "#             P0 = np.array([preds[t - 1]])\n",
    "#         else:\n",
    "        P0 = np.arange(MIN_PRESSURE, MAX_PRESSURE + DIFF_PRESSURE, DIFF_PRESSURE)\n",
    "            \n",
    "        I0 = (u_in[t - 1] - kp * (kt - P0))/ki\n",
    "\n",
    "        # Calculate 2 points for our P1\n",
    "        I11 = I0 + (kt - MIN_PRESSURE - I0) * dt2[t-1]\n",
    "        u_in_hat1 = kp * (kt - MIN_PRESSURE) + ki * I11\n",
    "\n",
    "        I12 = I0 + (kt - MIN_PRESSURE2 - I0) * dt2[t-1]\n",
    "        u_in_hat2 = kp * (kt - MIN_PRESSURE2) + ki * I12\n",
    "\n",
    "        # Get slope and intersection point\n",
    "        slope = u_in_hat2 - u_in_hat1\n",
    "        x_intersect = (u_in[t] - u_in_hat2) / slope\n",
    "        \n",
    "        # We want the intersection to be an integer\n",
    "        diff = np.abs(np.round(x_intersect) - x_intersect)\n",
    "        \n",
    "        if diff.min() < 1e-10:\n",
    "            pos = np.argmin(diff)\n",
    "            \n",
    "            if preds[t - 1] == -999 and kp > 0 and t > 1:\n",
    "                preds[t - 1] = P0[np.argmin(diff)]\n",
    "            preds[t] = MIN_PRESSURE + (np.round(x_intersect[pos]) + 1) * DIFF_PRESSURE\n",
    "                \n",
    "    return preds"
   ]
  },
  {
   "cell_type": "code",
   "execution_count": 28,
   "id": "9208945a",
   "metadata": {
    "execution": {
     "iopub.execute_input": "2021-11-11T09:47:47.740208Z",
     "iopub.status.busy": "2021-11-11T09:47:47.739667Z",
     "iopub.status.idle": "2021-11-11T09:47:47.746695Z",
     "shell.execute_reply": "2021-11-11T09:47:47.745989Z",
     "shell.execute_reply.started": "2021-11-08T16:14:50.816924Z"
    },
    "papermill": {
     "duration": 0.054962,
     "end_time": "2021-11-11T09:47:47.746879",
     "exception": false,
     "start_time": "2021-11-11T09:47:47.691917",
     "status": "completed"
    },
    "tags": []
   },
   "outputs": [
    {
     "name": "stdout",
     "output_type": "stream",
     "text": [
      "CPU times: user 1.64 ms, sys: 0 ns, total: 1.64 ms\n",
      "Wall time: 1.65 ms\n"
     ]
    }
   ],
   "source": [
    "%%time\n",
    "preds = match_breath(u_in, u_out, timestep, 0., 2., 30)"
   ]
  },
  {
   "cell_type": "code",
   "execution_count": 29,
   "id": "9e5d1ec3",
   "metadata": {
    "execution": {
     "iopub.execute_input": "2021-11-11T09:47:47.859665Z",
     "iopub.status.busy": "2021-11-11T09:47:47.858697Z",
     "iopub.status.idle": "2021-11-11T09:47:48.048819Z",
     "shell.execute_reply": "2021-11-11T09:47:48.049265Z",
     "shell.execute_reply.started": "2021-11-08T16:14:50.833319Z"
    },
    "papermill": {
     "duration": 0.25476,
     "end_time": "2021-11-11T09:47:48.049445",
     "exception": false,
     "start_time": "2021-11-11T09:47:47.794685",
     "status": "completed"
    },
    "tags": []
   },
   "outputs": [
    {
     "data": {
      "image/png": "[encoded data removed]",
      "text/plain": [
       "<Figure size 864x288 with 1 Axes>"
      ]
     },
     "metadata": {
      "needs_background": "light"
     },
     "output_type": "display_data"
    }
   ],
   "source": [
    "plt.figure(figsize=(12, 4))\n",
    "plt.plot(pressure, '-o', label='pressure')\n",
    "plt.plot(np.maximum(-2, preds), '-o', label='matches')\n",
    "plt.legend()\n",
    "plt.show()"
   ]
  },
  {
   "cell_type": "code",
   "execution_count": 30,
   "id": "968b4ede",
   "metadata": {
    "execution": {
     "iopub.execute_input": "2021-11-11T09:47:48.147760Z",
     "iopub.status.busy": "2021-11-11T09:47:48.147176Z",
     "iopub.status.idle": "2021-11-11T09:47:48.152100Z",
     "shell.execute_reply": "2021-11-11T09:47:48.152653Z",
     "shell.execute_reply.started": "2021-11-08T16:14:51.054939Z"
    },
    "papermill": {
     "duration": 0.055853,
     "end_time": "2021-11-11T09:47:48.152809",
     "exception": false,
     "start_time": "2021-11-11T09:47:48.096956",
     "status": "completed"
    },
    "tags": []
   },
   "outputs": [
    {
     "name": "stdout",
     "output_type": "stream",
     "text": [
      "MATCHED MAE = 4.559665776262343e-12\n"
     ]
    }
   ],
   "source": [
    "mask = preds != -999\n",
    "print('MATCHED MAE =', mean_absolute_error(pressure[:len(preds)][mask], preds[mask]))"
   ]
  },
  {
   "cell_type": "markdown",
   "id": "3d6cdcaf",
   "metadata": {
    "papermill": {
     "duration": 0.046864,
     "end_time": "2021-11-11T09:47:48.246944",
     "exception": false,
     "start_time": "2021-11-11T09:47:48.200080",
     "status": "completed"
    },
    "tags": []
   },
   "source": [
    "# 4. Removing noise\n",
    "\n",
    "In section 4.2 of the paper, the organizers discuss two types of noise:\n",
    "\n",
    "1. A linear decreasing noise starting at a certain value going to 0 added to the beginning of the breath (basically a line going downwards (`\\`))\n",
    "2. Triangular noise starting somewhere in the middle of the breath (`/\\` and `\\/`)\n",
    "\n",
    "Let's try to isolate it..."
   ]
  },
  {
   "cell_type": "code",
   "execution_count": 31,
   "id": "89834ba2",
   "metadata": {
    "execution": {
     "iopub.execute_input": "2021-11-11T09:47:48.344396Z",
     "iopub.status.busy": "2021-11-11T09:47:48.343821Z",
     "iopub.status.idle": "2021-11-11T09:47:48.373356Z",
     "shell.execute_reply": "2021-11-11T09:47:48.372838Z",
     "shell.execute_reply.started": "2021-11-08T16:14:51.061875Z"
    },
    "papermill": {
     "duration": 0.079365,
     "end_time": "2021-11-11T09:47:48.373499",
     "exception": false,
     "start_time": "2021-11-11T09:47:48.294134",
     "status": "completed"
    },
    "tags": []
   },
   "outputs": [],
   "source": [
    "# Let's demonstrate the issue on a breath with optimal kp = 0\n",
    "ID = 17\n",
    "pressure   = train[train['breath_id'] == ID]['pressure'].values \n",
    "timestep   = train[train['breath_id'] == ID]['time_step'].values\n",
    "u_in       = train[train['breath_id'] == ID]['u_in'].values\n",
    "u_out      = train[train['breath_id'] == ID]['u_out'].values\n",
    "preds = match_breath(u_in, u_out, timestep, 1.0, 3.0, 30)"
   ]
  },
  {
   "cell_type": "code",
   "execution_count": 32,
   "id": "b40abf77",
   "metadata": {
    "execution": {
     "iopub.execute_input": "2021-11-11T09:47:48.474358Z",
     "iopub.status.busy": "2021-11-11T09:47:48.473660Z",
     "iopub.status.idle": "2021-11-11T09:47:48.477226Z",
     "shell.execute_reply": "2021-11-11T09:47:48.476753Z",
     "shell.execute_reply.started": "2021-11-08T16:14:51.10665Z"
    },
    "papermill": {
     "duration": 0.056621,
     "end_time": "2021-11-11T09:47:48.477359",
     "exception": false,
     "start_time": "2021-11-11T09:47:48.420738",
     "status": "completed"
    },
    "tags": []
   },
   "outputs": [
    {
     "name": "stdout",
     "output_type": "stream",
     "text": [
      "MATCHED MAE = 5.368991800854641e-12\n"
     ]
    }
   ],
   "source": [
    "mask = preds != -999\n",
    "print('MATCHED MAE =', mean_absolute_error(pressure[:len(preds)][mask], preds[mask]))"
   ]
  },
  {
   "cell_type": "code",
   "execution_count": 33,
   "id": "56efa2d1",
   "metadata": {
    "execution": {
     "iopub.execute_input": "2021-11-11T09:47:48.576389Z",
     "iopub.status.busy": "2021-11-11T09:47:48.575792Z",
     "iopub.status.idle": "2021-11-11T09:47:48.789867Z",
     "shell.execute_reply": "2021-11-11T09:47:48.789282Z",
     "shell.execute_reply.started": "2021-11-08T16:14:51.115479Z"
    },
    "papermill": {
     "duration": 0.264802,
     "end_time": "2021-11-11T09:47:48.789999",
     "exception": false,
     "start_time": "2021-11-11T09:47:48.525197",
     "status": "completed"
    },
    "tags": []
   },
   "outputs": [
    {
     "data": {
      "image/png": "[encoded data removed]",
      "text/plain": [
       "<Figure size 864x288 with 1 Axes>"
      ]
     },
     "metadata": {
      "needs_background": "light"
     },
     "output_type": "display_data"
    }
   ],
   "source": [
    "plt.figure(figsize=(12, 4))\n",
    "plt.plot(pressure, '-o', label='pressure')\n",
    "plt.plot(np.maximum(-2, preds), '-o', label='matches')\n",
    "plt.legend()\n",
    "plt.show()"
   ]
  },
  {
   "cell_type": "code",
   "execution_count": 34,
   "id": "877fc4a1",
   "metadata": {
    "execution": {
     "iopub.execute_input": "2021-11-11T09:47:48.913125Z",
     "iopub.status.busy": "2021-11-11T09:47:48.910905Z",
     "iopub.status.idle": "2021-11-11T09:47:49.069308Z",
     "shell.execute_reply": "2021-11-11T09:47:49.069776Z",
     "shell.execute_reply.started": "2021-11-08T16:14:51.346134Z"
    },
    "papermill": {
     "duration": 0.231219,
     "end_time": "2021-11-11T09:47:49.069951",
     "exception": false,
     "start_time": "2021-11-11T09:47:48.838732",
     "status": "completed"
    },
    "tags": []
   },
   "outputs": [
    {
     "data": {
      "image/png": "[encoded data removed]",
      "text/plain": [
       "<Figure size 432x288 with 1 Axes>"
      ]
     },
     "metadata": {
      "needs_background": "light"
     },
     "output_type": "display_data"
    }
   ],
   "source": [
    "# Let's calculate I_5\n",
    "def generate_u_in(pressure, time_step, kp, ki, kt, integral=0):\n",
    "    dt = np.diff(time_step)\n",
    "    preds = []\n",
    "    for j in range(32):\n",
    "        error = kt - pressure[j]\n",
    "        integral += (error - integral) * (dt[j] / (dt[j] + 0.5))\n",
    "        preds.append(kp * error + ki * integral)\n",
    "    return preds\n",
    "\n",
    "kp, ki, kt = 1., 3., 30\n",
    "I5 = (u_in[4] - kp * (kt - pressure[4]))/ki\n",
    "u_in_hat = generate_u_in(pressure[5:], timestep[4:], 1.0, 3.0, 30, integral=I5)\n",
    "plt.plot(timestep[5:32], u_in[5:32] - u_in_hat[:-5], '-o')\n",
    "plt.title('noise')\n",
    "plt.show()"
   ]
  },
  {
   "cell_type": "code",
   "execution_count": 35,
   "id": "3ba3a296",
   "metadata": {
    "execution": {
     "iopub.execute_input": "2021-11-11T09:47:49.173686Z",
     "iopub.status.busy": "2021-11-11T09:47:49.173065Z",
     "iopub.status.idle": "2021-11-11T09:47:49.179241Z",
     "shell.execute_reply": "2021-11-11T09:47:49.178805Z",
     "shell.execute_reply.started": "2021-11-08T16:14:51.532461Z"
    },
    "papermill": {
     "duration": 0.058923,
     "end_time": "2021-11-11T09:47:49.179389",
     "exception": false,
     "start_time": "2021-11-11T09:47:49.120466",
     "status": "completed"
    },
    "tags": []
   },
   "outputs": [
    {
     "name": "stdout",
     "output_type": "stream",
     "text": [
      "[ -47.80513259 -166.32360291 -166.32360291 -166.32360291 -166.32360291\n",
      "   44.89316612  166.32360291  166.32360291  166.32360291  165.17598142]\n"
     ]
    }
   ],
   "source": [
    "noise = u_in[5:32] - u_in_hat[:-5]\n",
    "print((np.diff(noise) / np.diff(timestep[5:32]))[:10])"
   ]
  },
  {
   "cell_type": "markdown",
   "id": "7f6a3489",
   "metadata": {
    "papermill": {
     "duration": 0.049,
     "end_time": "2021-11-11T09:47:49.277869",
     "exception": false,
     "start_time": "2021-11-11T09:47:49.228869",
     "status": "completed"
    },
    "tags": []
   },
   "source": [
    "## Forward matching algorithm\n",
    "\n",
    "While not a perfect triangle, we do notice points that are on the same line in the beginning and ending of our noise (their slopes are nearly identical, and they are the negative of the other half of the triangle). This is the property that we can exploit: assume a sequence of matches followed by a sequence of non-matches starting from index `j` (e.g. starting from index 6 until index 14, we have a sequence of non-matches), from here on we can brute-force 3 new possible future `pressure` values and calculate the `u_in_hat` according to these. Then we can calculate the noise `u_in - u_in_hat`, if the slope between position `j` and `j + 1` is the same as the slope between position `j + 1` and `j + 2`, we are on the triangle and found a match.\n",
    "\n",
    "1. Start from the last match of a sequence of matches, which is followed by a sequence of non-matched (e.g. index 5 in our breath). `j` is the index of the first non-match (6 here)\n",
    "2. Calculate `integ1 = (val - kp * (kt - preds[j - 1])) / ki`\n",
    "3. For every possible combination of (`P2`, `P3`, `P4`) pressure values\n",
    "4. Calculate `integ2 = integ1 + dt2[j - 1] * (kt - P2 - integ1)` and `u2 = kp * (kt - P2) + ki * integ2`\n",
    "5. Calculate `integ3 = integ2 + dt2[j + 0] * (kt - P3 - integ2)` and `u3 = kp * (kt - P3) + ki * integ3`\n",
    "6. Calculate `integ4 = integ3 + dt2[j + 1] * (kt - P4 - integ3)` and `u4 = kp * (kt - P4) + ki * integ4`\n",
    "7. Calculate `dU = [u_in[j] - u2, u_in[j + 1] - u3, u_in[j + 2] - u4]`\n",
    "8. If `(dU[1] - dU[0]) / dt[j] == (dU[2] - dU[1]) / dt[j + 1]`, we have a match.\n",
    "\n",
    "--> Fortunately, we have our `kp`, `ki` and `kt` parameters already found by the previous step, but we do have $950*950*950$ possible combinations. We use the same optimization as before to eliminate one of the parameters and vectorize the other to speed it up."
   ]
  },
  {
   "cell_type": "code",
   "execution_count": 36,
   "id": "28d2bc10",
   "metadata": {
    "execution": {
     "iopub.execute_input": "2021-11-11T09:47:49.394461Z",
     "iopub.status.busy": "2021-11-11T09:47:49.393821Z",
     "iopub.status.idle": "2021-11-11T09:47:49.396782Z",
     "shell.execute_reply": "2021-11-11T09:47:49.396296Z",
     "shell.execute_reply.started": "2021-11-08T16:14:51.540534Z"
    },
    "papermill": {
     "duration": 0.069682,
     "end_time": "2021-11-11T09:47:49.396914",
     "exception": false,
     "start_time": "2021-11-11T09:47:49.327232",
     "status": "completed"
    },
    "tags": []
   },
   "outputs": [],
   "source": [
    "def match_triangle(u_in, u_out, timestep, preds, kp, ki, kt):\n",
    "    dt = np.diff(timestep)\n",
    "    dt2 = dt / (dt + 0.5)\n",
    "    in_len = np.sum(1 - u_out)\n",
    "    \n",
    "    for j in range(1, 32):\n",
    "        if preds[j - 1] == -999:\n",
    "            found_u2 = None\n",
    "            continue\n",
    "            \n",
    "        if preds[j] != -999 or preds[j + 1] != -999 or preds[j + 2] != -999:\n",
    "            found_u2 = None\n",
    "            continue\n",
    "            \n",
    "        if 0 in [u_in[j], u_in[j + 1], u_in[j + 2]] or 100 in [u_in[j], u_in[j + 1], u_in[j + 2]]:\n",
    "            found_u2 = None\n",
    "            continue\n",
    "        \n",
    "        if found_u2 is None:\n",
    "            val = u_in[j - 1]\n",
    "            integ1 = (val - kp * (kt - preds[j - 1])) / ki\n",
    "        else:\n",
    "            val = found_u2\n",
    "            integ1 = (val - kp * (kt - preds[j - 1])) / ki\n",
    "            \n",
    "        for P2 in np.arange(PRESSURE_MIN, PRESSURE_MAX + PRESSURE_STEP, PRESSURE_STEP): #\n",
    "            integ2 = integ1 + dt2[j - 1] * (kt - P2 - integ1)\n",
    "            u2 = kp * (kt - P2) + ki * integ2\n",
    "\n",
    "            P3 = np.arange(PRESSURE_MIN, PRESSURE_MAX + PRESSURE_STEP, PRESSURE_STEP)\n",
    "            integ3 = integ2 + dt2[j] * (kt - P3 - integ2)\n",
    "            u3 = kp * (kt - P3) + ki * integ3\n",
    "\n",
    "            integ41 = integ3 + dt2[j + 1] * (kt - PRESSURE_MIN - integ3)\n",
    "            u41 = kp * (kt - PRESSURE_MIN) + ki * integ41\n",
    "            dU1 = [u2 - u_in[j], u3 - u_in[j + 1], u41 - u_in[j + 2]]\n",
    "            x1 = ((dU1[1] - dU1[0]) / dt[j]) - ((dU1[2] - dU1[1]) / dt[j + 1])\n",
    "\n",
    "            integ42 = integ3 + dt2[j + 1] * (kt - PRESSURE_MIN2 - integ3)\n",
    "            u42 = kp * (kt - PRESSURE_MIN2) + ki * integ42\n",
    "            dU2 = [u2 - u_in[j], u3 - u_in[j + 1], u42 - u_in[j + 2]]\n",
    "            x2 = ((dU2[1] - dU2[0]) / dt[j]) - ((dU2[2] - dU2[1]) / dt[j + 1])\n",
    "\n",
    "            slope = (x2 - x1)\n",
    "            x_intersect = -x1 / slope\n",
    "\n",
    "            if np.min(np.abs(x_intersect - np.round(x_intersect))) < 1e-10:\n",
    "                pos3 = np.where(np.abs(x_intersect - np.round(x_intersect)) < 1e-10)[0][0]\n",
    "                \n",
    "                if preds[j] == -999:\n",
    "                    preds[j] = P2\n",
    "                elif abs(preds[j] - P2) > 1e-10:\n",
    "                    continue\n",
    "                    \n",
    "                if preds[j + 1] == -999:\n",
    "                    preds[j + 1] = P3[pos3]\n",
    "                elif abs(preds[j + 1] - P3[pos3]) > 1e-10:\n",
    "                    continue\n",
    "                    \n",
    "                if preds[j + 2] == -999:\n",
    "                    preds[j + 2] = np.round(x_intersect[pos3]) * PRESSURE_STEP + PRESSURE_MIN\n",
    "                    \n",
    "                found_u2 = u2\n",
    "                    \n",
    "                break\n",
    "                \n",
    "    return preds"
   ]
  },
  {
   "cell_type": "code",
   "execution_count": 37,
   "id": "387f1239",
   "metadata": {
    "execution": {
     "iopub.execute_input": "2021-11-11T09:47:49.500888Z",
     "iopub.status.busy": "2021-11-11T09:47:49.498431Z",
     "iopub.status.idle": "2021-11-11T09:47:49.604875Z",
     "shell.execute_reply": "2021-11-11T09:47:49.605354Z",
     "shell.execute_reply.started": "2021-11-08T16:14:51.561976Z"
    },
    "papermill": {
     "duration": 0.159314,
     "end_time": "2021-11-11T09:47:49.605531",
     "exception": false,
     "start_time": "2021-11-11T09:47:49.446217",
     "status": "completed"
    },
    "tags": []
   },
   "outputs": [
    {
     "name": "stdout",
     "output_type": "stream",
     "text": [
      "CPU times: user 99.6 ms, sys: 0 ns, total: 99.6 ms\n",
      "Wall time: 99.4 ms\n"
     ]
    }
   ],
   "source": [
    "%%time\n",
    "preds2 = match_triangle(u_in, u_out, timestep, preds, kp, ki, kt)"
   ]
  },
  {
   "cell_type": "code",
   "execution_count": 38,
   "id": "ef47d2f6",
   "metadata": {
    "execution": {
     "iopub.execute_input": "2021-11-11T09:47:49.725934Z",
     "iopub.status.busy": "2021-11-11T09:47:49.725175Z",
     "iopub.status.idle": "2021-11-11T09:47:49.923214Z",
     "shell.execute_reply": "2021-11-11T09:47:49.922744Z",
     "shell.execute_reply.started": "2021-11-08T16:14:51.676713Z"
    },
    "papermill": {
     "duration": 0.266687,
     "end_time": "2021-11-11T09:47:49.923353",
     "exception": false,
     "start_time": "2021-11-11T09:47:49.656666",
     "status": "completed"
    },
    "tags": []
   },
   "outputs": [
    {
     "data": {
      "image/png": "[encoded data removed]",
      "text/plain": [
       "<Figure size 864x288 with 1 Axes>"
      ]
     },
     "metadata": {
      "needs_background": "light"
     },
     "output_type": "display_data"
    }
   ],
   "source": [
    "plt.figure(figsize=(12, 4))\n",
    "plt.plot(pressure, '-o', label='pressure')\n",
    "plt.plot(np.maximum(-2, preds2), '-o', label='matches')\n",
    "plt.legend()\n",
    "plt.show()"
   ]
  },
  {
   "cell_type": "markdown",
   "id": "5d87109e",
   "metadata": {
    "papermill": {
     "duration": 0.050401,
     "end_time": "2021-11-11T09:47:50.024904",
     "exception": false,
     "start_time": "2021-11-11T09:47:49.974503",
     "status": "completed"
    },
    "tags": []
   },
   "source": [
    "**As you can see, this only results in a few extra matches on the first half of the triangle, we will have to rework our logic in order to work backwards in the sequence so that we can match some more**\n",
    "\n",
    "We will rewrite our integral equation:\n",
    "\n",
    "$I_t = I_{t - 1} + (\\epsilon_t - I_{t - 1}) \\frac{\\Delta_t}{\\tau + \\Delta_t}$\n",
    "\n",
    "$\\iff I_t = I_{t - 1}(1 - \\frac{\\Delta_t}{\\tau + \\Delta_t}) + \\epsilon_t\\frac{\\Delta_t}{\\tau + \\Delta_t}$\n",
    "\n",
    "$\\iff I_{t-1} = \\frac{I_t - \\epsilon_t\\frac{\\Delta_t}{\\tau + \\Delta_t}}{1 - \\frac{\\Delta_t}{\\tau + \\Delta_t}}$\n",
    "\n",
    "This new equation allows us to propagate integral terms from the future! These future integral terms are then calculated on timesteps for which we found a match and propagated backwards.\n",
    "\n",
    "## Backwards matching algorithm\n",
    "\n",
    "1. Pre-calculate `dt2 = dt / (0.5 + dt)` and take a matched position `j+3` and its corresponding pressure.\n",
    "2. Calculate `integ3 = (u_in[j+3] - kp * (kt - preds[j+3])) / ki`\n",
    "3. Take 3 random pressure values: (`P0`, `P1`, `P2`). Propagate this integral backwards for 3 timesteps using the equation we just derived. \n",
    "4. First: `integ2 = (integ3 - dt2[j + 2] * (kt - preds[j+3]))/(1 - dt2[j + 2])`\n",
    "5. Calculate `integ1 = (integ2 - dt2[j + 1] * (kt - P2))/(1 - dt2[j + 1])`\n",
    "6. Calculate `integ0 = (integ1 - dt2[j + 0] * (kt - P1))/(1 - dt2[j + 0])`\n",
    "7. Calculate `u0 = kp*(kt - P0) + ki*integ0`, `u1 = kp*(kt - P1) + ki*integ1` and `u2 = kp*(kt - P2) + ki*integ2`.\n",
    "8. Calculate `dU = [u_in[j] - u2, u_in[j + 1] - u3, u_in[j + 2] - u4]`\n",
    "9. If `(dU[1] - dU[0]) / dt[j] == (dU[2] - dU[1]) / dt[j + 1]`, we have a match.\n"
   ]
  },
  {
   "cell_type": "code",
   "execution_count": 39,
   "id": "5aee8d4f",
   "metadata": {
    "execution": {
     "iopub.execute_input": "2021-11-11T09:47:50.129410Z",
     "iopub.status.busy": "2021-11-11T09:47:50.128771Z",
     "iopub.status.idle": "2021-11-11T09:47:50.147173Z",
     "shell.execute_reply": "2021-11-11T09:47:50.147681Z",
     "shell.execute_reply.started": "2021-11-08T16:14:51.907677Z"
    },
    "papermill": {
     "duration": 0.072278,
     "end_time": "2021-11-11T09:47:50.147848",
     "exception": false,
     "start_time": "2021-11-11T09:47:50.075570",
     "status": "completed"
    },
    "tags": []
   },
   "outputs": [],
   "source": [
    "def match_triangle_backwards(u_in, u_out, timestep, preds, kp, ki, kt):\n",
    "    dt = np.diff(timestep)\n",
    "    dt2 = dt / (dt + 0.5)\n",
    "    in_len = np.sum(1 - u_out)\n",
    "    found = None\n",
    "    \n",
    "    for j in range(32, -1, -1):\n",
    "        if preds[j] != -999:\n",
    "            found = None\n",
    "            continue\n",
    "            \n",
    "        if found is None and preds[j + 3] == -999:\n",
    "            continue\n",
    "            \n",
    "        if 0 in [u_in[j], u_in[j + 1], u_in[j + 2], u_in[j + 3]] or 100 in [u_in[j], u_in[j + 1], u_in[j + 2], u_in[j + 3]]:\n",
    "            found = None\n",
    "            continue\n",
    "\n",
    "        if found is None:\n",
    "            P_known = preds[j + 3]\n",
    "            val = u_in[j + 3]\n",
    "        else:\n",
    "            P_known = P2\n",
    "            val = found\n",
    "\n",
    "        P0_found = False\n",
    "        for P0 in np.arange(PRESSURE_MIN, PRESSURE_MAX + PRESSURE_STEP, PRESSURE_STEP):\n",
    "\n",
    "            P1 = np.arange(PRESSURE_MIN, PRESSURE_MAX + PRESSURE_STEP, PRESSURE_STEP)\n",
    "\n",
    "            integ3 = (val - kp * (kt - P_known)) / ki\n",
    "            integ2 = (integ3 - dt2[j + 2] * (kt - P_known))/(1 - dt2[j + 2])\n",
    "\n",
    "            integ11 = (integ2 - dt2[j + 1] * (kt - PRESSURE_MIN))/(1 - dt2[j + 1])\n",
    "            integ01 = (integ11 - dt2[j + 0] * (kt - P1))/(1 - dt2[j + 0])\n",
    "            u01 = kp*(kt - P0) + ki*integ01\n",
    "            u11 = kp*(kt - P1) + ki*integ11\n",
    "            u21 = kp*(kt - PRESSURE_MIN) + ki*integ2\n",
    "            du1 = [u01 - u_in[j], u11 - u_in[j + 1], u21 - u_in[j+2]]\n",
    "            x1 = ((du1[1] - du1[0]) / dt[j]) - ((du1[2] - du1[1]) / dt[j + 1])\n",
    "\n",
    "            integ12 = (integ2 - dt2[j + 1] * (kt - PRESSURE_MIN2))/(1 - dt2[j + 1])\n",
    "            integ02 = (integ12 - dt2[j + 0] * (kt - P1))/(1 - dt2[j + 0])\n",
    "            u02 = kp*(kt - P0) + ki*integ02\n",
    "            u12 = kp*(kt - P1) + ki*integ12\n",
    "            u22 = kp*(kt - PRESSURE_MIN2) + ki*integ2\n",
    "            du2 = np.array([u02 - u_in[j], u12 - u_in[j + 1], u22 - u_in[j+2]])\n",
    "            x2 = ((du2[1] - du2[0]) / dt[j]) - ((du2[2] - du2[1]) / dt[j + 1])\n",
    "\n",
    "            slope = (x2 - x1)\n",
    "            x_intersect = -x1 / slope\n",
    "\n",
    "            if np.min(np.abs(x_intersect - np.round(x_intersect))) < 1e-10:\n",
    "                pos3 = np.where(np.abs(x_intersect - np.round(x_intersect)) < 1e-10)[0][0]\n",
    "\n",
    "                P1 = P1[pos3]\n",
    "                P2 = np.round(x_intersect[pos3]) * PRESSURE_STEP + PRESSURE_MIN\n",
    "\n",
    "                integ1 = (integ2 - dt2[j + 1] * (kt - P2))/(1 - dt2[j + 1])\n",
    "                integ0 = (integ1 - dt2[j + 0] * (kt - P1))/(1 - dt2[j + 0])\n",
    "                u0 = kp*(kt - P0) + ki*integ0\n",
    "                u1 = kp*(kt - P1) + ki*integ1\n",
    "                u2 = kp*(kt - P2) + ki*integ2\n",
    "\n",
    "                if preds[j + 2] == -999:\n",
    "                    preds[j + 2] = P2\n",
    "                elif abs(preds[j + 2] - P2) > 1e-10:\n",
    "                    continue\n",
    "\n",
    "                if preds[j + 1] == -999: \n",
    "                    preds[j + 1] = P1\n",
    "                elif abs(preds[j + 1] - P1) > 1e-10:\n",
    "                    continue\n",
    "\n",
    "                if preds[j] == -999:\n",
    "                    preds[j] = P0\n",
    "\n",
    "                found = u2\n",
    "                P0_found = True\n",
    "                break\n",
    "\n",
    "        if not P0_found:\n",
    "            found = None\n",
    "            \n",
    "    return preds"
   ]
  },
  {
   "cell_type": "code",
   "execution_count": 40,
   "id": "01da7f16",
   "metadata": {
    "execution": {
     "iopub.execute_input": "2021-11-11T09:47:50.251754Z",
     "iopub.status.busy": "2021-11-11T09:47:50.251165Z",
     "iopub.status.idle": "2021-11-11T09:47:50.800117Z",
     "shell.execute_reply": "2021-11-11T09:47:50.799184Z",
     "shell.execute_reply.started": "2021-11-08T16:14:51.932889Z"
    },
    "papermill": {
     "duration": 0.601975,
     "end_time": "2021-11-11T09:47:50.800275",
     "exception": false,
     "start_time": "2021-11-11T09:47:50.198300",
     "status": "completed"
    },
    "tags": []
   },
   "outputs": [
    {
     "name": "stdout",
     "output_type": "stream",
     "text": [
      "CPU times: user 541 ms, sys: 0 ns, total: 541 ms\n",
      "Wall time: 542 ms\n"
     ]
    }
   ],
   "source": [
    "%%time\n",
    "preds3 = match_triangle_backwards(u_in, u_out, timestep, preds2, kp, ki, kt)"
   ]
  },
  {
   "cell_type": "code",
   "execution_count": 41,
   "id": "dd1fde99",
   "metadata": {
    "execution": {
     "iopub.execute_input": "2021-11-11T09:47:50.911516Z",
     "iopub.status.busy": "2021-11-11T09:47:50.910652Z",
     "iopub.status.idle": "2021-11-11T09:47:51.121819Z",
     "shell.execute_reply": "2021-11-11T09:47:51.122314Z",
     "shell.execute_reply.started": "2021-11-08T16:14:52.48887Z"
    },
    "papermill": {
     "duration": 0.268788,
     "end_time": "2021-11-11T09:47:51.122474",
     "exception": false,
     "start_time": "2021-11-11T09:47:50.853686",
     "status": "completed"
    },
    "tags": []
   },
   "outputs": [
    {
     "data": {
      "image/png": "[encoded data removed]",
      "text/plain": [
       "<Figure size 864x288 with 1 Axes>"
      ]
     },
     "metadata": {
      "needs_background": "light"
     },
     "output_type": "display_data"
    }
   ],
   "source": [
    "plt.figure(figsize=(12, 4))\n",
    "plt.plot(pressure, '-o', label='pressure')\n",
    "plt.plot(np.maximum(-2, preds2), '-o', label='matches')\n",
    "plt.legend()\n",
    "plt.show()"
   ]
  },
  {
   "cell_type": "markdown",
   "id": "e49cdbaf",
   "metadata": {
    "papermill": {
     "duration": 0.051377,
     "end_time": "2021-11-11T09:47:51.225950",
     "exception": false,
     "start_time": "2021-11-11T09:47:51.174573",
     "status": "completed"
    },
    "tags": []
   },
   "source": [
    "**Woohoo! More matches** Let's show how this also works for linear noise..."
   ]
  },
  {
   "cell_type": "code",
   "execution_count": 42,
   "id": "4c878a19",
   "metadata": {
    "execution": {
     "iopub.execute_input": "2021-11-11T09:47:51.339133Z",
     "iopub.status.busy": "2021-11-11T09:47:51.338147Z",
     "iopub.status.idle": "2021-11-11T09:47:51.360991Z",
     "shell.execute_reply": "2021-11-11T09:47:51.361477Z",
     "shell.execute_reply.started": "2021-11-08T16:14:52.690608Z"
    },
    "papermill": {
     "duration": 0.083722,
     "end_time": "2021-11-11T09:47:51.361665",
     "exception": false,
     "start_time": "2021-11-11T09:47:51.277943",
     "status": "completed"
    },
    "tags": []
   },
   "outputs": [],
   "source": [
    "# Let's demonstrate the issue on a breath with optimal kp = 0\n",
    "ID = 6\n",
    "pressure   = train[train['breath_id'] == ID]['pressure'].values \n",
    "timestep   = train[train['breath_id'] == ID]['time_step'].values\n",
    "u_in       = train[train['breath_id'] == ID]['u_in'].values\n",
    "u_out      = train[train['breath_id'] == ID]['u_out'].values\n",
    "preds = match_breath(u_in, u_out, timestep, 2.0, 4.0, 10)"
   ]
  },
  {
   "cell_type": "code",
   "execution_count": 43,
   "id": "9539f447",
   "metadata": {
    "execution": {
     "iopub.execute_input": "2021-11-11T09:47:51.468245Z",
     "iopub.status.busy": "2021-11-11T09:47:51.467649Z",
     "iopub.status.idle": "2021-11-11T09:47:51.682954Z",
     "shell.execute_reply": "2021-11-11T09:47:51.682336Z",
     "shell.execute_reply.started": "2021-11-08T16:14:52.7259Z"
    },
    "papermill": {
     "duration": 0.26949,
     "end_time": "2021-11-11T09:47:51.683094",
     "exception": false,
     "start_time": "2021-11-11T09:47:51.413604",
     "status": "completed"
    },
    "tags": []
   },
   "outputs": [
    {
     "data": {
      "image/png": "[encoded data removed]",
      "text/plain": [
       "<Figure size 864x288 with 1 Axes>"
      ]
     },
     "metadata": {
      "needs_background": "light"
     },
     "output_type": "display_data"
    }
   ],
   "source": [
    "plt.figure(figsize=(12, 4))\n",
    "plt.plot(pressure, '-o', label='pressure')\n",
    "plt.plot(np.maximum(-2, preds), '-o', label='matches')\n",
    "plt.legend()\n",
    "plt.show()"
   ]
  },
  {
   "cell_type": "code",
   "execution_count": 44,
   "id": "f01bae94",
   "metadata": {
    "execution": {
     "iopub.execute_input": "2021-11-11T09:47:51.797262Z",
     "iopub.status.busy": "2021-11-11T09:47:51.796564Z",
     "iopub.status.idle": "2021-11-11T09:47:52.349726Z",
     "shell.execute_reply": "2021-11-11T09:47:52.349166Z",
     "shell.execute_reply.started": "2021-11-08T16:14:52.89776Z"
    },
    "papermill": {
     "duration": 0.613051,
     "end_time": "2021-11-11T09:47:52.349917",
     "exception": false,
     "start_time": "2021-11-11T09:47:51.736866",
     "status": "completed"
    },
    "tags": []
   },
   "outputs": [
    {
     "name": "stdout",
     "output_type": "stream",
     "text": [
      "CPU times: user 550 ms, sys: 0 ns, total: 550 ms\n",
      "Wall time: 550 ms\n"
     ]
    }
   ],
   "source": [
    "%%time\n",
    "preds2 = match_triangle_backwards(u_in, u_out, timestep, preds, 2.0, 4.0, 10)"
   ]
  },
  {
   "cell_type": "code",
   "execution_count": 45,
   "id": "df3a6d1c",
   "metadata": {
    "execution": {
     "iopub.execute_input": "2021-11-11T09:47:52.461582Z",
     "iopub.status.busy": "2021-11-11T09:47:52.460657Z",
     "iopub.status.idle": "2021-11-11T09:47:52.674757Z",
     "shell.execute_reply": "2021-11-11T09:47:52.674242Z",
     "shell.execute_reply.started": "2021-11-08T16:14:53.451344Z"
    },
    "papermill": {
     "duration": 0.271453,
     "end_time": "2021-11-11T09:47:52.674902",
     "exception": false,
     "start_time": "2021-11-11T09:47:52.403449",
     "status": "completed"
    },
    "tags": []
   },
   "outputs": [
    {
     "data": {
      "image/png": "[encoded data removed]",
      "text/plain": [
       "<Figure size 864x288 with 1 Axes>"
      ]
     },
     "metadata": {
      "needs_background": "light"
     },
     "output_type": "display_data"
    }
   ],
   "source": [
    "plt.figure(figsize=(12, 4))\n",
    "plt.plot(pressure, '-o', label='pressure')\n",
    "plt.plot(np.maximum(-2, preds2), '-o', label='matches')\n",
    "plt.legend()\n",
    "plt.show()"
   ]
  },
  {
   "cell_type": "markdown",
   "id": "24fb407d",
   "metadata": {
    "papermill": {
     "duration": 0.056032,
     "end_time": "2021-11-11T09:47:52.785095",
     "exception": false,
     "start_time": "2021-11-11T09:47:52.729063",
     "status": "completed"
    },
    "tags": []
   },
   "source": [
    "# Putting it all together\n",
    "\n",
    "Below is the combination of all matchers. As one will notice, this code still matches too many values ($72$-$75$% instead of $66$%) and introduces a few errors because of this, but the MAE seems to be around $0.01$ which might be a better trade-off (with a model with LB $0.12$ and $75$% matched with MAE $0.01$, an LB of $0.04$).\n",
    "\n",
    "During the competition, our code was a lot longer (and a lot less readable) than this. I am currently cleaning the code up and integrating it in this notebook. The number of errors should drop in upcoming versions."
   ]
  },
  {
   "cell_type": "code",
   "execution_count": 46,
   "id": "7683e268",
   "metadata": {
    "execution": {
     "iopub.execute_input": "2021-11-11T09:47:52.901764Z",
     "iopub.status.busy": "2021-11-11T09:47:52.898150Z",
     "iopub.status.idle": "2021-11-11T09:47:52.904266Z",
     "shell.execute_reply": "2021-11-11T09:47:52.903799Z",
     "shell.execute_reply.started": "2021-11-08T16:38:14.734681Z"
    },
    "papermill": {
     "duration": 0.063488,
     "end_time": "2021-11-11T09:47:52.904405",
     "exception": false,
     "start_time": "2021-11-11T09:47:52.840917",
     "status": "completed"
    },
    "tags": []
   },
   "outputs": [],
   "source": [
    "def match(u_in, u_out, timestep, kp, ki, kt):\n",
    "    preds = match_breath(u_in, u_out, timestep, kp, ki, kt)\n",
    "    preds = match_triangle(u_in, u_out, timestep, preds, kp, ki, kt)\n",
    "    preds = match_triangle_backwards(u_in, u_out, timestep, preds, kp, ki, kt)\n",
    "    \n",
    "    # Filtering out some potential errors\n",
    "    preds[u_out == 1] = -999\n",
    "    preds[(u_in == 0) | (u_in == 100)] = -999\n",
    "    if kp == 0:\n",
    "        preds[preds <= 0] = -999\n",
    "    \n",
    "    return preds"
   ]
  },
  {
   "cell_type": "code",
   "execution_count": 47,
   "id": "ed5f71e3",
   "metadata": {
    "execution": {
     "iopub.execute_input": "2021-11-11T09:47:53.018332Z",
     "iopub.status.busy": "2021-11-11T09:47:53.017541Z",
     "iopub.status.idle": "2021-11-11T09:47:53.251591Z",
     "shell.execute_reply": "2021-11-11T09:47:53.250974Z",
     "shell.execute_reply.started": "2021-11-08T16:38:14.869071Z"
    },
    "papermill": {
     "duration": 0.293246,
     "end_time": "2021-11-11T09:47:53.251762",
     "exception": false,
     "start_time": "2021-11-11T09:47:52.958516",
     "status": "completed"
    },
    "tags": []
   },
   "outputs": [],
   "source": [
    "np.random.seed(42)\n",
    "params = pickle.load(open('../input/ventilator-foggy/train_parameters.p', 'rb'))\n",
    "train_breaths = []\n",
    "for ID in params:\n",
    "    if params[ID][0] != -1:\n",
    "        train_breaths.append(ID)\n",
    "train_breaths = np.random.choice(train_breaths, replace=False, size=1000)"
   ]
  },
  {
   "cell_type": "code",
   "execution_count": 48,
   "id": "68ba2111",
   "metadata": {
    "execution": {
     "iopub.execute_input": "2021-11-11T09:47:53.385513Z",
     "iopub.status.busy": "2021-11-11T09:47:53.384887Z",
     "iopub.status.idle": "2021-11-11T09:51:41.717988Z",
     "shell.execute_reply": "2021-11-11T09:51:41.717497Z",
     "shell.execute_reply.started": "2021-11-08T16:38:15.208841Z"
    },
    "papermill": {
     "duration": 228.412904,
     "end_time": "2021-11-11T09:51:41.718154",
     "exception": false,
     "start_time": "2021-11-11T09:47:53.305250",
     "status": "completed"
    },
    "tags": []
   },
   "outputs": [
    {
     "data": {
      "application/vnd.jupyter.widget-view+json": {
       "model_id": "c77fb9a8668b472f9a7f4599c66f9e93",
       "version_major": 2,
       "version_minor": 0
      },
      "text/plain": [
       "  0%|          | 0/1000 [00:00<?, ?it/s]"
      ]
     },
     "metadata": {},
     "output_type": "display_data"
    },
    {
     "name": "stdout",
     "output_type": "stream",
     "text": [
      "[iteration #100] matched 2286/3069 values; MAE = 0.007442309364962646\n",
      "[iteration #200] matched 4642/6097 values; MAE = 0.0068908824211961015\n",
      "[iteration #300] matched 6869/9126 values; MAE = 0.008566442825860755\n",
      "[iteration #400] matched 9158/12138 values; MAE = 0.010916100771905721\n",
      "[iteration #500] matched 11387/15169 values; MAE = 0.012551529090090906\n",
      "[iteration #600] matched 13598/18191 values; MAE = 0.010655443582198122\n",
      "[iteration #700] matched 15920/21221 values; MAE = 0.010090477539058494\n",
      "[iteration #800] matched 18179/24248 values; MAE = 0.011350283127465057\n",
      "[iteration #900] matched 20464/27290 values; MAE = 0.01263542274499738\n"
     ]
    }
   ],
   "source": [
    "matches = []\n",
    "ground_truth = []\n",
    "total = 0\n",
    "\n",
    "for i, ID in tqdm(enumerate(train_breaths), total=len(train_breaths)):\n",
    "    \n",
    "    if params[ID][0] == -1:\n",
    "        continue\n",
    "        \n",
    "    pressure   = train[train['breath_id'] == ID]['pressure'].values \n",
    "    timestep   = train[train['breath_id'] == ID]['time_step'].values\n",
    "    u_in       = train[train['breath_id'] == ID]['u_in'].values\n",
    "    u_out      = train[train['breath_id'] == ID]['u_out'].values\n",
    "    preds      = match(u_in, u_out, timestep, params[ID][0], params[ID][1], params[ID][2])\n",
    "    \n",
    "    total += np.sum(1 - u_out)\n",
    "    mask = preds != -999\n",
    "    matches.extend(preds[mask])\n",
    "    ground_truth.extend(pressure[:len(preds)][mask])\n",
    "    \n",
    "    if i > 0 and i % 100 == 0:\n",
    "        mae = mean_absolute_error(ground_truth, matches)\n",
    "        print(f'[iteration #{i}] matched {len(matches)}/{total} values; MAE = {mae}')"
   ]
  },
  {
   "cell_type": "code",
   "execution_count": 49,
   "id": "1ed0b5cc",
   "metadata": {
    "execution": {
     "iopub.execute_input": "2021-11-11T09:51:41.837045Z",
     "iopub.status.busy": "2021-11-11T09:51:41.836458Z",
     "iopub.status.idle": "2021-11-11T09:51:42.082075Z",
     "shell.execute_reply": "2021-11-11T09:51:42.081521Z",
     "shell.execute_reply.started": "2021-11-08T16:48:43.186046Z"
    },
    "papermill": {
     "duration": 0.30664,
     "end_time": "2021-11-11T09:51:42.082228",
     "exception": false,
     "start_time": "2021-11-11T09:51:41.775588",
     "status": "completed"
    },
    "tags": []
   },
   "outputs": [],
   "source": [
    "np.random.seed(42)\n",
    "params = pickle.load(open('../input/ventilator-foggy/test_parameters.p', 'rb'))"
   ]
  },
  {
   "cell_type": "code",
   "execution_count": 50,
   "id": "61c920ec",
   "metadata": {
    "execution": {
     "iopub.execute_input": "2021-11-11T09:51:42.206719Z",
     "iopub.status.busy": "2021-11-11T09:51:42.204340Z",
     "iopub.status.idle": "2021-11-11T12:31:14.177378Z",
     "shell.execute_reply": "2021-11-11T12:31:14.176836Z"
    },
    "papermill": {
     "duration": 9572.038166,
     "end_time": "2021-11-11T12:31:14.177575",
     "exception": false,
     "start_time": "2021-11-11T09:51:42.139409",
     "status": "completed"
    },
    "tags": []
   },
   "outputs": [
    {
     "data": {
      "application/vnd.jupyter.widget-view+json": {
       "model_id": "f5b0531939bc43c8992da5492f21df3e",
       "version_major": 2,
       "version_minor": 0
      },
      "text/plain": [
       "  0%|          | 0/50300 [00:00<?, ?it/s]"
      ]
     },
     "metadata": {},
     "output_type": "display_data"
    }
   ],
   "source": [
    "matches = []\n",
    "ground_truth = []\n",
    "total = 0\n",
    "\n",
    "for i, ID in tqdm(enumerate(test['breath_id'].unique()), total=len(test['breath_id'].unique())):\n",
    "    \n",
    "    if params[ID][0] == -1:\n",
    "        continue\n",
    "        \n",
    "    timestep   = test[test['breath_id'] == ID]['time_step'].values\n",
    "    u_in       = test[test['breath_id'] == ID]['u_in'].values\n",
    "    u_out      = test[test['breath_id'] == ID]['u_out'].values\n",
    "    ids        = test[test['breath_id'] == ID].index.values\n",
    "    \n",
    "    preds      = match(u_in, u_out, timestep, params[ID][0], params[ID][1], params[ID][2])\n",
    "    mask = preds != -999\n",
    "    test_preds.loc[ids[:len(preds)][mask], 'pressure'] = preds[mask]\n",
    "    "
   ]
  },
  {
   "cell_type": "code",
   "execution_count": 51,
   "id": "60a6e7ce",
   "metadata": {
    "execution": {
     "iopub.execute_input": "2021-11-11T12:31:14.305642Z",
     "iopub.status.busy": "2021-11-11T12:31:14.304840Z",
     "iopub.status.idle": "2021-11-11T12:31:24.379376Z",
     "shell.execute_reply": "2021-11-11T12:31:24.378830Z"
    },
    "papermill": {
     "duration": 10.14433,
     "end_time": "2021-11-11T12:31:24.379512",
     "exception": false,
     "start_time": "2021-11-11T12:31:14.235182",
     "status": "completed"
    },
    "tags": []
   },
   "outputs": [],
   "source": [
    "test_preds.to_csv('pred_foggy_0.1406_replaced.csv')"
   ]
  },
  {
   "cell_type": "code",
   "execution_count": null,
   "id": "d897b60d",
   "metadata": {
    "papermill": {
     "duration": 0.057155,
     "end_time": "2021-11-11T12:31:24.493385",
     "exception": false,
     "start_time": "2021-11-11T12:31:24.436230",
     "status": "completed"
    },
    "tags": []
   },
   "outputs": [],
   "source": []
  }
 ],
 "metadata": {
  "kernelspec": {
   "display_name": "Python 3",
   "language": "python",
   "name": "python3"
  },
  "language_info": {
   "codemirror_mode": {
    "name": "ipython",
    "version": 3
   },
   "file_extension": ".py",
   "mimetype": "text/x-python",
   "name": "python",
   "nbconvert_exporter": "python",
   "pygments_lexer": "ipython3",
   "version": "3.7.10"
  },
  "papermill": {
   "default_parameters": {},
   "duration": 9964.463769,
   "end_time": "2021-11-11T12:31:25.782233",
   "environment_variables": {},
   "exception": null,
   "input_path": "__notebook__.ipynb",
   "output_path": "__notebook__.ipynb",
   "parameters": {},
   "start_time": "2021-11-11T09:45:21.318464",
   "version": "2.3.3"
  },
  "widgets": {
   "application/vnd.jupyter.widget-state+json": {
    "state": {
     "02d26b0780944d438a4d6c51cc058a44": {
      "model_module": "@jupyter-widgets/base",
      "model_module_version": "1.2.0",
      "model_name": "LayoutModel",
      "state": {
       "_model_module": "@jupyter-widgets/base",
       "_model_module_version": "1.2.0",
       "_model_name": "LayoutModel",
       "_view_count": null,
       "_view_module": "@jupyter-widgets/base",
       "_view_module_version": "1.2.0",
       "_view_name": "LayoutView",
       "align_content": null,
       "align_items": null,
       "align_self": null,
       "border": null,
       "bottom": null,
       "display": null,
       "flex": null,
       "flex_flow": null,
       "grid_area": null,
       "grid_auto_columns": null,
       "grid_auto_flow": null,
       "grid_auto_rows": null,
       "grid_column": null,
       "grid_gap": null,
       "grid_row": null,
       "grid_template_areas": null,
       "grid_template_columns": null,
       "grid_template_rows": null,
       "height": null,
       "justify_content": null,
       "justify_items": null,
       "left": null,
       "margin": null,
       "max_height": null,
       "max_width": null,
       "min_height": null,
       "min_width": null,
       "object_fit": null,
       "object_position": null,
       "order": null,
       "overflow": null,
       "overflow_x": null,
       "overflow_y": null,
       "padding": null,
       "right": null,
       "top": null,
       "visibility": null,
       "width": null
      }
     },
     "03debecbcbe2439e925759e9fcb0022b": {
      "model_module": "@jupyter-widgets/controls",
      "model_module_version": "1.5.0",
      "model_name": "HTMLModel",
      "state": {
       "_dom_classes": [],
       "_model_module": "@jupyter-widgets/controls",
       "_model_module_version": "1.5.0",
       "_model_name": "HTMLModel",
       "_view_count": null,
       "_view_module": "@jupyter-widgets/controls",
       "_view_module_version": "1.5.0",
       "_view_name": "HTMLView",
       "description": "",
       "description_tooltip": null,
       "layout": "IPY_MODEL_13e6f79f7a6947bd8b00eb4f152a4f75",
       "placeholder": "​",
       "style": "IPY_MODEL_1c85c75745b0438d889b73327786fb1e",
       "value": " 1000/1000 [03:48&lt;00:00,  4.85it/s]"
      }
     },
     "0b2e9a2fd6ea4bfbadc5b5bc8e2e775b": {
      "model_module": "@jupyter-widgets/controls",
      "model_module_version": "1.5.0",
      "model_name": "HTMLModel",
      "state": {
       "_dom_classes": [],
       "_model_module": "@jupyter-widgets/controls",
       "_model_module_version": "1.5.0",
       "_model_name": "HTMLModel",
       "_view_count": null,
       "_view_module": "@jupyter-widgets/controls",
       "_view_module_version": "1.5.0",
       "_view_name": "HTMLView",
       "description": "",
       "description_tooltip": null,
       "layout": "IPY_MODEL_a8626236a47c4c4b8e5f488e1d2d58c5",
       "placeholder": "​",
       "style": "IPY_MODEL_6bb3bcef25694e15953601b1c0153ad0",
       "value": "100%"
      }
     },
     "13e6f79f7a6947bd8b00eb4f152a4f75": {
      "model_module": "@jupyter-widgets/base",
      "model_module_version": "1.2.0",
      "model_name": "LayoutModel",
      "state": {
       "_model_module": "@jupyter-widgets/base",
       "_model_module_version": "1.2.0",
       "_model_name": "LayoutModel",
       "_view_count": null,
       "_view_module": "@jupyter-widgets/base",
       "_view_module_version": "1.2.0",
       "_view_name": "LayoutView",
       "align_content": null,
       "align_items": null,
       "align_self": null,
       "border": null,
       "bottom": null,
       "display": null,
       "flex": null,
       "flex_flow": null,
       "grid_area": null,
       "grid_auto_columns": null,
       "grid_auto_flow": null,
       "grid_auto_rows": null,
       "grid_column": null,
       "grid_gap": null,
       "grid_row": null,
       "grid_template_areas": null,
       "grid_template_columns": null,
       "grid_template_rows": null,
       "height": null,
       "justify_content": null,
       "justify_items": null,
       "left": null,
       "margin": null,
       "max_height": null,
       "max_width": null,
       "min_height": null,
       "min_width": null,
       "object_fit": null,
       "object_position": null,
       "order": null,
       "overflow": null,
       "overflow_x": null,
       "overflow_y": null,
       "padding": null,
       "right": null,
       "top": null,
       "visibility": null,
       "width": null
      }
     },
     "1b0084d5520547cd9378356d5b54cca7": {
      "model_module": "@jupyter-widgets/controls",
      "model_module_version": "1.5.0",
      "model_name": "HTMLModel",
      "state": {
       "_dom_classes": [],
       "_model_module": "@jupyter-widgets/controls",
       "_model_module_version": "1.5.0",
       "_model_name": "HTMLModel",
       "_view_count": null,
       "_view_module": "@jupyter-widgets/controls",
       "_view_module_version": "1.5.0",
       "_view_name": "HTMLView",
       "description": "",
       "description_tooltip": null,
       "layout": "IPY_MODEL_5ad3ff9277814d99b515eecb34c7c06b",
       "placeholder": "​",
       "style": "IPY_MODEL_73ffe0b46a834f40a7761fe0f648811a",
       "value": " 75450/75450 [01:49&lt;00:00, 540.58it/s]"
      }
     },
     "1b9b82230d79466d9802615c1b4c637d": {
      "model_module": "@jupyter-widgets/base",
      "model_module_version": "1.2.0",
      "model_name": "LayoutModel",
      "state": {
       "_model_module": "@jupyter-widgets/base",
       "_model_module_version": "1.2.0",
       "_model_name": "LayoutModel",
       "_view_count": null,
       "_view_module": "@jupyter-widgets/base",
       "_view_module_version": "1.2.0",
       "_view_name": "LayoutView",
       "align_content": null,
       "align_items": null,
       "align_self": null,
       "border": null,
       "bottom": null,
       "display": null,
       "flex": null,
       "flex_flow": null,
       "grid_area": null,
       "grid_auto_columns": null,
       "grid_auto_flow": null,
       "grid_auto_rows": null,
       "grid_column": null,
       "grid_gap": null,
       "grid_row": null,
       "grid_template_areas": null,
       "grid_template_columns": null,
       "grid_template_rows": null,
       "height": null,
       "justify_content": null,
       "justify_items": null,
       "left": null,
       "margin": null,
       "max_height": null,
       "max_width": null,
       "min_height": null,
       "min_width": null,
       "object_fit": null,
       "object_position": null,
       "order": null,
       "overflow": null,
       "overflow_x": null,
       "overflow_y": null,
       "padding": null,
       "right": null,
       "top": null,
       "visibility": null,
       "width": null
      }
     },
     "1c85c75745b0438d889b73327786fb1e": {
      "model_module": "@jupyter-widgets/controls",
      "model_module_version": "1.5.0",
      "model_name": "DescriptionStyleModel",
      "state": {
       "_model_module": "@jupyter-widgets/controls",
       "_model_module_version": "1.5.0",
       "_model_name": "DescriptionStyleModel",
       "_view_count": null,
       "_view_module": "@jupyter-widgets/base",
       "_view_module_version": "1.2.0",
       "_view_name": "StyleView",
       "description_width": ""
      }
     },
     "28ce056a12fa46c2a3c10d82e89cad60": {
      "model_module": "@jupyter-widgets/base",
      "model_module_version": "1.2.0",
      "model_name": "LayoutModel",
      "state": {
       "_model_module": "@jupyter-widgets/base",
       "_model_module_version": "1.2.0",
       "_model_name": "LayoutModel",
       "_view_count": null,
       "_view_module": "@jupyter-widgets/base",
       "_view_module_version": "1.2.0",
       "_view_name": "LayoutView",
       "align_content": null,
       "align_items": null,
       "align_self": null,
       "border": null,
       "bottom": null,
       "display": null,
       "flex": null,
       "flex_flow": null,
       "grid_area": null,
       "grid_auto_columns": null,
       "grid_auto_flow": null,
       "grid_auto_rows": null,
       "grid_column": null,
       "grid_gap": null,
       "grid_row": null,
       "grid_template_areas": null,
       "grid_template_columns": null,
       "grid_template_rows": null,
       "height": null,
       "justify_content": null,
       "justify_items": null,
       "left": null,
       "margin": null,
       "max_height": null,
       "max_width": null,
       "min_height": null,
       "min_width": null,
       "object_fit": null,
       "object_position": null,
       "order": null,
       "overflow": null,
       "overflow_x": null,
       "overflow_y": null,
       "padding": null,
       "right": null,
       "top": null,
       "visibility": null,
       "width": null
      }
     },
     "29659e6c59f54169b30613b98df0c1db": {
      "model_module": "@jupyter-widgets/controls",
      "model_module_version": "1.5.0",
      "model_name": "HBoxModel",
      "state": {
       "_dom_classes": [],
       "_model_module": "@jupyter-widgets/controls",
       "_model_module_version": "1.5.0",
       "_model_name": "HBoxModel",
       "_view_count": null,
       "_view_module": "@jupyter-widgets/controls",
       "_view_module_version": "1.5.0",
       "_view_name": "HBoxView",
       "box_style": "",
       "children": [
        "IPY_MODEL_0b2e9a2fd6ea4bfbadc5b5bc8e2e775b",
        "IPY_MODEL_6ea635b5d0604dc782e6f3a99ff327a5",
        "IPY_MODEL_1b0084d5520547cd9378356d5b54cca7"
       ],
       "layout": "IPY_MODEL_28ce056a12fa46c2a3c10d82e89cad60"
      }
     },
     "5062d816409f493fa17cf2ac6c7e5eb2": {
      "model_module": "@jupyter-widgets/controls",
      "model_module_version": "1.5.0",
      "model_name": "DescriptionStyleModel",
      "state": {
       "_model_module": "@jupyter-widgets/controls",
       "_model_module_version": "1.5.0",
       "_model_name": "DescriptionStyleModel",
       "_view_count": null,
       "_view_module": "@jupyter-widgets/base",
       "_view_module_version": "1.2.0",
       "_view_name": "StyleView",
       "description_width": ""
      }
     },
     "5100fd4d5d10466a864867c6590f521c": {
      "model_module": "@jupyter-widgets/base",
      "model_module_version": "1.2.0",
      "model_name": "LayoutModel",
      "state": {
       "_model_module": "@jupyter-widgets/base",
       "_model_module_version": "1.2.0",
       "_model_name": "LayoutModel",
       "_view_count": null,
       "_view_module": "@jupyter-widgets/base",
       "_view_module_version": "1.2.0",
       "_view_name": "LayoutView",
       "align_content": null,
       "align_items": null,
       "align_self": null,
       "border": null,
       "bottom": null,
       "display": null,
       "flex": null,
       "flex_flow": null,
       "grid_area": null,
       "grid_auto_columns": null,
       "grid_auto_flow": null,
       "grid_auto_rows": null,
       "grid_column": null,
       "grid_gap": null,
       "grid_row": null,
       "grid_template_areas": null,
       "grid_template_columns": null,
       "grid_template_rows": null,
       "height": null,
       "justify_content": null,
       "justify_items": null,
       "left": null,
       "margin": null,
       "max_height": null,
       "max_width": null,
       "min_height": null,
       "min_width": null,
       "object_fit": null,
       "object_position": null,
       "order": null,
       "overflow": null,
       "overflow_x": null,
       "overflow_y": null,
       "padding": null,
       "right": null,
       "top": null,
       "visibility": null,
       "width": null
      }
     },
     "5ad3ff9277814d99b515eecb34c7c06b": {
      "model_module": "@jupyter-widgets/base",
      "model_module_version": "1.2.0",
      "model_name": "LayoutModel",
      "state": {
       "_model_module": "@jupyter-widgets/base",
       "_model_module_version": "1.2.0",
       "_model_name": "LayoutModel",
       "_view_count": null,
       "_view_module": "@jupyter-widgets/base",
       "_view_module_version": "1.2.0",
       "_view_name": "LayoutView",
       "align_content": null,
       "align_items": null,
       "align_self": null,
       "border": null,
       "bottom": null,
       "display": null,
       "flex": null,
       "flex_flow": null,
       "grid_area": null,
       "grid_auto_columns": null,
       "grid_auto_flow": null,
       "grid_auto_rows": null,
       "grid_column": null,
       "grid_gap": null,
       "grid_row": null,
       "grid_template_areas": null,
       "grid_template_columns": null,
       "grid_template_rows": null,
       "height": null,
       "justify_content": null,
       "justify_items": null,
       "left": null,
       "margin": null,
       "max_height": null,
       "max_width": null,
       "min_height": null,
       "min_width": null,
       "object_fit": null,
       "object_position": null,
       "order": null,
       "overflow": null,
       "overflow_x": null,
       "overflow_y": null,
       "padding": null,
       "right": null,
       "top": null,
       "visibility": null,
       "width": null
      }
     },
     "6242da58ee7a49a7bb46bd2308f6c4bf": {
      "model_module": "@jupyter-widgets/base",
      "model_module_version": "1.2.0",
      "model_name": "LayoutModel",
      "state": {
       "_model_module": "@jupyter-widgets/base",
       "_model_module_version": "1.2.0",
       "_model_name": "LayoutModel",
       "_view_count": null,
       "_view_module": "@jupyter-widgets/base",
       "_view_module_version": "1.2.0",
       "_view_name": "LayoutView",
       "align_content": null,
       "align_items": null,
       "align_self": null,
       "border": null,
       "bottom": null,
       "display": null,
       "flex": null,
       "flex_flow": null,
       "grid_area": null,
       "grid_auto_columns": null,
       "grid_auto_flow": null,
       "grid_auto_rows": null,
       "grid_column": null,
       "grid_gap": null,
       "grid_row": null,
       "grid_template_areas": null,
       "grid_template_columns": null,
       "grid_template_rows": null,
       "height": null,
       "justify_content": null,
       "justify_items": null,
       "left": null,
       "margin": null,
       "max_height": null,
       "max_width": null,
       "min_height": null,
       "min_width": null,
       "object_fit": null,
       "object_position": null,
       "order": null,
       "overflow": null,
       "overflow_x": null,
       "overflow_y": null,
       "padding": null,
       "right": null,
       "top": null,
       "visibility": null,
       "width": null
      }
     },
     "6bb3bcef25694e15953601b1c0153ad0": {
      "model_module": "@jupyter-widgets/controls",
      "model_module_version": "1.5.0",
      "model_name": "DescriptionStyleModel",
      "state": {
       "_model_module": "@jupyter-widgets/controls",
       "_model_module_version": "1.5.0",
       "_model_name": "DescriptionStyleModel",
       "_view_count": null,
       "_view_module": "@jupyter-widgets/base",
       "_view_module_version": "1.2.0",
       "_view_name": "StyleView",
       "description_width": ""
      }
     },
     "6bb4b8935c3c4b17967c030195bd102e": {
      "model_module": "@jupyter-widgets/controls",
      "model_module_version": "1.5.0",
      "model_name": "HTMLModel",
      "state": {
       "_dom_classes": [],
       "_model_module": "@jupyter-widgets/controls",
       "_model_module_version": "1.5.0",
       "_model_name": "HTMLModel",
       "_view_count": null,
       "_view_module": "@jupyter-widgets/controls",
       "_view_module_version": "1.5.0",
       "_view_name": "HTMLView",
       "description": "",
       "description_tooltip": null,
       "layout": "IPY_MODEL_1b9b82230d79466d9802615c1b4c637d",
       "placeholder": "​",
       "style": "IPY_MODEL_83db7239900e4d77af0a18226ba1ae7a",
       "value": "100%"
      }
     },
     "6ea635b5d0604dc782e6f3a99ff327a5": {
      "model_module": "@jupyter-widgets/controls",
      "model_module_version": "1.5.0",
      "model_name": "FloatProgressModel",
      "state": {
       "_dom_classes": [],
       "_model_module": "@jupyter-widgets/controls",
       "_model_module_version": "1.5.0",
       "_model_name": "FloatProgressModel",
       "_view_count": null,
       "_view_module": "@jupyter-widgets/controls",
       "_view_module_version": "1.5.0",
       "_view_name": "ProgressView",
       "bar_style": "success",
       "description": "",
       "description_tooltip": null,
       "layout": "IPY_MODEL_ae507d964c764be68ce3d4ef20fe0b43",
       "max": 75450.0,
       "min": 0.0,
       "orientation": "horizontal",
       "style": "IPY_MODEL_9b6fcdac9d14451383ad056d3e9009a3",
       "value": 75450.0
      }
     },
     "706f04c779ed4056adfc83be1ae11f9a": {
      "model_module": "@jupyter-widgets/controls",
      "model_module_version": "1.5.0",
      "model_name": "HTMLModel",
      "state": {
       "_dom_classes": [],
       "_model_module": "@jupyter-widgets/controls",
       "_model_module_version": "1.5.0",
       "_model_name": "HTMLModel",
       "_view_count": null,
       "_view_module": "@jupyter-widgets/controls",
       "_view_module_version": "1.5.0",
       "_view_name": "HTMLView",
       "description": "",
       "description_tooltip": null,
       "layout": "IPY_MODEL_6242da58ee7a49a7bb46bd2308f6c4bf",
       "placeholder": "​",
       "style": "IPY_MODEL_5062d816409f493fa17cf2ac6c7e5eb2",
       "value": " 50300/50300 [2:39:31&lt;00:00,  8.60it/s]"
      }
     },
     "717b6222f80a4cd3847ff1d5daf4a967": {
      "model_module": "@jupyter-widgets/controls",
      "model_module_version": "1.5.0",
      "model_name": "DescriptionStyleModel",
      "state": {
       "_model_module": "@jupyter-widgets/controls",
       "_model_module_version": "1.5.0",
       "_model_name": "DescriptionStyleModel",
       "_view_count": null,
       "_view_module": "@jupyter-widgets/base",
       "_view_module_version": "1.2.0",
       "_view_name": "StyleView",
       "description_width": ""
      }
     },
     "73ffe0b46a834f40a7761fe0f648811a": {
      "model_module": "@jupyter-widgets/controls",
      "model_module_version": "1.5.0",
      "model_name": "DescriptionStyleModel",
      "state": {
       "_model_module": "@jupyter-widgets/controls",
       "_model_module_version": "1.5.0",
       "_model_name": "DescriptionStyleModel",
       "_view_count": null,
       "_view_module": "@jupyter-widgets/base",
       "_view_module_version": "1.2.0",
       "_view_name": "StyleView",
       "description_width": ""
      }
     },
     "83db7239900e4d77af0a18226ba1ae7a": {
      "model_module": "@jupyter-widgets/controls",
      "model_module_version": "1.5.0",
      "model_name": "DescriptionStyleModel",
      "state": {
       "_model_module": "@jupyter-widgets/controls",
       "_model_module_version": "1.5.0",
       "_model_name": "DescriptionStyleModel",
       "_view_count": null,
       "_view_module": "@jupyter-widgets/base",
       "_view_module_version": "1.2.0",
       "_view_name": "StyleView",
       "description_width": ""
      }
     },
     "907cc957596a469cbc54c607e74f1d44": {
      "model_module": "@jupyter-widgets/base",
      "model_module_version": "1.2.0",
      "model_name": "LayoutModel",
      "state": {
       "_model_module": "@jupyter-widgets/base",
       "_model_module_version": "1.2.0",
       "_model_name": "LayoutModel",
       "_view_count": null,
       "_view_module": "@jupyter-widgets/base",
       "_view_module_version": "1.2.0",
       "_view_name": "LayoutView",
       "align_content": null,
       "align_items": null,
       "align_self": null,
       "border": null,
       "bottom": null,
       "display": null,
       "flex": null,
       "flex_flow": null,
       "grid_area": null,
       "grid_auto_columns": null,
       "grid_auto_flow": null,
       "grid_auto_rows": null,
       "grid_column": null,
       "grid_gap": null,
       "grid_row": null,
       "grid_template_areas": null,
       "grid_template_columns": null,
       "grid_template_rows": null,
       "height": null,
       "justify_content": null,
       "justify_items": null,
       "left": null,
       "margin": null,
       "max_height": null,
       "max_width": null,
       "min_height": null,
       "min_width": null,
       "object_fit": null,
       "object_position": null,
       "order": null,
       "overflow": null,
       "overflow_x": null,
       "overflow_y": null,
       "padding": null,
       "right": null,
       "top": null,
       "visibility": null,
       "width": null
      }
     },
     "92072b53ae2d461c8469995ce6a75bde": {
      "model_module": "@jupyter-widgets/base",
      "model_module_version": "1.2.0",
      "model_name": "LayoutModel",
      "state": {
       "_model_module": "@jupyter-widgets/base",
       "_model_module_version": "1.2.0",
       "_model_name": "LayoutModel",
       "_view_count": null,
       "_view_module": "@jupyter-widgets/base",
       "_view_module_version": "1.2.0",
       "_view_name": "LayoutView",
       "align_content": null,
       "align_items": null,
       "align_self": null,
       "border": null,
       "bottom": null,
       "display": null,
       "flex": null,
       "flex_flow": null,
       "grid_area": null,
       "grid_auto_columns": null,
       "grid_auto_flow": null,
       "grid_auto_rows": null,
       "grid_column": null,
       "grid_gap": null,
       "grid_row": null,
       "grid_template_areas": null,
       "grid_template_columns": null,
       "grid_template_rows": null,
       "height": null,
       "justify_content": null,
       "justify_items": null,
       "left": null,
       "margin": null,
       "max_height": null,
       "max_width": null,
       "min_height": null,
       "min_width": null,
       "object_fit": null,
       "object_position": null,
       "order": null,
       "overflow": null,
       "overflow_x": null,
       "overflow_y": null,
       "padding": null,
       "right": null,
       "top": null,
       "visibility": null,
       "width": null
      }
     },
     "9b6fcdac9d14451383ad056d3e9009a3": {
      "model_module": "@jupyter-widgets/controls",
      "model_module_version": "1.5.0",
      "model_name": "ProgressStyleModel",
      "state": {
       "_model_module": "@jupyter-widgets/controls",
       "_model_module_version": "1.5.0",
       "_model_name": "ProgressStyleModel",
       "_view_count": null,
       "_view_module": "@jupyter-widgets/base",
       "_view_module_version": "1.2.0",
       "_view_name": "StyleView",
       "bar_color": null,
       "description_width": ""
      }
     },
     "a2e59b0616f44c7f8acde62982b38a6c": {
      "model_module": "@jupyter-widgets/controls",
      "model_module_version": "1.5.0",
      "model_name": "HTMLModel",
      "state": {
       "_dom_classes": [],
       "_model_module": "@jupyter-widgets/controls",
       "_model_module_version": "1.5.0",
       "_model_name": "HTMLModel",
       "_view_count": null,
       "_view_module": "@jupyter-widgets/controls",
       "_view_module_version": "1.5.0",
       "_view_name": "HTMLView",
       "description": "",
       "description_tooltip": null,
       "layout": "IPY_MODEL_5100fd4d5d10466a864867c6590f521c",
       "placeholder": "​",
       "style": "IPY_MODEL_717b6222f80a4cd3847ff1d5daf4a967",
       "value": "100%"
      }
     },
     "a8626236a47c4c4b8e5f488e1d2d58c5": {
      "model_module": "@jupyter-widgets/base",
      "model_module_version": "1.2.0",
      "model_name": "LayoutModel",
      "state": {
       "_model_module": "@jupyter-widgets/base",
       "_model_module_version": "1.2.0",
       "_model_name": "LayoutModel",
       "_view_count": null,
       "_view_module": "@jupyter-widgets/base",
       "_view_module_version": "1.2.0",
       "_view_name": "LayoutView",
       "align_content": null,
       "align_items": null,
       "align_self": null,
       "border": null,
       "bottom": null,
       "display": null,
       "flex": null,
       "flex_flow": null,
       "grid_area": null,
       "grid_auto_columns": null,
       "grid_auto_flow": null,
       "grid_auto_rows": null,
       "grid_column": null,
       "grid_gap": null,
       "grid_row": null,
       "grid_template_areas": null,
       "grid_template_columns": null,
       "grid_template_rows": null,
       "height": null,
       "justify_content": null,
       "justify_items": null,
       "left": null,
       "margin": null,
       "max_height": null,
       "max_width": null,
       "min_height": null,
       "min_width": null,
       "object_fit": null,
       "object_position": null,
       "order": null,
       "overflow": null,
       "overflow_x": null,
       "overflow_y": null,
       "padding": null,
       "right": null,
       "top": null,
       "visibility": null,
       "width": null
      }
     },
     "ae507d964c764be68ce3d4ef20fe0b43": {
      "model_module": "@jupyter-widgets/base",
      "model_module_version": "1.2.0",
      "model_name": "LayoutModel",
      "state": {
       "_model_module": "@jupyter-widgets/base",
       "_model_module_version": "1.2.0",
       "_model_name": "LayoutModel",
       "_view_count": null,
       "_view_module": "@jupyter-widgets/base",
       "_view_module_version": "1.2.0",
       "_view_name": "LayoutView",
       "align_content": null,
       "align_items": null,
       "align_self": null,
       "border": null,
       "bottom": null,
       "display": null,
       "flex": null,
       "flex_flow": null,
       "grid_area": null,
       "grid_auto_columns": null,
       "grid_auto_flow": null,
       "grid_auto_rows": null,
       "grid_column": null,
       "grid_gap": null,
       "grid_row": null,
       "grid_template_areas": null,
       "grid_template_columns": null,
       "grid_template_rows": null,
       "height": null,
       "justify_content": null,
       "justify_items": null,
       "left": null,
       "margin": null,
       "max_height": null,
       "max_width": null,
       "min_height": null,
       "min_width": null,
       "object_fit": null,
       "object_position": null,
       "order": null,
       "overflow": null,
       "overflow_x": null,
       "overflow_y": null,
       "padding": null,
       "right": null,
       "top": null,
       "visibility": null,
       "width": null
      }
     },
     "b0d6c8ceb0374220a3a36632c9dd7e5f": {
      "model_module": "@jupyter-widgets/controls",
      "model_module_version": "1.5.0",
      "model_name": "ProgressStyleModel",
      "state": {
       "_model_module": "@jupyter-widgets/controls",
       "_model_module_version": "1.5.0",
       "_model_name": "ProgressStyleModel",
       "_view_count": null,
       "_view_module": "@jupyter-widgets/base",
       "_view_module_version": "1.2.0",
       "_view_name": "StyleView",
       "bar_color": null,
       "description_width": ""
      }
     },
     "b50a5d46c6ae48119e2b66dd6294b777": {
      "model_module": "@jupyter-widgets/base",
      "model_module_version": "1.2.0",
      "model_name": "LayoutModel",
      "state": {
       "_model_module": "@jupyter-widgets/base",
       "_model_module_version": "1.2.0",
       "_model_name": "LayoutModel",
       "_view_count": null,
       "_view_module": "@jupyter-widgets/base",
       "_view_module_version": "1.2.0",
       "_view_name": "LayoutView",
       "align_content": null,
       "align_items": null,
       "align_self": null,
       "border": null,
       "bottom": null,
       "display": null,
       "flex": null,
       "flex_flow": null,
       "grid_area": null,
       "grid_auto_columns": null,
       "grid_auto_flow": null,
       "grid_auto_rows": null,
       "grid_column": null,
       "grid_gap": null,
       "grid_row": null,
       "grid_template_areas": null,
       "grid_template_columns": null,
       "grid_template_rows": null,
       "height": null,
       "justify_content": null,
       "justify_items": null,
       "left": null,
       "margin": null,
       "max_height": null,
       "max_width": null,
       "min_height": null,
       "min_width": null,
       "object_fit": null,
       "object_position": null,
       "order": null,
       "overflow": null,
       "overflow_x": null,
       "overflow_y": null,
       "padding": null,
       "right": null,
       "top": null,
       "visibility": null,
       "width": null
      }
     },
     "b895b703f17e45c79101b41c3cb41291": {
      "model_module": "@jupyter-widgets/controls",
      "model_module_version": "1.5.0",
      "model_name": "FloatProgressModel",
      "state": {
       "_dom_classes": [],
       "_model_module": "@jupyter-widgets/controls",
       "_model_module_version": "1.5.0",
       "_model_name": "FloatProgressModel",
       "_view_count": null,
       "_view_module": "@jupyter-widgets/controls",
       "_view_module_version": "1.5.0",
       "_view_name": "ProgressView",
       "bar_style": "success",
       "description": "",
       "description_tooltip": null,
       "layout": "IPY_MODEL_02d26b0780944d438a4d6c51cc058a44",
       "max": 1000.0,
       "min": 0.0,
       "orientation": "horizontal",
       "style": "IPY_MODEL_b0d6c8ceb0374220a3a36632c9dd7e5f",
       "value": 1000.0
      }
     },
     "c77fb9a8668b472f9a7f4599c66f9e93": {
      "model_module": "@jupyter-widgets/controls",
      "model_module_version": "1.5.0",
      "model_name": "HBoxModel",
      "state": {
       "_dom_classes": [],
       "_model_module": "@jupyter-widgets/controls",
       "_model_module_version": "1.5.0",
       "_model_name": "HBoxModel",
       "_view_count": null,
       "_view_module": "@jupyter-widgets/controls",
       "_view_module_version": "1.5.0",
       "_view_name": "HBoxView",
       "box_style": "",
       "children": [
        "IPY_MODEL_6bb4b8935c3c4b17967c030195bd102e",
        "IPY_MODEL_b895b703f17e45c79101b41c3cb41291",
        "IPY_MODEL_03debecbcbe2439e925759e9fcb0022b"
       ],
       "layout": "IPY_MODEL_b50a5d46c6ae48119e2b66dd6294b777"
      }
     },
     "f4256c6d1823404cad94a7b9fbfc64c3": {
      "model_module": "@jupyter-widgets/controls",
      "model_module_version": "1.5.0",
      "model_name": "FloatProgressModel",
      "state": {
       "_dom_classes": [],
       "_model_module": "@jupyter-widgets/controls",
       "_model_module_version": "1.5.0",
       "_model_name": "FloatProgressModel",
       "_view_count": null,
       "_view_module": "@jupyter-widgets/controls",
       "_view_module_version": "1.5.0",
       "_view_name": "ProgressView",
       "bar_style": "success",
       "description": "",
       "description_tooltip": null,
       "layout": "IPY_MODEL_907cc957596a469cbc54c607e74f1d44",
       "max": 50300.0,
       "min": 0.0,
       "orientation": "horizontal",
       "style": "IPY_MODEL_f88bd5f473ba429cbd30e38421487c1b",
       "value": 50300.0
      }
     },
     "f5b0531939bc43c8992da5492f21df3e": {
      "model_module": "@jupyter-widgets/controls",
      "model_module_version": "1.5.0",
      "model_name": "HBoxModel",
      "state": {
       "_dom_classes": [],
       "_model_module": "@jupyter-widgets/controls",
       "_model_module_version": "1.5.0",
       "_model_name": "HBoxModel",
       "_view_count": null,
       "_view_module": "@jupyter-widgets/controls",
       "_view_module_version": "1.5.0",
       "_view_name": "HBoxView",
       "box_style": "",
       "children": [
        "IPY_MODEL_a2e59b0616f44c7f8acde62982b38a6c",
        "IPY_MODEL_f4256c6d1823404cad94a7b9fbfc64c3",
        "IPY_MODEL_706f04c779ed4056adfc83be1ae11f9a"
       ],
       "layout": "IPY_MODEL_92072b53ae2d461c8469995ce6a75bde"
      }
     },
     "f88bd5f473ba429cbd30e38421487c1b": {
      "model_module": "@jupyter-widgets/controls",
      "model_module_version": "1.5.0",
      "model_name": "ProgressStyleModel",
      "state": {
       "_model_module": "@jupyter-widgets/controls",
       "_model_module_version": "1.5.0",
       "_model_name": "ProgressStyleModel",
       "_view_count": null,
       "_view_module": "@jupyter-widgets/base",
       "_view_module_version": "1.2.0",
       "_view_name": "StyleView",
       "bar_color": null,
       "description_width": ""
      }
     }
    },
    "version_major": 2,
    "version_minor": 0
   }
  }
 },
 "nbformat": 4,
 "nbformat_minor": 5
}
