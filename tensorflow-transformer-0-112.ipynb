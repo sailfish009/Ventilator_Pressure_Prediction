{
 "cells": [
  {
   "cell_type": "markdown",
   "id": "f00ae68f",
   "metadata": {
    "papermill": {
     "duration": 0.026048,
     "end_time": "2021-11-08T01:04:39.351969",
     "exception": false,
     "start_time": "2021-11-08T01:04:39.325921",
     "status": "completed"
    },
    "tags": []
   },
   "source": [
    "# TensorFlow Transformer - CV 0.131 LB 0.112\n",
    "The transformer in this notebook has an **amazing CV 0.131** on `u_out=0`. When we submit 1 fold, it achieves LB 0.131. When we submit (the median of) 11 folds, it achieves LB 0.115, and when we submit 32 folds, it achieves an **amazing gold medal LB 0.112**! It trains with three targets `pressure`, `pressure.diff()`, and `pressure.cumsum()` but we only submit the predictions for `pressure` to Kaggle.\n",
    "\n",
    "I'm very proud of this transformer. In Kaggle's Vent Comp, there are many pubic notebooks demonstrating how to build RNNs but there are not public notebooks about transformers. I needed to design this network and tune this network by myself. I am very happy with the results.\n",
    "\n",
    "My teammate @drhabib , @mmotoki , @lihuajing , @yamsam gave me many helpful suggestions to improve CV from 0.170 to 0.130. Thanks teammates!"
   ]
  },
  {
   "cell_type": "code",
   "execution_count": 1,
   "id": "b220c279",
   "metadata": {
    "execution": {
     "iopub.execute_input": "2021-11-08T01:04:39.407543Z",
     "iopub.status.busy": "2021-11-08T01:04:39.406026Z",
     "iopub.status.idle": "2021-11-08T01:04:39.415116Z",
     "shell.execute_reply": "2021-11-08T01:04:39.414576Z",
     "shell.execute_reply.started": "2021-11-08T00:53:01.235678Z"
    },
    "papermill": {
     "duration": 0.037456,
     "end_time": "2021-11-08T01:04:39.415250",
     "exception": false,
     "start_time": "2021-11-08T01:04:39.377794",
     "status": "completed"
    },
    "tags": []
   },
   "outputs": [],
   "source": [
    "import os\n",
    "os.environ[\"CUDA_VISIBLE_DEVICES\"]=\"0\"\n",
    "\n",
    "VER = 84\n",
    "FIRST_FOLD_ONLY = True\n",
    "TRAIN_MODEL = False"
   ]
  },
  {
   "cell_type": "code",
   "execution_count": 2,
   "id": "d6300557",
   "metadata": {
    "execution": {
     "iopub.execute_input": "2021-11-08T01:04:39.467485Z",
     "iopub.status.busy": "2021-11-08T01:04:39.466654Z",
     "iopub.status.idle": "2021-11-08T01:04:44.964316Z",
     "shell.execute_reply": "2021-11-08T01:04:44.964757Z",
     "shell.execute_reply.started": "2021-11-08T00:53:01.255642Z"
    },
    "papermill": {
     "duration": 5.524819,
     "end_time": "2021-11-08T01:04:44.964959",
     "exception": false,
     "start_time": "2021-11-08T01:04:39.440140",
     "status": "completed"
    },
    "tags": []
   },
   "outputs": [],
   "source": [
    "os.environ['TF_CPP_MIN_LOG_LEVEL'] = '3' \n",
    "import tensorflow as tf\n",
    "from tensorflow import keras\n",
    "from tensorflow.keras import layers\n",
    "\n",
    "from tensorflow.keras.callbacks import EarlyStopping, ModelCheckpoint\n",
    "from tensorflow.keras.callbacks import LearningRateScheduler, ReduceLROnPlateau\n",
    "\n",
    "import pandas as pd, numpy as np\n",
    "from sklearn.model_selection import KFold\n",
    "from sklearn.preprocessing import RobustScaler\n",
    "from sklearn.metrics import mean_absolute_error"
   ]
  },
  {
   "cell_type": "markdown",
   "id": "4c67b2c1",
   "metadata": {
    "papermill": {
     "duration": 0.025214,
     "end_time": "2021-11-08T01:04:45.015170",
     "exception": false,
     "start_time": "2021-11-08T01:04:44.989956",
     "status": "completed"
    },
    "tags": []
   },
   "source": [
    "# Load Data and Feature Engineer\n",
    "We will use the features from [DLastStark's][2] great notebook [here][1]. Most likely if we remove and/or add features we can improve this transformers CV LB.\n",
    "\n",
    "[1]: https://www.kaggle.com/dlaststark/gb-vpp-pulp-fiction\n",
    "[2]: https://www.kaggle.com/dlaststark"
   ]
  },
  {
   "cell_type": "code",
   "execution_count": 3,
   "id": "1b940fd7",
   "metadata": {
    "execution": {
     "iopub.execute_input": "2021-11-08T01:04:45.070495Z",
     "iopub.status.busy": "2021-11-08T01:04:45.069538Z",
     "iopub.status.idle": "2021-11-08T01:04:58.698242Z",
     "shell.execute_reply": "2021-11-08T01:04:58.697715Z",
     "shell.execute_reply.started": "2021-11-08T00:53:06.550378Z"
    },
    "papermill": {
     "duration": 13.658465,
     "end_time": "2021-11-08T01:04:58.698382",
     "exception": false,
     "start_time": "2021-11-08T01:04:45.039917",
     "status": "completed"
    },
    "tags": []
   },
   "outputs": [],
   "source": [
    "train = pd.read_csv('../input/ventilator-pressure-prediction/train.csv')\n",
    "test = pd.read_csv('../input/ventilator-pressure-prediction/test.csv')\n",
    "submission = pd.read_csv('../input/ventilator-pressure-prediction/sample_submission.csv')"
   ]
  },
  {
   "cell_type": "code",
   "execution_count": 4,
   "id": "ad5e9879",
   "metadata": {
    "execution": {
     "iopub.execute_input": "2021-11-08T01:04:58.763428Z",
     "iopub.status.busy": "2021-11-08T01:04:58.762369Z",
     "iopub.status.idle": "2021-11-08T01:07:03.133438Z",
     "shell.execute_reply": "2021-11-08T01:07:03.132766Z",
     "shell.execute_reply.started": "2021-11-08T00:53:20.239434Z"
    },
    "papermill": {
     "duration": 124.409488,
     "end_time": "2021-11-08T01:07:03.133648",
     "exception": false,
     "start_time": "2021-11-08T01:04:58.724160",
     "status": "completed"
    },
    "tags": []
   },
   "outputs": [
    {
     "name": "stdout",
     "output_type": "stream",
     "text": [
      "Step-1...Completed\n",
      "Step-2...Completed\n",
      "Step-3...Completed\n",
      "Step-4...Completed\n",
      "Step-5...Completed\n",
      "Step-6...Completed\n",
      "Step-7...Completed\n",
      "Step-8...Completed\n",
      "Step-1...Completed\n",
      "Step-2...Completed\n",
      "Step-3...Completed\n",
      "Step-4...Completed\n",
      "Step-5...Completed\n",
      "Step-6...Completed\n",
      "Step-7...Completed\n",
      "Step-8...Completed\n"
     ]
    }
   ],
   "source": [
    "def add_features(df):\n",
    "    df['cross']= df['u_in'] * df['u_out']\n",
    "    df['cross2']= df['time_step'] * df['u_out']\n",
    "    df['area'] = df['time_step'] * df['u_in']\n",
    "    df['area'] = df.groupby('breath_id')['area'].cumsum()\n",
    "    df['time_step_cumsum'] = df.groupby(['breath_id'])['time_step'].cumsum()\n",
    "    df['u_in_cumsum'] = (df['u_in']).groupby(df['breath_id']).cumsum()\n",
    "    print(\"Step-1...Completed\")\n",
    "    \n",
    "    df['u_in_lag1'] = df.groupby('breath_id')['u_in'].shift(1)\n",
    "    df['u_out_lag1'] = df.groupby('breath_id')['u_out'].shift(1)\n",
    "    df['u_in_lag_back1'] = df.groupby('breath_id')['u_in'].shift(-1)\n",
    "    df['u_out_lag_back1'] = df.groupby('breath_id')['u_out'].shift(-1)\n",
    "    df['u_in_lag2'] = df.groupby('breath_id')['u_in'].shift(2)\n",
    "    df['u_out_lag2'] = df.groupby('breath_id')['u_out'].shift(2)\n",
    "    df['u_in_lag_back2'] = df.groupby('breath_id')['u_in'].shift(-2)\n",
    "    df['u_out_lag_back2'] = df.groupby('breath_id')['u_out'].shift(-2)\n",
    "    df['u_in_lag3'] = df.groupby('breath_id')['u_in'].shift(3)\n",
    "    df['u_out_lag3'] = df.groupby('breath_id')['u_out'].shift(3)\n",
    "    df['u_in_lag_back3'] = df.groupby('breath_id')['u_in'].shift(-3)\n",
    "    df['u_out_lag_back3'] = df.groupby('breath_id')['u_out'].shift(-3)\n",
    "    df['u_in_lag4'] = df.groupby('breath_id')['u_in'].shift(4)\n",
    "    df['u_out_lag4'] = df.groupby('breath_id')['u_out'].shift(4)\n",
    "    df['u_in_lag_back4'] = df.groupby('breath_id')['u_in'].shift(-4)\n",
    "    df['u_out_lag_back4'] = df.groupby('breath_id')['u_out'].shift(-4)\n",
    "    df = df.fillna(0)\n",
    "    print(\"Step-2...Completed\")\n",
    "    \n",
    "    df['breath_id__u_in__max'] = df.groupby(['breath_id'])['u_in'].transform('max')\n",
    "    df['breath_id__u_in__mean'] = df.groupby(['breath_id'])['u_in'].transform('mean')\n",
    "    df['breath_id__u_in__diffmax'] = df.groupby(['breath_id'])['u_in'].transform('max') - df['u_in']\n",
    "    df['breath_id__u_in__diffmean'] = df.groupby(['breath_id'])['u_in'].transform('mean') - df['u_in']\n",
    "\n",
    "    print(\"Step-3...Completed\")\n",
    "    \n",
    "    df['u_in_diff1'] = df['u_in'] - df['u_in_lag1']\n",
    "    df['u_out_diff1'] = df['u_out'] - df['u_out_lag1']\n",
    "    df['u_in_diff2'] = df['u_in'] - df['u_in_lag2']\n",
    "    df['u_out_diff2'] = df['u_out'] - df['u_out_lag2']\n",
    "    df['u_in_diff3'] = df['u_in'] - df['u_in_lag3']\n",
    "    df['u_out_diff3'] = df['u_out'] - df['u_out_lag3']\n",
    "    df['u_in_diff4'] = df['u_in'] - df['u_in_lag4']\n",
    "    df['u_out_diff4'] = df['u_out'] - df['u_out_lag4']\n",
    "    print(\"Step-4...Completed\")\n",
    "    \n",
    "    df['one'] = 1\n",
    "    df['count'] = (df['one']).groupby(df['breath_id']).cumsum()\n",
    "    df['u_in_cummean'] =df['u_in_cumsum'] /df['count']\n",
    "    \n",
    "    df['breath_id_lag']=df['breath_id'].shift(1).fillna(0)\n",
    "    df['breath_id_lag2']=df['breath_id'].shift(2).fillna(0)\n",
    "    df['breath_id_lagsame']=np.select([df['breath_id_lag']==df['breath_id']],[1],0)\n",
    "    df['breath_id_lag2same']=np.select([df['breath_id_lag2']==df['breath_id']],[1],0)\n",
    "    df['breath_id__u_in_lag'] = df['u_in'].shift(1).fillna(0)\n",
    "    df['breath_id__u_in_lag'] = df['breath_id__u_in_lag'] * df['breath_id_lagsame']\n",
    "    df['breath_id__u_in_lag2'] = df['u_in'].shift(2).fillna(0)\n",
    "    df['breath_id__u_in_lag2'] = df['breath_id__u_in_lag2'] * df['breath_id_lag2same']\n",
    "    print(\"Step-5...Completed\")\n",
    "    \n",
    "    df['time_step_diff'] = df.groupby('breath_id')['time_step'].diff().fillna(0)\n",
    "    df['ewm_u_in_mean'] = (df\\\n",
    "                           .groupby('breath_id')['u_in']\\\n",
    "                           .ewm(halflife=9)\\\n",
    "                           .mean()\\\n",
    "                           .reset_index(level=0,drop=True))\n",
    "    df[[\"15_in_sum\",\"15_in_min\",\"15_in_max\",\"15_in_mean\"]] = (df\\\n",
    "                                                              .groupby('breath_id')['u_in']\\\n",
    "                                                              .rolling(window=15,min_periods=1)\\\n",
    "                                                              .agg({\"15_in_sum\":\"sum\",\n",
    "                                                                    \"15_in_min\":\"min\",\n",
    "                                                                    \"15_in_max\":\"max\",\n",
    "                                                                    \"15_in_mean\":\"mean\"\n",
    "                                                                    #\"15_in_std\":\"std\"\n",
    "                                                               })\\\n",
    "                                                               .reset_index(level=0,drop=True))\n",
    "    print(\"Step-6...Completed\")\n",
    "        \n",
    "    df['u_in_lagback_diff1'] = df['u_in'] - df['u_in_lag_back1']\n",
    "    df['u_out_lagback_diff1'] = df['u_out'] - df['u_out_lag_back1']\n",
    "    df['u_in_lagback_diff2'] = df['u_in'] - df['u_in_lag_back2']\n",
    "    df['u_out_lagback_diff2'] = df['u_out'] - df['u_out_lag_back2']\n",
    "    print(\"Step-7...Completed\")\n",
    "    \n",
    "    df['R'] = df['R'].astype(str)\n",
    "    df['C'] = df['C'].astype(str)\n",
    "    df['R__C'] = df[\"R\"].astype(str) + '__' + df[\"C\"].astype(str)\n",
    "    df = pd.get_dummies(df)\n",
    "    print(\"Step-8...Completed\")\n",
    "    \n",
    "    return df\n",
    "\n",
    "train = add_features(train)\n",
    "test = add_features(test)"
   ]
  },
  {
   "cell_type": "code",
   "execution_count": 5,
   "id": "8f072932",
   "metadata": {
    "execution": {
     "iopub.execute_input": "2021-11-08T01:07:03.206369Z",
     "iopub.status.busy": "2021-11-08T01:07:03.204809Z",
     "iopub.status.idle": "2021-11-08T01:07:03.229479Z",
     "shell.execute_reply": "2021-11-08T01:07:03.229935Z",
     "shell.execute_reply.started": "2021-11-08T00:55:25.882706Z"
    },
    "papermill": {
     "duration": 0.064632,
     "end_time": "2021-11-08T01:07:03.230083",
     "exception": false,
     "start_time": "2021-11-08T01:07:03.165451",
     "status": "completed"
    },
    "tags": []
   },
   "outputs": [
    {
     "name": "stdout",
     "output_type": "stream",
     "text": [
      "Train shape is now: (6036000, 73)\n"
     ]
    },
    {
     "data": {
      "text/html": [
       "<div>\n",
       "<style scoped>\n",
       "    .dataframe tbody tr th:only-of-type {\n",
       "        vertical-align: middle;\n",
       "    }\n",
       "\n",
       "    .dataframe tbody tr th {\n",
       "        vertical-align: top;\n",
       "    }\n",
       "\n",
       "    .dataframe thead th {\n",
       "        text-align: right;\n",
       "    }\n",
       "</style>\n",
       "<table border=\"1\" class=\"dataframe\">\n",
       "  <thead>\n",
       "    <tr style=\"text-align: right;\">\n",
       "      <th></th>\n",
       "      <th>id</th>\n",
       "      <th>breath_id</th>\n",
       "      <th>time_step</th>\n",
       "      <th>u_in</th>\n",
       "      <th>u_out</th>\n",
       "      <th>pressure</th>\n",
       "      <th>cross</th>\n",
       "      <th>cross2</th>\n",
       "      <th>area</th>\n",
       "      <th>time_step_cumsum</th>\n",
       "      <th>...</th>\n",
       "      <th>C_50</th>\n",
       "      <th>R__C_20__10</th>\n",
       "      <th>R__C_20__20</th>\n",
       "      <th>R__C_20__50</th>\n",
       "      <th>R__C_50__10</th>\n",
       "      <th>R__C_50__20</th>\n",
       "      <th>R__C_50__50</th>\n",
       "      <th>R__C_5__10</th>\n",
       "      <th>R__C_5__20</th>\n",
       "      <th>R__C_5__50</th>\n",
       "    </tr>\n",
       "  </thead>\n",
       "  <tbody>\n",
       "    <tr>\n",
       "      <th>0</th>\n",
       "      <td>1</td>\n",
       "      <td>1</td>\n",
       "      <td>0.000000</td>\n",
       "      <td>0.083334</td>\n",
       "      <td>0</td>\n",
       "      <td>5.837492</td>\n",
       "      <td>0.0</td>\n",
       "      <td>0.0</td>\n",
       "      <td>0.000000</td>\n",
       "      <td>0.000000</td>\n",
       "      <td>...</td>\n",
       "      <td>1</td>\n",
       "      <td>0</td>\n",
       "      <td>0</td>\n",
       "      <td>1</td>\n",
       "      <td>0</td>\n",
       "      <td>0</td>\n",
       "      <td>0</td>\n",
       "      <td>0</td>\n",
       "      <td>0</td>\n",
       "      <td>0</td>\n",
       "    </tr>\n",
       "    <tr>\n",
       "      <th>1</th>\n",
       "      <td>2</td>\n",
       "      <td>1</td>\n",
       "      <td>0.033652</td>\n",
       "      <td>18.383041</td>\n",
       "      <td>0</td>\n",
       "      <td>5.907794</td>\n",
       "      <td>0.0</td>\n",
       "      <td>0.0</td>\n",
       "      <td>0.618632</td>\n",
       "      <td>0.033652</td>\n",
       "      <td>...</td>\n",
       "      <td>1</td>\n",
       "      <td>0</td>\n",
       "      <td>0</td>\n",
       "      <td>1</td>\n",
       "      <td>0</td>\n",
       "      <td>0</td>\n",
       "      <td>0</td>\n",
       "      <td>0</td>\n",
       "      <td>0</td>\n",
       "      <td>0</td>\n",
       "    </tr>\n",
       "    <tr>\n",
       "      <th>2</th>\n",
       "      <td>3</td>\n",
       "      <td>1</td>\n",
       "      <td>0.067514</td>\n",
       "      <td>22.509278</td>\n",
       "      <td>0</td>\n",
       "      <td>7.876254</td>\n",
       "      <td>0.0</td>\n",
       "      <td>0.0</td>\n",
       "      <td>2.138333</td>\n",
       "      <td>0.101167</td>\n",
       "      <td>...</td>\n",
       "      <td>1</td>\n",
       "      <td>0</td>\n",
       "      <td>0</td>\n",
       "      <td>1</td>\n",
       "      <td>0</td>\n",
       "      <td>0</td>\n",
       "      <td>0</td>\n",
       "      <td>0</td>\n",
       "      <td>0</td>\n",
       "      <td>0</td>\n",
       "    </tr>\n",
       "    <tr>\n",
       "      <th>3</th>\n",
       "      <td>4</td>\n",
       "      <td>1</td>\n",
       "      <td>0.101542</td>\n",
       "      <td>22.808822</td>\n",
       "      <td>0</td>\n",
       "      <td>11.742872</td>\n",
       "      <td>0.0</td>\n",
       "      <td>0.0</td>\n",
       "      <td>4.454391</td>\n",
       "      <td>0.202709</td>\n",
       "      <td>...</td>\n",
       "      <td>1</td>\n",
       "      <td>0</td>\n",
       "      <td>0</td>\n",
       "      <td>1</td>\n",
       "      <td>0</td>\n",
       "      <td>0</td>\n",
       "      <td>0</td>\n",
       "      <td>0</td>\n",
       "      <td>0</td>\n",
       "      <td>0</td>\n",
       "    </tr>\n",
       "    <tr>\n",
       "      <th>4</th>\n",
       "      <td>5</td>\n",
       "      <td>1</td>\n",
       "      <td>0.135756</td>\n",
       "      <td>25.355850</td>\n",
       "      <td>0</td>\n",
       "      <td>12.234987</td>\n",
       "      <td>0.0</td>\n",
       "      <td>0.0</td>\n",
       "      <td>7.896588</td>\n",
       "      <td>0.338464</td>\n",
       "      <td>...</td>\n",
       "      <td>1</td>\n",
       "      <td>0</td>\n",
       "      <td>0</td>\n",
       "      <td>1</td>\n",
       "      <td>0</td>\n",
       "      <td>0</td>\n",
       "      <td>0</td>\n",
       "      <td>0</td>\n",
       "      <td>0</td>\n",
       "      <td>0</td>\n",
       "    </tr>\n",
       "  </tbody>\n",
       "</table>\n",
       "<p>5 rows × 73 columns</p>\n",
       "</div>"
      ],
      "text/plain": [
       "   id  breath_id  time_step       u_in  u_out   pressure  cross  cross2  \\\n",
       "0   1          1   0.000000   0.083334      0   5.837492    0.0     0.0   \n",
       "1   2          1   0.033652  18.383041      0   5.907794    0.0     0.0   \n",
       "2   3          1   0.067514  22.509278      0   7.876254    0.0     0.0   \n",
       "3   4          1   0.101542  22.808822      0  11.742872    0.0     0.0   \n",
       "4   5          1   0.135756  25.355850      0  12.234987    0.0     0.0   \n",
       "\n",
       "       area  time_step_cumsum  ...  C_50  R__C_20__10  R__C_20__20  \\\n",
       "0  0.000000          0.000000  ...     1            0            0   \n",
       "1  0.618632          0.033652  ...     1            0            0   \n",
       "2  2.138333          0.101167  ...     1            0            0   \n",
       "3  4.454391          0.202709  ...     1            0            0   \n",
       "4  7.896588          0.338464  ...     1            0            0   \n",
       "\n",
       "   R__C_20__50  R__C_50__10  R__C_50__20  R__C_50__50  R__C_5__10  R__C_5__20  \\\n",
       "0            1            0            0            0           0           0   \n",
       "1            1            0            0            0           0           0   \n",
       "2            1            0            0            0           0           0   \n",
       "3            1            0            0            0           0           0   \n",
       "4            1            0            0            0           0           0   \n",
       "\n",
       "   R__C_5__50  \n",
       "0           0  \n",
       "1           0  \n",
       "2           0  \n",
       "3           0  \n",
       "4           0  \n",
       "\n",
       "[5 rows x 73 columns]"
      ]
     },
     "execution_count": 5,
     "metadata": {},
     "output_type": "execute_result"
    }
   ],
   "source": [
    "print('Train shape is now:', train.shape )\n",
    "train.head()"
   ]
  },
  {
   "cell_type": "markdown",
   "id": "7bac4398",
   "metadata": {
    "papermill": {
     "duration": 0.028747,
     "end_time": "2021-11-08T01:07:03.289295",
     "exception": false,
     "start_time": "2021-11-08T01:07:03.260548",
     "status": "completed"
    },
    "tags": []
   },
   "source": [
    "# Auxilliary Target\n",
    "In addition to using `pressure` as target, we will use `pressure.diff()` and `pressure.cumsum()` as an auxilliary target to help the model predict `pressure` and it's derivative and it's integral correctly. This boosts CV LB by huge +0.015! Thank you to my teammate @lihuajing for discovering this!"
   ]
  },
  {
   "cell_type": "code",
   "execution_count": 6,
   "id": "e2e9f207",
   "metadata": {
    "execution": {
     "iopub.execute_input": "2021-11-08T01:07:03.354681Z",
     "iopub.status.busy": "2021-11-08T01:07:03.354146Z",
     "iopub.status.idle": "2021-11-08T01:07:21.195614Z",
     "shell.execute_reply": "2021-11-08T01:07:21.194745Z",
     "shell.execute_reply.started": "2021-11-08T00:55:25.925618Z"
    },
    "papermill": {
     "duration": 17.87714,
     "end_time": "2021-11-08T01:07:21.195752",
     "exception": false,
     "start_time": "2021-11-08T01:07:03.318612",
     "status": "completed"
    },
    "tags": []
   },
   "outputs": [],
   "source": [
    "train['pressure_diff'] = train.groupby('breath_id').pressure.diff().fillna(0)\n",
    "train['pressure_integral'] = train.groupby('breath_id').pressure.cumsum()/200\n",
    "targets = train[['pressure','pressure_diff','pressure_integral']].to_numpy().reshape(-1, 80, 3)\n",
    "\n",
    "train.drop(['pressure','pressure_diff','pressure_integral','id', 'breath_id','one','count',\n",
    "            'breath_id_lag','breath_id_lag2','breath_id_lagsame',\n",
    "            'breath_id_lag2same'], axis=1, inplace=True)\n",
    "\n",
    "test.drop(['id', 'breath_id','one','count','breath_id_lag',\n",
    "            'breath_id_lag2','breath_id_lagsame',\n",
    "            'breath_id_lag2same'], axis=1, inplace=True)"
   ]
  },
  {
   "cell_type": "code",
   "execution_count": 7,
   "id": "707f8abb",
   "metadata": {
    "execution": {
     "iopub.execute_input": "2021-11-08T01:07:21.258363Z",
     "iopub.status.busy": "2021-11-08T01:07:21.257755Z",
     "iopub.status.idle": "2021-11-08T01:07:21.260555Z",
     "shell.execute_reply": "2021-11-08T01:07:21.260981Z",
     "shell.execute_reply.started": "2021-11-08T00:55:43.613800Z"
    },
    "papermill": {
     "duration": 0.035863,
     "end_time": "2021-11-08T01:07:21.261112",
     "exception": false,
     "start_time": "2021-11-08T01:07:21.225249",
     "status": "completed"
    },
    "tags": []
   },
   "outputs": [
    {
     "name": "stdout",
     "output_type": "stream",
     "text": [
      "Targets shape is (75450, 80, 3)\n"
     ]
    }
   ],
   "source": [
    "print('Targets shape is',targets.shape)"
   ]
  },
  {
   "cell_type": "markdown",
   "id": "08d8d688",
   "metadata": {
    "papermill": {
     "duration": 0.029031,
     "end_time": "2021-11-08T01:07:21.319451",
     "exception": false,
     "start_time": "2021-11-08T01:07:21.290420",
     "status": "completed"
    },
    "tags": []
   },
   "source": [
    "# Rearrange Column Order\n",
    "Rearranging columns is not needed. However by doing this now we can reference the basic features with `inputs[:,:,:18]` in our model if we want to add a CNN to process those inputs so the model can learn its own features. Like `Transformer( Concatenate(inputs, CNN(inputs[:,:,18]) ) )`"
   ]
  },
  {
   "cell_type": "code",
   "execution_count": 8,
   "id": "b4e5dd89",
   "metadata": {
    "execution": {
     "iopub.execute_input": "2021-11-08T01:07:22.212637Z",
     "iopub.status.busy": "2021-11-08T01:07:22.211229Z",
     "iopub.status.idle": "2021-11-08T01:07:22.876577Z",
     "shell.execute_reply": "2021-11-08T01:07:22.877034Z",
     "shell.execute_reply.started": "2021-11-08T00:55:43.625530Z"
    },
    "papermill": {
     "duration": 1.528781,
     "end_time": "2021-11-08T01:07:22.877193",
     "exception": false,
     "start_time": "2021-11-08T01:07:21.348412",
     "status": "completed"
    },
    "tags": []
   },
   "outputs": [
    {
     "name": "stdout",
     "output_type": "stream",
     "text": [
      "Train columns:\n"
     ]
    },
    {
     "data": {
      "text/plain": [
       "array(['time_step', 'u_in', 'u_out', 'R_20', 'R_5', 'R_50', 'C_10',\n",
       "       'C_20', 'C_50', 'R__C_20__10', 'R__C_20__20', 'R__C_20__50',\n",
       "       'R__C_50__10', 'R__C_50__20', 'R__C_50__50', 'R__C_5__10',\n",
       "       'R__C_5__20', 'R__C_5__50', 'cross', 'cross2', 'area',\n",
       "       'time_step_cumsum', 'u_in_cumsum', 'u_in_lag1', 'u_out_lag1',\n",
       "       'u_in_lag_back1', 'u_out_lag_back1', 'u_in_lag2', 'u_out_lag2',\n",
       "       'u_in_lag_back2', 'u_out_lag_back2', 'u_in_lag3', 'u_out_lag3',\n",
       "       'u_in_lag_back3', 'u_out_lag_back3', 'u_in_lag4', 'u_out_lag4',\n",
       "       'u_in_lag_back4', 'u_out_lag_back4', 'breath_id__u_in__max',\n",
       "       'breath_id__u_in__mean', 'breath_id__u_in__diffmax',\n",
       "       'breath_id__u_in__diffmean', 'u_in_diff1', 'u_out_diff1',\n",
       "       'u_in_diff2', 'u_out_diff2', 'u_in_diff3', 'u_out_diff3',\n",
       "       'u_in_diff4', 'u_out_diff4', 'u_in_cummean', 'breath_id__u_in_lag',\n",
       "       'breath_id__u_in_lag2', 'time_step_diff', 'ewm_u_in_mean',\n",
       "       '15_in_sum', '15_in_min', '15_in_max', '15_in_mean',\n",
       "       'u_in_lagback_diff1', 'u_out_lagback_diff1', 'u_in_lagback_diff2',\n",
       "       'u_out_lagback_diff2'], dtype='<U25')"
      ]
     },
     "execution_count": 8,
     "metadata": {},
     "output_type": "execute_result"
    }
   ],
   "source": [
    "COL_ORDER = list(train.columns[:3]) + list(train.columns[-15:]) + list(train.columns[3:-15])\n",
    "train = train[COL_ORDER]\n",
    "test = test[COL_ORDER]\n",
    "\n",
    "print('Train columns:')\n",
    "np.array( COL_ORDER )"
   ]
  },
  {
   "cell_type": "markdown",
   "id": "7a000296",
   "metadata": {
    "papermill": {
     "duration": 0.029625,
     "end_time": "2021-11-08T01:07:22.936304",
     "exception": false,
     "start_time": "2021-11-08T01:07:22.906679",
     "status": "completed"
    },
    "tags": []
   },
   "source": [
    "# Normalize Features\n",
    "Since competition metric is MAE, we will normalize with RobustScaler which subtracts median and divides by interquartile range"
   ]
  },
  {
   "cell_type": "code",
   "execution_count": 9,
   "id": "a9b089c3",
   "metadata": {
    "execution": {
     "iopub.execute_input": "2021-11-08T01:07:23.001367Z",
     "iopub.status.busy": "2021-11-08T01:07:23.000398Z",
     "iopub.status.idle": "2021-11-08T01:07:34.194707Z",
     "shell.execute_reply": "2021-11-08T01:07:34.194226Z",
     "shell.execute_reply.started": "2021-11-08T00:55:45.168660Z"
    },
    "papermill": {
     "duration": 11.229074,
     "end_time": "2021-11-08T01:07:34.194862",
     "exception": false,
     "start_time": "2021-11-08T01:07:22.965788",
     "status": "completed"
    },
    "tags": []
   },
   "outputs": [],
   "source": [
    "RS = RobustScaler()\n",
    "train = RS.fit_transform(train.astype('float32'))\n",
    "test = RS.transform(test.astype('float32'))\n",
    "\n",
    "train = train.reshape(-1, 80, train.shape[-1])\n",
    "test = test.reshape(-1, 80, train.shape[-1])"
   ]
  },
  {
   "cell_type": "markdown",
   "id": "f97bca06",
   "metadata": {
    "papermill": {
     "duration": 0.029664,
     "end_time": "2021-11-08T01:07:34.255198",
     "exception": false,
     "start_time": "2021-11-08T01:07:34.225534",
     "status": "completed"
    },
    "tags": []
   },
   "source": [
    "# Mask Loss\n",
    "We will only apply loss to pressures with `u_out=0` during training. We will use Keras `sample_weight` and compile our model with `sample_weight_mode=\"temporal\"`. This improves this model for the competition metric."
   ]
  },
  {
   "cell_type": "code",
   "execution_count": 10,
   "id": "f18e1c68",
   "metadata": {
    "execution": {
     "iopub.execute_input": "2021-11-08T01:07:34.322066Z",
     "iopub.status.busy": "2021-11-08T01:07:34.320632Z",
     "iopub.status.idle": "2021-11-08T01:07:34.425272Z",
     "shell.execute_reply": "2021-11-08T01:07:34.425679Z",
     "shell.execute_reply.started": "2021-11-08T00:55:56.727498Z"
    },
    "papermill": {
     "duration": 0.140504,
     "end_time": "2021-11-08T01:07:34.425831",
     "exception": false,
     "start_time": "2021-11-08T01:07:34.285327",
     "status": "completed"
    },
    "tags": []
   },
   "outputs": [],
   "source": [
    "U_OUT_IDX = 2\n",
    "y_weight = np.ones_like( targets )\n",
    "u_out_values = train[:,:,U_OUT_IDX]\n",
    "y_weight[ u_out_values==0 ] = 0 # because robust scaler changes 1 to 0"
   ]
  },
  {
   "cell_type": "code",
   "execution_count": 11,
   "id": "664ab39c",
   "metadata": {
    "execution": {
     "iopub.execute_input": "2021-11-08T01:07:34.490285Z",
     "iopub.status.busy": "2021-11-08T01:07:34.489476Z",
     "iopub.status.idle": "2021-11-08T01:07:34.492907Z",
     "shell.execute_reply": "2021-11-08T01:07:34.492470Z",
     "shell.execute_reply.started": "2021-11-08T00:55:56.847671Z"
    },
    "papermill": {
     "duration": 0.03733,
     "end_time": "2021-11-08T01:07:34.493025",
     "exception": false,
     "start_time": "2021-11-08T01:07:34.455695",
     "status": "completed"
    },
    "tags": []
   },
   "outputs": [
    {
     "data": {
      "text/plain": [
       "((75450, 80, 64), (75450, 80, 3), (75450, 80, 3))"
      ]
     },
     "execution_count": 11,
     "metadata": {},
     "output_type": "execute_result"
    }
   ],
   "source": [
    "train.shape, targets.shape, y_weight.shape"
   ]
  },
  {
   "cell_type": "markdown",
   "id": "3be38060",
   "metadata": {
    "papermill": {
     "duration": 0.030215,
     "end_time": "2021-11-08T01:07:34.553415",
     "exception": false,
     "start_time": "2021-11-08T01:07:34.523200",
     "status": "completed"
    },
    "tags": []
   },
   "source": [
    "# Setup GPU\n",
    "Below we declare whether to use 1 GPU or multiple GPU. (Change `CUDA_VISIBLE_DEVICES` in code cell 1 to use more GPUs). Also we use mixed precision which doesn't make a big difference on Kaggle's P100 GPU but does speed up more recent GPUs."
   ]
  },
  {
   "cell_type": "code",
   "execution_count": 12,
   "id": "265cd07d",
   "metadata": {
    "execution": {
     "iopub.execute_input": "2021-11-08T01:07:34.665645Z",
     "iopub.status.busy": "2021-11-08T01:07:34.665098Z",
     "iopub.status.idle": "2021-11-08T01:07:34.682718Z",
     "shell.execute_reply": "2021-11-08T01:07:34.682274Z",
     "shell.execute_reply.started": "2021-11-08T00:55:56.855595Z"
    },
    "papermill": {
     "duration": 0.09915,
     "end_time": "2021-11-08T01:07:34.682826",
     "exception": false,
     "start_time": "2021-11-08T01:07:34.583676",
     "status": "completed"
    },
    "tags": []
   },
   "outputs": [
    {
     "name": "stdout",
     "output_type": "stream",
     "text": [
      "single strategy\n"
     ]
    }
   ],
   "source": [
    "# USE MULTIPLE GPUS\n",
    "if os.environ[\"CUDA_VISIBLE_DEVICES\"].count(',') == 0:\n",
    "    gpu_strategy = tf.distribute.get_strategy()\n",
    "    print('single strategy')\n",
    "else:\n",
    "    gpu_strategy = tf.distribute.MirroredStrategy()\n",
    "    print('multiple strategy')"
   ]
  },
  {
   "cell_type": "code",
   "execution_count": 13,
   "id": "e845d4df",
   "metadata": {
    "execution": {
     "iopub.execute_input": "2021-11-08T01:07:34.748158Z",
     "iopub.status.busy": "2021-11-08T01:07:34.747481Z",
     "iopub.status.idle": "2021-11-08T01:07:34.750189Z",
     "shell.execute_reply": "2021-11-08T01:07:34.750600Z",
     "shell.execute_reply.started": "2021-11-08T00:55:56.883329Z"
    },
    "papermill": {
     "duration": 0.037545,
     "end_time": "2021-11-08T01:07:34.750719",
     "exception": false,
     "start_time": "2021-11-08T01:07:34.713174",
     "status": "completed"
    },
    "tags": []
   },
   "outputs": [
    {
     "name": "stdout",
     "output_type": "stream",
     "text": [
      "Mixed precision enabled\n"
     ]
    }
   ],
   "source": [
    "# USE MIXED PRECISION\n",
    "# UNFORTUNATELY FOR THIS MODEL, MIXED PRECISION HURTS MODEL PERFORMANCE\n",
    "tf.config.optimizer.set_experimental_options({\"auto_mixed_precision\": True})\n",
    "print('Mixed precision enabled')"
   ]
  },
  {
   "cell_type": "markdown",
   "id": "53992e78",
   "metadata": {
    "papermill": {
     "duration": 0.030844,
     "end_time": "2021-11-08T01:07:34.811873",
     "exception": false,
     "start_time": "2021-11-08T01:07:34.781029",
     "status": "completed"
    },
    "tags": []
   },
   "source": [
    "# Build Model\n",
    "We will use 12 layers of Transformer encoder. We tried adding decoder but it doesn't help. \n",
    "\n",
    "Additionally we will add a 30% skip connection bypassing each layer to help the model train. We will use `gelu` activation. Our data is numerical and not categorical (like word tokens) so we do not need a fancy embedding layer. One of our features is `time_step` so we do not need positional encoding. We do not use dropout. Hyperparameters were tuned using trial and error to maximize CV score.\n",
    "\n",
    "Keras provides tutorials on transformers [here][1] and [here][2]\n",
    "\n",
    "[1]: https://keras.io/examples/nlp/text_classification_with_transformer/\n",
    "[2]: https://www.tensorflow.org/text/tutorials/transformer"
   ]
  },
  {
   "cell_type": "code",
   "execution_count": 14,
   "id": "138e0b07",
   "metadata": {
    "execution": {
     "iopub.execute_input": "2021-11-08T01:07:34.881186Z",
     "iopub.status.busy": "2021-11-08T01:07:34.880401Z",
     "iopub.status.idle": "2021-11-08T01:07:34.882797Z",
     "shell.execute_reply": "2021-11-08T01:07:34.882373Z",
     "shell.execute_reply.started": "2021-11-08T00:55:56.890670Z"
    },
    "papermill": {
     "duration": 0.040678,
     "end_time": "2021-11-08T01:07:34.882930",
     "exception": false,
     "start_time": "2021-11-08T01:07:34.842252",
     "status": "completed"
    },
    "tags": []
   },
   "outputs": [],
   "source": [
    "class TransformerBlock(layers.Layer):\n",
    "    def __init__(self, embed_dim, feat_dim, num_heads, ff_dim, rate=0.1):\n",
    "        super(TransformerBlock, self).__init__()\n",
    "        self.att = layers.MultiHeadAttention(num_heads=num_heads, key_dim=embed_dim)\n",
    "        self.ffn = keras.Sequential(\n",
    "            [layers.Dense(ff_dim, activation=\"gelu\"), layers.Dense(feat_dim),]\n",
    "        )\n",
    "        self.layernorm1 = layers.LayerNormalization(epsilon=1e-6)\n",
    "        self.layernorm2 = layers.LayerNormalization(epsilon=1e-6)\n",
    "        self.dropout1 = layers.Dropout(rate)\n",
    "        self.dropout2 = layers.Dropout(rate)\n",
    "\n",
    "    def call(self, inputs, training):\n",
    "        attn_output = self.att(inputs, inputs)\n",
    "        attn_output = self.dropout1(attn_output, training=training)\n",
    "        out1 = self.layernorm1(inputs + attn_output)\n",
    "        ffn_output = self.ffn(out1)\n",
    "        ffn_output = self.dropout2(ffn_output, training=training)\n",
    "        return self.layernorm2(out1 + ffn_output)"
   ]
  },
  {
   "cell_type": "code",
   "execution_count": 15,
   "id": "e948260c",
   "metadata": {
    "execution": {
     "iopub.execute_input": "2021-11-08T01:07:34.952350Z",
     "iopub.status.busy": "2021-11-08T01:07:34.951580Z",
     "iopub.status.idle": "2021-11-08T01:07:34.953695Z",
     "shell.execute_reply": "2021-11-08T01:07:34.954156Z",
     "shell.execute_reply.started": "2021-11-08T00:55:56.904054Z"
    },
    "papermill": {
     "duration": 0.040775,
     "end_time": "2021-11-08T01:07:34.954289",
     "exception": false,
     "start_time": "2021-11-08T01:07:34.913514",
     "status": "completed"
    },
    "tags": []
   },
   "outputs": [],
   "source": [
    "feat_dim = train.shape[-1] + 32\n",
    "embed_dim = 64  # Embedding size for attention\n",
    "num_heads = 8  # Number of attention heads\n",
    "ff_dim = 128  # Hidden layer size in feed forward network inside transformer\n",
    "dropout_rate = 0.0\n",
    "num_blocks = 12\n",
    "\n",
    "def build_model():\n",
    "    inputs = layers.Input(shape=train.shape[-2:])\n",
    "        \n",
    "    # \"EMBEDDING LAYER\"\n",
    "    x = layers.Dense(feat_dim)(inputs)\n",
    "    x = layers.LayerNormalization(epsilon=1e-6)(x)\n",
    "    \n",
    "    # TRANSFORMER BLOCKS\n",
    "    for k in range(num_blocks):\n",
    "        x_old = x\n",
    "        transformer_block = TransformerBlock(embed_dim, feat_dim, num_heads, ff_dim, dropout_rate)\n",
    "        x = transformer_block(x)\n",
    "        x = 0.7*x + 0.3*x_old # SKIP CONNECTION\n",
    "    \n",
    "    # REGRESSION HEAD\n",
    "    x = layers.Dense(128, activation=\"selu\")(x)\n",
    "    x = layers.Dropout(dropout_rate)(x)\n",
    "    outputs = layers.Dense(3, activation=\"linear\")(x)\n",
    "    model = keras.Model(inputs=inputs, outputs=outputs)\n",
    "        \n",
    "    return model"
   ]
  },
  {
   "cell_type": "markdown",
   "id": "178bf36d",
   "metadata": {
    "papermill": {
     "duration": 0.032056,
     "end_time": "2021-11-08T01:07:35.017287",
     "exception": false,
     "start_time": "2021-11-08T01:07:34.985231",
     "status": "completed"
    },
    "tags": []
   },
   "source": [
    "# Learning Schedule - Cosine with restarts\n",
    "Using cosine with restarts instead of single cosine gives huge boost of CV LB by +0.020! Thank you to my teammate @lihuajing for discovering this!"
   ]
  },
  {
   "cell_type": "code",
   "execution_count": 16,
   "id": "a4978672",
   "metadata": {
    "execution": {
     "iopub.execute_input": "2021-11-08T01:07:35.103514Z",
     "iopub.status.busy": "2021-11-08T01:07:35.095029Z",
     "iopub.status.idle": "2021-11-08T01:07:35.306752Z",
     "shell.execute_reply": "2021-11-08T01:07:35.306230Z",
     "shell.execute_reply.started": "2021-11-08T00:55:56.918230Z"
    },
    "papermill": {
     "duration": 0.257004,
     "end_time": "2021-11-08T01:07:35.306894",
     "exception": false,
     "start_time": "2021-11-08T01:07:35.049890",
     "status": "completed"
    },
    "tags": []
   },
   "outputs": [
    {
     "name": "stdout",
     "output_type": "stream",
     "text": [
      "Learning rate schedule: 0.0006 to 0.0006 to 1e-06\n"
     ]
    },
    {
     "data": {
      "image/png": "[encoded data removed]",
      "text/plain": [
       "<Figure size 720x288 with 1 Axes>"
      ]
     },
     "metadata": {
      "needs_background": "light"
     },
     "output_type": "display_data"
    }
   ],
   "source": [
    "import math \n",
    "import matplotlib.pyplot as plt\n",
    "\n",
    "LR_START = 1e-6\n",
    "LR_MAX = 6e-4\n",
    "LR_MIN = 1e-6\n",
    "LR_RAMPUP_EPOCHS = 0\n",
    "LR_SUSTAIN_EPOCHS = 0\n",
    "EPOCHS = 420\n",
    "STEPS = [60,120,240]\n",
    "\n",
    "\n",
    "def lrfn(epoch):\n",
    "    if epoch<STEPS[0]:\n",
    "        epoch2 = epoch\n",
    "        EPOCHS2 = STEPS[0]\n",
    "    elif epoch<STEPS[0]+STEPS[1]:\n",
    "        epoch2 = epoch-STEPS[0]\n",
    "        EPOCHS2 = STEPS[1]\n",
    "    elif epoch<STEPS[0]+STEPS[1]+STEPS[2]:\n",
    "        epoch2 = epoch-STEPS[0]-STEPS[1]\n",
    "        EPOCHS2 = STEPS[2]\n",
    "    \n",
    "    if epoch2 < LR_RAMPUP_EPOCHS:\n",
    "        lr = (LR_MAX - LR_START) / LR_RAMPUP_EPOCHS * epoch2 + LR_START\n",
    "    elif epoch2 < LR_RAMPUP_EPOCHS + LR_SUSTAIN_EPOCHS:\n",
    "        lr = LR_MAX\n",
    "    else:\n",
    "        decay_total_epochs = EPOCHS2 - LR_RAMPUP_EPOCHS - LR_SUSTAIN_EPOCHS - 1\n",
    "        decay_epoch_index = epoch2 - LR_RAMPUP_EPOCHS - LR_SUSTAIN_EPOCHS\n",
    "        phase = math.pi * decay_epoch_index / decay_total_epochs\n",
    "        cosine_decay = 0.5 * (1 + math.cos(phase))\n",
    "        lr = (LR_MAX - LR_MIN) * cosine_decay + LR_MIN\n",
    "    return lr\n",
    "\n",
    "rng = [i for i in range(EPOCHS)]\n",
    "lr_y = [lrfn(x) for x in rng]\n",
    "plt.figure(figsize=(10, 4))\n",
    "plt.plot(rng, lr_y, '-o')\n",
    "print(\"Learning rate schedule: {:.3g} to {:.3g} to {:.3g}\". \\\n",
    "          format(lr_y[0], max(lr_y), lr_y[-1]))\n",
    "lr_callback = tf.keras.callbacks.LearningRateScheduler(lrfn, verbose = True)\n",
    "plt.xlabel('Epoch',size=14)\n",
    "plt.ylabel('Learning Rate',size=14)\n",
    "plt.show()"
   ]
  },
  {
   "cell_type": "markdown",
   "id": "f21b00b4",
   "metadata": {
    "papermill": {
     "duration": 0.031172,
     "end_time": "2021-11-08T01:07:35.369979",
     "exception": false,
     "start_time": "2021-11-08T01:07:35.338807",
     "status": "completed"
    },
    "tags": []
   },
   "source": [
    "# Train Model\n",
    "Using one Nvidia V100 GPU with mixed precision, each epoch takes 60 seconds. Therefore 1 fold of 420 epochs takes 7 hours. Training 11 folds (LB 115) takes 77 GPU hours and training 32 folds (LB 112) takes 224 GPU hours. This model was trained offline using multiple GPUs. Each GPU trained one fold and we could train multiple folds in parallel in only 7 hours. This allowed us to train a submission in one evening."
   ]
  },
  {
   "cell_type": "code",
   "execution_count": 17,
   "id": "b3dbc5ba",
   "metadata": {
    "execution": {
     "iopub.execute_input": "2021-11-08T01:07:35.436400Z",
     "iopub.status.busy": "2021-11-08T01:07:35.435565Z",
     "iopub.status.idle": "2021-11-08T01:08:36.220066Z",
     "shell.execute_reply": "2021-11-08T01:08:36.220580Z",
     "shell.execute_reply.started": "2021-11-08T00:55:57.197012Z"
    },
    "papermill": {
     "duration": 60.819358,
     "end_time": "2021-11-08T01:08:36.220790",
     "exception": false,
     "start_time": "2021-11-08T01:07:35.401432",
     "status": "completed"
    },
    "scrolled": true,
    "tags": []
   },
   "outputs": [
    {
     "name": "stdout",
     "output_type": "stream",
     "text": [
      "--------------- > Fold 1 < ---------------\n",
      "Predicting Test...\n",
      "786/786 [==============================] - 32s 38ms/step\n",
      "Predicting OOF...\n",
      "215/215 [==============================] - 6s 28ms/step\n",
      "Fold-1 | OOF all u_out Score: 5.38969661201317\n",
      "Fold-1 | OOF u_out=0 Score: 0.13299479509380943\n"
     ]
    }
   ],
   "source": [
    "EPOCH = EPOCHS\n",
    "BATCH_SIZE = 64\n",
    "NUM_FOLDS = 11\n",
    "SEED = 42\n",
    "VERBOSE = 1\n",
    "\n",
    "with gpu_strategy.scope():\n",
    "    kf = KFold(n_splits=NUM_FOLDS, shuffle=True, random_state=SEED)\n",
    "    \n",
    "    test_preds = []\n",
    "    oof_preds = []\n",
    "    oof_true = []\n",
    "    all_mask = []\n",
    "    test_folds = []\n",
    "    \n",
    "    for fold, (train_idx, test_idx) in enumerate(kf.split(train, targets)):\n",
    "        print('-'*15, '>', f'Fold {fold+1}', '<', '-'*15)\n",
    "        X_train, X_valid = train[train_idx], train[test_idx]\n",
    "        y_train, y_valid = targets[train_idx], targets[test_idx]\n",
    "        test_folds.append(test_idx)\n",
    "                \n",
    "        checkpoint_filepath = f\"folds{fold}_{VER}.hdf5\"\n",
    "\n",
    "        model = build_model()\n",
    "        opt = tf.keras.optimizers.Adam(learning_rate=0.001)\n",
    "        model.compile(optimizer=opt, loss=\"mae\", sample_weight_mode=\"temporal\")\n",
    "\n",
    "        sv = keras.callbacks.ModelCheckpoint(\n",
    "                checkpoint_filepath, monitor='val_loss', verbose=1, save_best_only=True,\n",
    "                save_weights_only=True, mode='auto', save_freq='epoch',\n",
    "                options=None\n",
    "        )\n",
    "        if TRAIN_MODEL:\n",
    "            history = model.fit(X_train, y_train, verbose=VERBOSE,\n",
    "                                validation_data=(X_valid, y_valid, y_weight[test_idx,:,:1]), \n",
    "                                epochs=EPOCH, batch_size=BATCH_SIZE, callbacks=[lr_callback, sv], \n",
    "                                sample_weight=y_weight[train_idx,:,:1])\n",
    "        else:\n",
    "            model.load_weights(f'../input/vent-tranformer/folds{fold}_{VER}.hdf5')\n",
    "       \n",
    "        # PREDICT TEST\n",
    "        print('Predicting Test...')\n",
    "        test_preds.append(model.predict(test, batch_size=BATCH_SIZE, verbose=VERBOSE)[:,:,0]\\\n",
    "                          .squeeze().reshape(-1, 1).squeeze())\n",
    "        \n",
    "        # PREDICT OOF\n",
    "        print('Predicting OOF...')\n",
    "        oof_preds.append( model.predict(X_valid, verbose=VERBOSE)[:,:,0].squeeze().reshape(-1, 1) )\n",
    "        oof_true.append( y_valid[:,:,0].squeeze().reshape(-1, 1) )\n",
    "        score = mean_absolute_error(oof_true[-1], oof_preds[-1])\n",
    "        print(f\"Fold-{fold+1} | OOF all u_out Score: {score}\")\n",
    "        \n",
    "        mask = np.where( X_valid[:,:,2].reshape((-1,1))==-1 )[0]\n",
    "        mask_score = mean_absolute_error(oof_true[-1][mask], oof_preds[-1][mask])\n",
    "        print(f\"Fold-{fold+1} | OOF u_out=0 Score: {mask_score}\")\n",
    "        all_mask.append(mask)\n",
    "        \n",
    "        np.save(f'oof_v{VER}_trans',oof_preds)\n",
    "        #np.save(f'oof_true_v{VER}_trans',oof_true)\n",
    "        \n",
    "        if FIRST_FOLD_ONLY: break"
   ]
  },
  {
   "cell_type": "markdown",
   "id": "e55f182b",
   "metadata": {
    "papermill": {
     "duration": 0.160181,
     "end_time": "2021-11-08T01:08:36.543903",
     "exception": false,
     "start_time": "2021-11-08T01:08:36.383722",
     "status": "completed"
    },
    "tags": []
   },
   "source": [
    "# Plot Train Loss Valid Loss\n",
    "Note that the loss display below (but this notebook version doesn't have plot) isn't just `pressure` MAE because it includes masked time steps and includes auxilliary targets `presssure.diff()` and `pressure.cumsum()`."
   ]
  },
  {
   "cell_type": "code",
   "execution_count": 18,
   "id": "69d1e62e",
   "metadata": {
    "execution": {
     "iopub.execute_input": "2021-11-08T01:08:36.872850Z",
     "iopub.status.busy": "2021-11-08T01:08:36.872138Z",
     "iopub.status.idle": "2021-11-08T01:08:36.874920Z",
     "shell.execute_reply": "2021-11-08T01:08:36.874448Z",
     "shell.execute_reply.started": "2021-11-08T00:56:53.722433Z"
    },
    "papermill": {
     "duration": 0.170323,
     "end_time": "2021-11-08T01:08:36.875035",
     "exception": false,
     "start_time": "2021-11-08T01:08:36.704712",
     "status": "completed"
    },
    "tags": []
   },
   "outputs": [],
   "source": [
    "# PLOT TRAIN AND VAL HISTORY\n",
    "if TRAIN_MODEL:\n",
    "    plt.figure(figsize=(20,5))\n",
    "    val = history.history['val_loss']\n",
    "    trn = history.history['loss']\n",
    "    plt.plot(np.arange(len(val)),trn,label='train loss')\n",
    "    plt.plot(np.arange(len(val)),val,label='valid loss')\n",
    "    plt.xlabel('Epoch',size=14)\n",
    "    plt.ylabel('Loss',size=14)\n",
    "    plt.title('Train and Valid Loss',size=16)\n",
    "    plt.legend()\n",
    "    plt.show()"
   ]
  },
  {
   "cell_type": "markdown",
   "id": "836205d8",
   "metadata": {
    "papermill": {
     "duration": 0.161984,
     "end_time": "2021-11-08T01:08:37.197816",
     "exception": false,
     "start_time": "2021-11-08T01:08:37.035832",
     "status": "completed"
    },
    "tags": []
   },
   "source": [
    "# Display CV Score"
   ]
  },
  {
   "cell_type": "code",
   "execution_count": 19,
   "id": "c7b818d5",
   "metadata": {
    "execution": {
     "iopub.execute_input": "2021-11-08T01:08:37.525766Z",
     "iopub.status.busy": "2021-11-08T01:08:37.524855Z",
     "iopub.status.idle": "2021-11-08T01:08:37.531730Z",
     "shell.execute_reply": "2021-11-08T01:08:37.531269Z",
     "shell.execute_reply.started": "2021-11-08T00:56:53.729318Z"
    },
    "papermill": {
     "duration": 0.173221,
     "end_time": "2021-11-08T01:08:37.531874",
     "exception": false,
     "start_time": "2021-11-08T01:08:37.358653",
     "status": "completed"
    },
    "tags": []
   },
   "outputs": [
    {
     "name": "stdout",
     "output_type": "stream",
     "text": [
      "Fold 0 has u_out MAE = 0.13299479509380943\n",
      "Overall CV MAE = 0.13299479509380943\n"
     ]
    }
   ],
   "source": [
    "if FIRST_FOLD_ONLY: \n",
    "    NUM_FOLDS=1\n",
    "\n",
    "t = 0\n",
    "for k in range(NUM_FOLDS):\n",
    "    mask = all_mask[k]\n",
    "    mae = np.mean(np.abs( oof_preds[k].flatten()[mask] - oof_true[k].reshape(-1, 1).squeeze()[mask] ))\n",
    "    t += mae\n",
    "    print('Fold',k,'has u_out MAE =',mae)\n",
    "print('Overall CV MAE =',t/NUM_FOLDS)"
   ]
  },
  {
   "cell_type": "markdown",
   "id": "92204656",
   "metadata": {
    "papermill": {
     "duration": 0.162626,
     "end_time": "2021-11-08T01:08:37.856603",
     "exception": false,
     "start_time": "2021-11-08T01:08:37.693977",
     "status": "completed"
    },
    "tags": []
   },
   "source": [
    "# Display CV Score with Post Process Rounding"
   ]
  },
  {
   "cell_type": "code",
   "execution_count": 20,
   "id": "13a5c612",
   "metadata": {
    "execution": {
     "iopub.execute_input": "2021-11-08T01:08:38.185766Z",
     "iopub.status.busy": "2021-11-08T01:08:38.185188Z",
     "iopub.status.idle": "2021-11-08T01:08:38.196796Z",
     "shell.execute_reply": "2021-11-08T01:08:38.197324Z",
     "shell.execute_reply.started": "2021-11-08T00:56:53.746325Z"
    },
    "papermill": {
     "duration": 0.179059,
     "end_time": "2021-11-08T01:08:38.197467",
     "exception": false,
     "start_time": "2021-11-08T01:08:38.018408",
     "status": "completed"
    },
    "tags": []
   },
   "outputs": [
    {
     "name": "stdout",
     "output_type": "stream",
     "text": [
      "Fold 0 has u_out MAE with PP = 0.13071656108619467\n",
      "Overall CV MAE with PP = 0.13071656108619467\n"
     ]
    }
   ],
   "source": [
    "t = 0\n",
    "for k in range(NUM_FOLDS):\n",
    "    oof = oof_preds[k].copy()\n",
    "    oof2 = np.round( (oof+1.895744294564641)/0.07030214545121005 ) * 0.07030214545121005 -1.895744294564641\n",
    "    mae = np.mean(np.abs( oof2.flatten()[mask] - oof_true[k].reshape(-1, 1).squeeze()[mask] ))\n",
    "    t += mae\n",
    "    print('Fold',k,'has u_out MAE with PP =',mae)\n",
    "print('Overall CV MAE with PP =',t/NUM_FOLDS)"
   ]
  },
  {
   "cell_type": "markdown",
   "id": "0186040a",
   "metadata": {
    "papermill": {
     "duration": 0.161252,
     "end_time": "2021-11-08T01:08:38.522614",
     "exception": false,
     "start_time": "2021-11-08T01:08:38.361362",
     "status": "completed"
    },
    "tags": []
   },
   "source": [
    "# Save OOF DataFrame"
   ]
  },
  {
   "cell_type": "code",
   "execution_count": 21,
   "id": "706c1d33",
   "metadata": {
    "execution": {
     "iopub.execute_input": "2021-11-08T01:08:38.852490Z",
     "iopub.status.busy": "2021-11-08T01:08:38.851905Z",
     "iopub.status.idle": "2021-11-08T01:08:46.989732Z",
     "shell.execute_reply": "2021-11-08T01:08:46.989181Z",
     "shell.execute_reply.started": "2021-11-08T00:56:53.767444Z"
    },
    "papermill": {
     "duration": 8.306844,
     "end_time": "2021-11-08T01:08:46.989903",
     "exception": false,
     "start_time": "2021-11-08T01:08:38.683059",
     "status": "completed"
    },
    "tags": []
   },
   "outputs": [
    {
     "data": {
      "text/html": [
       "<div>\n",
       "<style scoped>\n",
       "    .dataframe tbody tr th:only-of-type {\n",
       "        vertical-align: middle;\n",
       "    }\n",
       "\n",
       "    .dataframe tbody tr th {\n",
       "        vertical-align: top;\n",
       "    }\n",
       "\n",
       "    .dataframe thead th {\n",
       "        text-align: right;\n",
       "    }\n",
       "</style>\n",
       "<table border=\"1\" class=\"dataframe\">\n",
       "  <thead>\n",
       "    <tr style=\"text-align: right;\">\n",
       "      <th></th>\n",
       "      <th>id</th>\n",
       "      <th>breath_id</th>\n",
       "      <th>R</th>\n",
       "      <th>C</th>\n",
       "      <th>time_step</th>\n",
       "      <th>u_in</th>\n",
       "      <th>u_out</th>\n",
       "      <th>pressure</th>\n",
       "      <th>oof</th>\n",
       "      <th>fold</th>\n",
       "    </tr>\n",
       "  </thead>\n",
       "  <tbody>\n",
       "    <tr>\n",
       "      <th>2800</th>\n",
       "      <td>2801</td>\n",
       "      <td>42</td>\n",
       "      <td>50</td>\n",
       "      <td>20</td>\n",
       "      <td>0.000000</td>\n",
       "      <td>0.0</td>\n",
       "      <td>0</td>\n",
       "      <td>6.892024</td>\n",
       "      <td>6.643177</td>\n",
       "      <td>0</td>\n",
       "    </tr>\n",
       "    <tr>\n",
       "      <th>2801</th>\n",
       "      <td>2802</td>\n",
       "      <td>42</td>\n",
       "      <td>50</td>\n",
       "      <td>20</td>\n",
       "      <td>0.034739</td>\n",
       "      <td>0.0</td>\n",
       "      <td>0</td>\n",
       "      <td>6.048398</td>\n",
       "      <td>6.054459</td>\n",
       "      <td>0</td>\n",
       "    </tr>\n",
       "    <tr>\n",
       "      <th>2802</th>\n",
       "      <td>2803</td>\n",
       "      <td>42</td>\n",
       "      <td>50</td>\n",
       "      <td>20</td>\n",
       "      <td>0.069129</td>\n",
       "      <td>0.0</td>\n",
       "      <td>0</td>\n",
       "      <td>6.540513</td>\n",
       "      <td>6.420969</td>\n",
       "      <td>0</td>\n",
       "    </tr>\n",
       "    <tr>\n",
       "      <th>2803</th>\n",
       "      <td>2804</td>\n",
       "      <td>42</td>\n",
       "      <td>50</td>\n",
       "      <td>20</td>\n",
       "      <td>0.103087</td>\n",
       "      <td>0.0</td>\n",
       "      <td>0</td>\n",
       "      <td>6.470211</td>\n",
       "      <td>6.466551</td>\n",
       "      <td>0</td>\n",
       "    </tr>\n",
       "    <tr>\n",
       "      <th>2804</th>\n",
       "      <td>2805</td>\n",
       "      <td>42</td>\n",
       "      <td>50</td>\n",
       "      <td>20</td>\n",
       "      <td>0.137914</td>\n",
       "      <td>0.0</td>\n",
       "      <td>0</td>\n",
       "      <td>6.540513</td>\n",
       "      <td>6.519134</td>\n",
       "      <td>0</td>\n",
       "    </tr>\n",
       "  </tbody>\n",
       "</table>\n",
       "</div>"
      ],
      "text/plain": [
       "        id  breath_id   R   C  time_step  u_in  u_out  pressure       oof  \\\n",
       "2800  2801         42  50  20   0.000000   0.0      0  6.892024  6.643177   \n",
       "2801  2802         42  50  20   0.034739   0.0      0  6.048398  6.054459   \n",
       "2802  2803         42  50  20   0.069129   0.0      0  6.540513  6.420969   \n",
       "2803  2804         42  50  20   0.103087   0.0      0  6.470211  6.466551   \n",
       "2804  2805         42  50  20   0.137914   0.0      0  6.540513  6.519134   \n",
       "\n",
       "      fold  \n",
       "2800     0  \n",
       "2801     0  \n",
       "2802     0  \n",
       "2803     0  \n",
       "2804     0  "
      ]
     },
     "execution_count": 21,
     "metadata": {},
     "output_type": "execute_result"
    }
   ],
   "source": [
    "train = pd.read_csv('../input/ventilator-pressure-prediction/train.csv')\n",
    "\n",
    "# CREATE FOLDS\n",
    "folds = test_folds.copy()\n",
    "for k in range(len(folds)):\n",
    "    folds[k] = np.ones_like(folds[k])*k\n",
    "folds = np.hstack(folds)\n",
    "folds = np.repeat(folds,80)\n",
    "\n",
    "# CREATE LIST OF IDS USED DURING VALIDATION\n",
    "test_folds = np.hstack(test_folds)\n",
    "test_folds = 80 * np.repeat(test_folds,80)\n",
    "shifter = np.tile( np.arange(80), len(test_folds)//80 )\n",
    "test_folds += shifter\n",
    "\n",
    "# SAVE OOF TO TRAIN DATAFRAME\n",
    "train = train.loc[test_folds]\n",
    "oof_preds = np.vstack(oof_preds)\n",
    "oof_len = min(oof.shape)\n",
    "train['oof'] = oof.squeeze()\n",
    "train['fold'] = folds \n",
    "\n",
    "train.head()"
   ]
  },
  {
   "cell_type": "code",
   "execution_count": 22,
   "id": "0c103eea",
   "metadata": {
    "execution": {
     "iopub.execute_input": "2021-11-08T01:08:47.364582Z",
     "iopub.status.busy": "2021-11-08T01:08:47.362355Z",
     "iopub.status.idle": "2021-11-08T01:08:49.279889Z",
     "shell.execute_reply": "2021-11-08T01:08:49.280411Z",
     "shell.execute_reply.started": "2021-11-08T00:57:01.387033Z"
    },
    "papermill": {
     "duration": 2.106106,
     "end_time": "2021-11-08T01:08:49.280585",
     "exception": false,
     "start_time": "2021-11-08T01:08:47.174479",
     "status": "completed"
    },
    "tags": []
   },
   "outputs": [
    {
     "data": {
      "text/html": [
       "<div>\n",
       "<style scoped>\n",
       "    .dataframe tbody tr th:only-of-type {\n",
       "        vertical-align: middle;\n",
       "    }\n",
       "\n",
       "    .dataframe tbody tr th {\n",
       "        vertical-align: top;\n",
       "    }\n",
       "\n",
       "    .dataframe thead th {\n",
       "        text-align: right;\n",
       "    }\n",
       "</style>\n",
       "<table border=\"1\" class=\"dataframe\">\n",
       "  <thead>\n",
       "    <tr style=\"text-align: right;\">\n",
       "      <th></th>\n",
       "      <th>id</th>\n",
       "      <th>oof</th>\n",
       "      <th>fold</th>\n",
       "    </tr>\n",
       "  </thead>\n",
       "  <tbody>\n",
       "    <tr>\n",
       "      <th>2800</th>\n",
       "      <td>2801</td>\n",
       "      <td>6.643177</td>\n",
       "      <td>0</td>\n",
       "    </tr>\n",
       "    <tr>\n",
       "      <th>2801</th>\n",
       "      <td>2802</td>\n",
       "      <td>6.054459</td>\n",
       "      <td>0</td>\n",
       "    </tr>\n",
       "    <tr>\n",
       "      <th>2802</th>\n",
       "      <td>2803</td>\n",
       "      <td>6.420969</td>\n",
       "      <td>0</td>\n",
       "    </tr>\n",
       "    <tr>\n",
       "      <th>2803</th>\n",
       "      <td>2804</td>\n",
       "      <td>6.466551</td>\n",
       "      <td>0</td>\n",
       "    </tr>\n",
       "    <tr>\n",
       "      <th>2804</th>\n",
       "      <td>2805</td>\n",
       "      <td>6.519134</td>\n",
       "      <td>0</td>\n",
       "    </tr>\n",
       "  </tbody>\n",
       "</table>\n",
       "</div>"
      ],
      "text/plain": [
       "        id       oof  fold\n",
       "2800  2801  6.643177     0\n",
       "2801  2802  6.054459     0\n",
       "2802  2803  6.420969     0\n",
       "2803  2804  6.466551     0\n",
       "2804  2805  6.519134     0"
      ]
     },
     "execution_count": 22,
     "metadata": {},
     "output_type": "execute_result"
    }
   ],
   "source": [
    "# SAVE OOF TO DISK\n",
    "train.id = train.id.astype('int32')\n",
    "train.oof = train.oof.astype('float32')\n",
    "train.fold = train.fold.astype('int8')\n",
    "train[['id','oof','fold']].to_csv(f'oof_v{VER}.csv')\n",
    "train[['id','oof','fold']].head()"
   ]
  },
  {
   "cell_type": "markdown",
   "id": "6c650910",
   "metadata": {
    "papermill": {
     "duration": 0.161421,
     "end_time": "2021-11-08T01:08:49.609117",
     "exception": false,
     "start_time": "2021-11-08T01:08:49.447696",
     "status": "completed"
    },
    "tags": []
   },
   "source": [
    "# Create Submission File"
   ]
  },
  {
   "cell_type": "code",
   "execution_count": 23,
   "id": "9e558e02",
   "metadata": {
    "execution": {
     "iopub.execute_input": "2021-11-08T01:08:49.943664Z",
     "iopub.status.busy": "2021-11-08T01:08:49.942352Z",
     "iopub.status.idle": "2021-11-08T01:09:00.709943Z",
     "shell.execute_reply": "2021-11-08T01:09:00.710779Z",
     "shell.execute_reply.started": "2021-11-08T00:57:03.255053Z"
    },
    "papermill": {
     "duration": 10.935815,
     "end_time": "2021-11-08T01:09:00.711005",
     "exception": false,
     "start_time": "2021-11-08T01:08:49.775190",
     "status": "completed"
    },
    "tags": []
   },
   "outputs": [],
   "source": [
    "submission = pd.read_csv('../input/ventilator-pressure-prediction/sample_submission.csv')\n",
    "submission[\"pressure\"] = sum(test_preds)/NUM_FOLDS\n",
    "submission.to_csv(f'submission_mean_{VER}.csv', index=False)"
   ]
  },
  {
   "cell_type": "code",
   "execution_count": 24,
   "id": "654fedef",
   "metadata": {
    "execution": {
     "iopub.execute_input": "2021-11-08T01:09:01.048908Z",
     "iopub.status.busy": "2021-11-08T01:09:01.047961Z",
     "iopub.status.idle": "2021-11-08T01:09:11.595014Z",
     "shell.execute_reply": "2021-11-08T01:09:11.594504Z",
     "shell.execute_reply.started": "2021-11-08T00:57:14.168015Z"
    },
    "papermill": {
     "duration": 10.7176,
     "end_time": "2021-11-08T01:09:11.595164",
     "exception": false,
     "start_time": "2021-11-08T01:09:00.877564",
     "status": "completed"
    },
    "tags": []
   },
   "outputs": [],
   "source": [
    "submission[\"pressure\"] = np.median(np.vstack(test_preds),axis=0)\n",
    "submission.to_csv(f'submission_median_{VER}.csv', index=False)"
   ]
  },
  {
   "cell_type": "code",
   "execution_count": 25,
   "id": "64be3806",
   "metadata": {
    "execution": {
     "iopub.execute_input": "2021-11-08T01:09:11.932552Z",
     "iopub.status.busy": "2021-11-08T01:09:11.931882Z",
     "iopub.status.idle": "2021-11-08T01:09:11.934877Z",
     "shell.execute_reply": "2021-11-08T01:09:11.935319Z",
     "shell.execute_reply.started": "2021-11-08T00:57:24.971780Z"
    },
    "papermill": {
     "duration": 0.176503,
     "end_time": "2021-11-08T01:09:11.935463",
     "exception": false,
     "start_time": "2021-11-08T01:09:11.758960",
     "status": "completed"
    },
    "tags": []
   },
   "outputs": [
    {
     "data": {
      "text/html": [
       "<div>\n",
       "<style scoped>\n",
       "    .dataframe tbody tr th:only-of-type {\n",
       "        vertical-align: middle;\n",
       "    }\n",
       "\n",
       "    .dataframe tbody tr th {\n",
       "        vertical-align: top;\n",
       "    }\n",
       "\n",
       "    .dataframe thead th {\n",
       "        text-align: right;\n",
       "    }\n",
       "</style>\n",
       "<table border=\"1\" class=\"dataframe\">\n",
       "  <thead>\n",
       "    <tr style=\"text-align: right;\">\n",
       "      <th></th>\n",
       "      <th>id</th>\n",
       "      <th>pressure</th>\n",
       "    </tr>\n",
       "  </thead>\n",
       "  <tbody>\n",
       "    <tr>\n",
       "      <th>0</th>\n",
       "      <td>1</td>\n",
       "      <td>6.259286</td>\n",
       "    </tr>\n",
       "    <tr>\n",
       "      <th>1</th>\n",
       "      <td>2</td>\n",
       "      <td>5.921760</td>\n",
       "    </tr>\n",
       "    <tr>\n",
       "      <th>2</th>\n",
       "      <td>3</td>\n",
       "      <td>7.103161</td>\n",
       "    </tr>\n",
       "    <tr>\n",
       "      <th>3</th>\n",
       "      <td>4</td>\n",
       "      <td>7.561871</td>\n",
       "    </tr>\n",
       "    <tr>\n",
       "      <th>4</th>\n",
       "      <td>5</td>\n",
       "      <td>9.112475</td>\n",
       "    </tr>\n",
       "  </tbody>\n",
       "</table>\n",
       "</div>"
      ],
      "text/plain": [
       "   id  pressure\n",
       "0   1  6.259286\n",
       "1   2  5.921760\n",
       "2   3  7.103161\n",
       "3   4  7.561871\n",
       "4   5  9.112475"
      ]
     },
     "execution_count": 25,
     "metadata": {},
     "output_type": "execute_result"
    }
   ],
   "source": [
    "submission.head()"
   ]
  },
  {
   "cell_type": "code",
   "execution_count": 26,
   "id": "13c16473",
   "metadata": {
    "execution": {
     "iopub.execute_input": "2021-11-08T01:09:12.278933Z",
     "iopub.status.busy": "2021-11-08T01:09:12.277982Z",
     "iopub.status.idle": "2021-11-08T01:09:25.297397Z",
     "shell.execute_reply": "2021-11-08T01:09:25.296510Z",
     "shell.execute_reply.started": "2021-11-08T00:57:24.984484Z"
    },
    "papermill": {
     "duration": 13.19588,
     "end_time": "2021-11-08T01:09:25.297539",
     "exception": false,
     "start_time": "2021-11-08T01:09:12.101659",
     "status": "completed"
    },
    "tags": []
   },
   "outputs": [],
   "source": [
    "submission.pressure =\\\n",
    "    np.round( (submission.pressure+1.895744294564641)/0.07030214545121005 ) * 0.07030214545121005 -1.895744294564641\n",
    "submission.to_csv(f'submission_median_snap_{VER}.csv', index=False)"
   ]
  },
  {
   "cell_type": "code",
   "execution_count": 27,
   "id": "bde472e6",
   "metadata": {
    "execution": {
     "iopub.execute_input": "2021-11-08T01:09:25.630649Z",
     "iopub.status.busy": "2021-11-08T01:09:25.630018Z",
     "iopub.status.idle": "2021-11-08T01:09:25.632687Z",
     "shell.execute_reply": "2021-11-08T01:09:25.633103Z",
     "shell.execute_reply.started": "2021-11-08T00:57:37.734003Z"
    },
    "papermill": {
     "duration": 0.172991,
     "end_time": "2021-11-08T01:09:25.633242",
     "exception": false,
     "start_time": "2021-11-08T01:09:25.460251",
     "status": "completed"
    },
    "tags": []
   },
   "outputs": [
    {
     "data": {
      "text/html": [
       "<div>\n",
       "<style scoped>\n",
       "    .dataframe tbody tr th:only-of-type {\n",
       "        vertical-align: middle;\n",
       "    }\n",
       "\n",
       "    .dataframe tbody tr th {\n",
       "        vertical-align: top;\n",
       "    }\n",
       "\n",
       "    .dataframe thead th {\n",
       "        text-align: right;\n",
       "    }\n",
       "</style>\n",
       "<table border=\"1\" class=\"dataframe\">\n",
       "  <thead>\n",
       "    <tr style=\"text-align: right;\">\n",
       "      <th></th>\n",
       "      <th>id</th>\n",
       "      <th>pressure</th>\n",
       "    </tr>\n",
       "  </thead>\n",
       "  <tbody>\n",
       "    <tr>\n",
       "      <th>0</th>\n",
       "      <td>1</td>\n",
       "      <td>6.259305</td>\n",
       "    </tr>\n",
       "    <tr>\n",
       "      <th>1</th>\n",
       "      <td>2</td>\n",
       "      <td>5.907794</td>\n",
       "    </tr>\n",
       "    <tr>\n",
       "      <th>2</th>\n",
       "      <td>3</td>\n",
       "      <td>7.102930</td>\n",
       "    </tr>\n",
       "    <tr>\n",
       "      <th>3</th>\n",
       "      <td>4</td>\n",
       "      <td>7.595045</td>\n",
       "    </tr>\n",
       "    <tr>\n",
       "      <th>4</th>\n",
       "      <td>5</td>\n",
       "      <td>9.141693</td>\n",
       "    </tr>\n",
       "  </tbody>\n",
       "</table>\n",
       "</div>"
      ],
      "text/plain": [
       "   id  pressure\n",
       "0   1  6.259305\n",
       "1   2  5.907794\n",
       "2   3  7.102930\n",
       "3   4  7.595045\n",
       "4   5  9.141693"
      ]
     },
     "execution_count": 27,
     "metadata": {},
     "output_type": "execute_result"
    }
   ],
   "source": [
    "submission.head()"
   ]
  }
 ],
 "metadata": {
  "kernelspec": {
   "display_name": "Python 3",
   "language": "python",
   "name": "python3"
  },
  "language_info": {
   "codemirror_mode": {
    "name": "ipython",
    "version": 3
   },
   "file_extension": ".py",
   "mimetype": "text/x-python",
   "name": "python",
   "nbconvert_exporter": "python",
   "pygments_lexer": "ipython3",
   "version": "3.7.10"
  },
  "papermill": {
   "default_parameters": {},
   "duration": 297.542543,
   "end_time": "2021-11-08T01:09:29.405964",
   "environment_variables": {},
   "exception": null,
   "input_path": "__notebook__.ipynb",
   "output_path": "__notebook__.ipynb",
   "parameters": {},
   "start_time": "2021-11-08T01:04:31.863421",
   "version": "2.3.3"
  }
 },
 "nbformat": 4,
 "nbformat_minor": 5
}
